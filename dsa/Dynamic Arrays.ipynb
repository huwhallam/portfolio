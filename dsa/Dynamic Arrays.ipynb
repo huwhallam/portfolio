{
 "cells": [
  {
   "cell_type": "markdown",
   "id": "a737b260-0fab-4ec2-8522-87027ee68953",
   "metadata": {},
   "source": [
    "# Dynamic Arrays"
   ]
  },
  {
   "cell_type": "markdown",
   "id": "9ab34a74-cb7c-4fdc-a17c-4ab5b3e6d55a",
   "metadata": {},
   "source": [
    "## Implement Dynamic Array\n",
    "\n",
    "<b>Python supports dynamic arrays.</b> However, assume for this problem that your programming language only supports fixed-size arrays. Implement a dynamic array data structure that supports the following:\n",
    "\n",
    "`Dynamic Array API:`\n",
    "\n",
    "- `append(x)`: adds element x to the end of the array\n",
    "- `get(i)`: returns the element at index i\n",
    "- `set(i, x)`: updates the preexisting element at index i to be x\n",
    "- `size()`: returns the number of elements in the array\n",
    "- `pop_back()`: removes the last element\n",
    "\n",
    "You should only declare arrays of a fixed size and not use built-in `append()` methods or equivalent. If you are coding in a strongly typed language, assume all elements are integers.\n",
    "\n",
    "Constraints:\n",
    "\n",
    "- All operations should work with arrays of up to 10^5 elements\n",
    "- All integer elements are between -10^9 and 10^9"
   ]
  },
  {
   "cell_type": "code",
   "execution_count": 3,
   "id": "7fdc951b-95ec-43c5-ae7e-fef58e111624",
   "metadata": {},
   "outputs": [],
   "source": [
    "class DynamicArray:\n",
    "    def __init__(self):\n",
    "        self.capacity = 10 # Number of slots in underlying array\n",
    "        self._size = 0 # Number of elements actually stored\n",
    "        self.fixed_array = [None] * self.capacity\n",
    "\n",
    "    def get(self, i):\n",
    "        if i < 0 or i >= self._size:\n",
    "            raise IndexError('Index out of bounds')\n",
    "        return self.fixed_array[i]\n",
    "\n",
    "    def set(self, i, x):\n",
    "        if i < 0 or i >= self._size:\n",
    "            raise IndexError('Index out of bounds')\n",
    "        self.fixed_array[i] = x\n",
    "\n",
    "    def size(self):\n",
    "        return self._size\n",
    "\n",
    "    def append(self, x):\n",
    "        # resize array if at capacity. I opt to double the capacity.\n",
    "        if self._size == self.capacity:\n",
    "            self.resize(self.capacity * 2)\n",
    "        self.fixed_array[self._size] = x\n",
    "        self._size += 1\n",
    "\n",
    "    def resize(self, new_capacity):\n",
    "        new_fixed_size_arr = [None] * new_capacity\n",
    "        for i in range(self._size):\n",
    "            new_fixed_size_arr[i] = self.fixed_array[i]\n",
    "        self.fixed_array = new_fixed_size_arr\n",
    "        self.capacity = new_capacity\n",
    "\n",
    "    def pop_back(self):\n",
    "        if self._size == 0:\n",
    "            raise IndexError('Index out of bounds')\n",
    "        self._size -= 1\n",
    "        # resize array if at less than 25% of capacity.\n",
    "        if (self._size < 0.25 * self.capacity) and (self.capacity > 10):\n",
    "            self.resize(self.capacity // 2)\n"
   ]
  },
  {
   "cell_type": "code",
   "execution_count": 4,
   "id": "0b1d1ae2-7df0-4936-928f-8f0a27967ded",
   "metadata": {},
   "outputs": [
    {
     "name": "stdout",
     "output_type": "stream",
     "text": [
      "A new array has been created and assigned to d\n",
      "1 has been appended to the array\n",
      "2 has been appended to the array\n",
      "get item 0: 1\n",
      "get item 1: 2\n",
      "The size of the array is: 2\n"
     ]
    }
   ],
   "source": [
    "# Example 1:\n",
    "d = DynamicArray()\n",
    "print(\"A new array has been created and assigned to d\")\n",
    "d.append(1)\n",
    "print(\"1 has been appended to the array\")\n",
    "d.append(2)\n",
    "print(\"2 has been appended to the array\")\n",
    "print(f\"get item 0: {d.get(0)}\")\n",
    "print(f\"get item 1: {d.get(1)}\")\n",
    "print(f\"The size of the array is: {d.size()}\")"
   ]
  },
  {
   "cell_type": "code",
   "execution_count": 5,
   "id": "f79b7b4b-e50c-41cb-bd48-f0cb9035cce9",
   "metadata": {},
   "outputs": [
    {
     "name": "stdout",
     "output_type": "stream",
     "text": [
      "A new array has been created and assigned to d\n",
      "1 has been appended to the array\n",
      "Item 0 has been set to 10\n",
      "Get item 0: 10\n"
     ]
    }
   ],
   "source": [
    "# Example 2:\n",
    "d = DynamicArray()\n",
    "print(\"A new array has been created and assigned to d\")\n",
    "d.append(1)\n",
    "print(\"1 has been appended to the array\")\n",
    "d.set(0, 10)\n",
    "print(\"Item 0 has been set to 10\")\n",
    "print(f\"Get item 0: {d.get(0)}\")"
   ]
  },
  {
   "cell_type": "code",
   "execution_count": 6,
   "id": "9ebd8e61-f619-407f-956a-c0e8a16f234f",
   "metadata": {},
   "outputs": [
    {
     "name": "stdout",
     "output_type": "stream",
     "text": [
      "A new array has been created and assigned to d\n",
      "1 has been appended to the array\n",
      "2 has been appended to the array\n",
      "The array has been popped back.\n",
      "The size of the array is: 1\n",
      "Get item 0: 1\n"
     ]
    }
   ],
   "source": [
    "# Example 3:\n",
    "d = DynamicArray()\n",
    "print(\"A new array has been created and assigned to d\")\n",
    "d.append(1)\n",
    "print(\"1 has been appended to the array\")\n",
    "d.append(2)\n",
    "print(\"2 has been appended to the array\")\n",
    "d.pop_back()\n",
    "print(\"The array has been popped back.\")\n",
    "print(f\"The size of the array is: {d.size()}\")\n",
    "print(f\"Get item 0: {d.get(0)}\")"
   ]
  },
  {
   "cell_type": "markdown",
   "id": "5b4982ec-1873-497a-9c6a-f2d2dad22090",
   "metadata": {},
   "source": [
    "#### Analysis\n",
    "get(), set() and size() take constant time: O(1). \n",
    "Append() and pop_back() also take constant time unless the array has to be resized, in which case they take O(n) time, where n is the number of elements in the array.\n",
    "Worst-case time: O(n)\n",
    "Amortized time: O(1)\n",
    "As we shrink the array when it is at less than 25% capacity, the worst case space complexity is O(4n) = O(n)."
   ]
  },
  {
   "cell_type": "markdown",
   "id": "4a0eb61b-bf96-410d-83b0-98c844571616",
   "metadata": {},
   "source": [
    "#### Extra dynamic array operations\n",
    "Add the following methods:\n",
    "- `pop(i)`: removes the element at a specific index. Every subsequent element should be shifted left. Return the element removed.\n",
    "- `contains(x)`: takes an element and returns whether it appears in the array\n",
    "- `insert(i, x)`: adds an element to an array at the specified index and shifts any subsequent elements right \n",
    "- `remove(x)`: removes the first instance of an element from the array. Return the index of the removed element or -1 if the element is not found\n"
   ]
  },
  {
   "cell_type": "code",
   "execution_count": 9,
   "id": "2b8f3ef6-3bb6-4456-ae90-e9e867b7b24e",
   "metadata": {},
   "outputs": [],
   "source": [
    "def pop(self, i):\n",
    "    if i < 0 or i >= self._size:\n",
    "        raise IndexError('Index out of bounds')\n",
    "    saved_element = self.fixed_array[i]\n",
    "    for j in range(i, self._size-1):\n",
    "        self.fixed_array[j] = self.fixed_array[j+1]\n",
    "    self.pop_back()\n",
    "    return saved_element\n",
    "\n",
    "DynamicArray.pop = pop\n",
    "\n",
    "\n",
    "def contains(self, x):\n",
    "    for i in range(self._size):\n",
    "        if self.fixed_array[i] == x:\n",
    "            return True\n",
    "    return False\n",
    "\n",
    "DynamicArray.contains = contains\n",
    "\n",
    "def insert(self, i, x):\n",
    "    self.append(self.fixed_array[self._size]) # calling append will resize the array as required\n",
    "    for j in range(self._size-2, i, -1):\n",
    "        self.fixed_array[j] = self.fixed_array[j-1]\n",
    "    self.fixed_array[i] = x\n",
    "\n",
    "DynamicArray.insert = insert\n",
    "\n",
    "def remove(self, x):\n",
    "    index = -1\n",
    "    for i in range(self._size):\n",
    "        if self.fixed_array[i] == x:\n",
    "            for j in range(i, self._size-1):\n",
    "                self.fixed_array[j] = self.fixed_array[j+1]\n",
    "            self.pop_back()\n",
    "            return i \n",
    "    return -1\n",
    "\n",
    "DynamicArray.remove = remove"
   ]
  },
  {
   "cell_type": "code",
   "execution_count": 10,
   "id": "8947391f-f958-4bd8-832a-dfa1ce2902f7",
   "metadata": {},
   "outputs": [
    {
     "name": "stdout",
     "output_type": "stream",
     "text": [
      "A new array has been created and assigned to d\n",
      "1 has been appended to the array\n",
      "2 has been appended to the array\n",
      "3 has been appended to the array\n",
      "Does the array contain 4? False\n",
      "Does the array contain 2? True\n",
      "We will now pop the second item.\n",
      "Index of item being popped: 2\n",
      "Does the array contain 2? False\n",
      "Now let's insert 2 back into the array at the second index.\n",
      "Does the array contain 2? True\n",
      "Another 2 has been appended to the array\n",
      "Now, let's remove the first 2\n",
      "Index of removed item: 1\n",
      "And the second...\n",
      "Index of removed item: 2\n",
      "Any more? -1\n",
      "The size of the array is: 2\n"
     ]
    }
   ],
   "source": [
    "# Example 4:\n",
    "d = DynamicArray()\n",
    "print(\"A new array has been created and assigned to d\")\n",
    "d.append(1)\n",
    "print(\"1 has been appended to the array\")\n",
    "d.append(2)\n",
    "print(\"2 has been appended to the array\")\n",
    "d.append(3)\n",
    "print(\"3 has been appended to the array\")\n",
    "print(f\"Does the array contain 4? {d.contains(4)}\")\n",
    "print(f\"Does the array contain 2? {d.contains(2)}\")\n",
    "print(\"We will now pop the second item.\")\n",
    "print(f\"Index of item being popped: {d.pop(1)}\")\n",
    "print(f\"Does the array contain 2? {d.contains(2)}\")\n",
    "print(\"Now let's insert 2 back into the array at the second index.\")\n",
    "d.insert(1, 2)\n",
    "print(f\"Does the array contain 2? {d.contains(2)}\")\n",
    "d.append(2)\n",
    "print(\"Another 2 has been appended to the array\")\n",
    "print(\"Now, let's remove the first 2\")\n",
    "print(f\"Index of removed item: {d.remove(2)}\")\n",
    "print(\"And the second...\")\n",
    "print(f\"Index of removed item: {d.remove(2)}\")\n",
    "print(f\"Any more? {d.remove(2)}\")\n",
    "print(f\"The size of the array is: {d.size()}\")"
   ]
  },
  {
   "cell_type": "markdown",
   "id": "2fcda335-ceae-436e-890e-7e7bd6d53082",
   "metadata": {},
   "source": [
    "#### Analysis\n",
    "- `pop(i)`: takes O(n-i) = O(n) time\n",
    "- `contains()` takes as many items in the array as it takes to reach the first matching element and a maximum of O(n)\n",
    "- `insert()` takes O(n-i)\n",
    "- `remove()` takes O(n) - it must cycle through the full array.\n",
    "\n",
    "If pop(), insert() or remove() lead to a resizing of the array, an additional O(n) will be added to the time. The amortized time for each operation is O(n)."
   ]
  }
 ],
 "metadata": {
  "kernelspec": {
   "display_name": "Python 3 (ipykernel)",
   "language": "python",
   "name": "python3"
  },
  "language_info": {
   "codemirror_mode": {
    "name": "ipython",
    "version": 3
   },
   "file_extension": ".py",
   "mimetype": "text/x-python",
   "name": "python",
   "nbconvert_exporter": "python",
   "pygments_lexer": "ipython3",
   "version": "3.12.4"
  }
 },
 "nbformat": 4,
 "nbformat_minor": 5
}
