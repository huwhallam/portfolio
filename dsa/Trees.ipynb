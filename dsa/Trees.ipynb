{
 "cells": [
  {
   "cell_type": "markdown",
   "id": "50bf858b-0bbf-444f-bf30-77be0ba31bd3",
   "metadata": {},
   "source": [
    "# Trees\n",
    "#### Basic binary tree\n",
    "Implement a nodal tree structure and methods to identify:\n",
    "- if a node is a leaf\n",
    "- the values of a node's children\n",
    "- the values of its grandchildren\n",
    "- the size of it's subree (the node and all of its descendants)\n",
    "- the height of its subtree."
   ]
  },
  {
   "cell_type": "code",
   "execution_count": 2,
   "id": "cb1ddd4f-aca7-4156-948d-5cee7ace8d07",
   "metadata": {},
   "outputs": [],
   "source": [
    "class Node:\n",
    "    def __init__(self, val, left=None, right=None):\n",
    "        self.val = val\n",
    "        self.left = left\n",
    "        self.right = right\n",
    "\n",
    "    def is_leaf(self):\n",
    "        return not self.left and not self.right\n",
    "\n",
    "    def children(self):\n",
    "        c = []\n",
    "        if self.left:\n",
    "            c.append(self.left.val)\n",
    "        if self.right:\n",
    "            c.append(self.right.val)\n",
    "        return c\n",
    "\n",
    "    def grandchildren(self):\n",
    "        g = []\n",
    "        b = ['left', 'right']\n",
    "        for child in [self.left, self.right]:\n",
    "            if child and child.left:\n",
    "                g.append(child.left.val)\n",
    "            if child and child.right:\n",
    "                g.append(child.right.val)\n",
    "        return g\n",
    "\n",
    "    def subtree_size(self):\n",
    "        def component_size(node):\n",
    "            if node:\n",
    "                return 1 + component_size(node.left) + component_size(node.right)\n",
    "            else:\n",
    "                return 0\n",
    "        return component_size(self)\n",
    "    \n",
    "    def subtree_height(self):\n",
    "        levels = set()\n",
    "        def child_check(current_node, l):\n",
    "            if current_node:\n",
    "                levels.add(l)\n",
    "                child_check(current_node.left, l+1)\n",
    "                child_check(current_node.right, l+1)\n",
    "            return\n",
    "        child_check(self,1)\n",
    "        return max(levels)"
   ]
  },
  {
   "cell_type": "code",
   "execution_count": 3,
   "id": "9e26e032-5e74-4b15-b6db-6a376b8cf57a",
   "metadata": {},
   "outputs": [
    {
     "name": "stdout",
     "output_type": "stream",
     "text": [
      "First node value: 5\n",
      "Is first node a leaf? True\n",
      "Adding more nodes to tree...\n",
      "Is first node still a leaf? False\n",
      "What are the first node's children's values? ['l', 'r']\n",
      "And the grandchildren's values? ['R', 'R']\n",
      "The size of the subtree is now 5 and the height is 3\n",
      "And the size of the right child's subtree is 2 and the height is 2\n"
     ]
    }
   ],
   "source": [
    "my_node = Node(5)\n",
    "print(f\"First node value: {my_node.val}\")\n",
    "print(f\"Is first node a leaf? {my_node.is_leaf()}\")\n",
    "print(\"Adding more nodes to tree...\")\n",
    "my_node.left = Node('l')\n",
    "my_node.left.right = Node('R')\n",
    "my_node.right = Node('r')\n",
    "my_node.right.right = Node('R')\n",
    "print(f\"Is first node still a leaf? {my_node.is_leaf()}\")\n",
    "print(f\"What are the first node's children's values? {my_node.children()}\")\n",
    "print(f\"And the grandchildren's values? {my_node.grandchildren()}\")\n",
    "print(f\"The size of the subtree is now {my_node.subtree_size()} and the height is {my_node.subtree_height()}\")\n",
    "print(f\"And the size of the right child's subtree is {my_node.right.subtree_size()} and the height is {my_node.right.subtree_height()}\")\n"
   ]
  },
  {
   "cell_type": "code",
   "execution_count": null,
   "id": "d6574207-95d3-4c0f-8fde-f7a3eb4bd2f6",
   "metadata": {},
   "outputs": [],
   "source": []
  },
  {
   "cell_type": "code",
   "execution_count": null,
   "id": "6c37f3e8-ac40-4420-b3d7-0a5ef8c751c8",
   "metadata": {},
   "outputs": [],
   "source": []
  },
  {
   "cell_type": "code",
   "execution_count": null,
   "id": "edf9f78a-a1e1-411e-9732-7e67e2abb88a",
   "metadata": {},
   "outputs": [],
   "source": []
  }
 ],
 "metadata": {
  "kernelspec": {
   "display_name": "Python 3 (ipykernel)",
   "language": "python",
   "name": "python3"
  },
  "language_info": {
   "codemirror_mode": {
    "name": "ipython",
    "version": 3
   },
   "file_extension": ".py",
   "mimetype": "text/x-python",
   "name": "python",
   "nbconvert_exporter": "python",
   "pygments_lexer": "ipython3",
   "version": "3.12.4"
  }
 },
 "nbformat": 4,
 "nbformat_minor": 5
}
