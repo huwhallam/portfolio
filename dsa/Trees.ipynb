{
 "cells": [
  {
   "cell_type": "markdown",
   "id": "50bf858b-0bbf-444f-bf30-77be0ba31bd3",
   "metadata": {},
   "source": [
    "# Trees\n",
    "#### Basic binary tree\n",
    "Implement a nodal tree structure and methods to identify:\n",
    "- if a node is a leaf\n",
    "- the values of a node's children\n",
    "- the values of its grandchildren\n",
    "- the size of it's subree (the node and all of its descendants)\n",
    "- the height of its subtree."
   ]
  },
  {
   "cell_type": "code",
   "execution_count": 2,
   "id": "cb1ddd4f-aca7-4156-948d-5cee7ace8d07",
   "metadata": {},
   "outputs": [],
   "source": [
    "class Node:\n",
    "    def __init__(self, val, left=None, right=None):\n",
    "        self.val = val\n",
    "        self.left = left\n",
    "        self.right = right\n",
    "\n",
    "    def is_leaf(self):\n",
    "        return not self.left and not self.right\n",
    "\n",
    "    def children(self):\n",
    "        c = []\n",
    "        if self.left:\n",
    "            c.append(self.left.val)\n",
    "        if self.right:\n",
    "            c.append(self.right.val)\n",
    "        return c\n",
    "\n",
    "    def grandchildren(self):\n",
    "        g = []\n",
    "        b = ['left', 'right']\n",
    "        for child in [self.left, self.right]:\n",
    "            if child and child.left:\n",
    "                g.append(child.left.val)\n",
    "            if child and child.right:\n",
    "                g.append(child.right.val)\n",
    "        return g\n",
    "\n",
    "    def subtree_size(self):\n",
    "        def component_size(node):\n",
    "            if node:\n",
    "                return 1 + component_size(node.left) + component_size(node.right)\n",
    "            else:\n",
    "                return 0\n",
    "        return component_size(self)\n",
    "    \n",
    "    def subtree_height(self):\n",
    "        levels = set()\n",
    "        def child_check(current_node, l):\n",
    "            if current_node:\n",
    "                levels.add(l)\n",
    "                child_check(current_node.left, l+1)\n",
    "                child_check(current_node.right, l+1)\n",
    "            return\n",
    "        child_check(self,1)\n",
    "        return max(levels)"
   ]
  },
  {
   "cell_type": "code",
   "execution_count": 3,
   "id": "9e26e032-5e74-4b15-b6db-6a376b8cf57a",
   "metadata": {},
   "outputs": [
    {
     "name": "stdout",
     "output_type": "stream",
     "text": [
      "First node value: 5\n",
      "Is first node a leaf? True\n",
      "Adding more nodes to tree...\n",
      "Is first node still a leaf? False\n",
      "What are the first node's children's values? ['l', 'r']\n",
      "And the grandchildren's values? ['R', 'R']\n",
      "The size of the subtree is now 5 and the height is 3\n",
      "And the size of the right child's subtree is 2 and the height is 2\n"
     ]
    }
   ],
   "source": [
    "my_node = Node(5)\n",
    "print(f\"First node value: {my_node.val}\")\n",
    "print(f\"Is first node a leaf? {my_node.is_leaf()}\")\n",
    "print(\"Adding more nodes to tree...\")\n",
    "my_node.left = Node('l')\n",
    "my_node.left.right = Node('R')\n",
    "my_node.right = Node('r')\n",
    "my_node.right.right = Node('R')\n",
    "print(f\"Is first node still a leaf? {my_node.is_leaf()}\")\n",
    "print(f\"What are the first node's children's values? {my_node.children()}\")\n",
    "print(f\"And the grandchildren's values? {my_node.grandchildren()}\")\n",
    "print(f\"The size of the subtree is now {my_node.subtree_size()} and the height is {my_node.subtree_height()}\")\n",
    "print(f\"And the size of the right child's subtree is {my_node.right.subtree_size()} and the height is {my_node.right.subtree_height()}\")\n"
   ]
  },
  {
   "cell_type": "markdown",
   "id": "1e96243a-7f78-4dd9-bb22-b3e0422365a0",
   "metadata": {},
   "source": [
    "What if we need to find the parent node? The following implementation returns...\n",
    "- whether a node is the root\n",
    "- the IDs of all ancestors\n",
    "- the depth of a node\n",
    "- the lowest common ancestor (LCA) of two nodes\n",
    "- the distance, or number of edges in the path, bettween two nodes"
   ]
  },
  {
   "cell_type": "code",
   "execution_count": 5,
   "id": "6c37f3e8-ac40-4420-b3d7-0a5ef8c751c8",
   "metadata": {},
   "outputs": [],
   "source": [
    "class Node:\n",
    "    def __init__(self, id, parent=None, left=None, right=None):\n",
    "        self.id = id\n",
    "        self.parent = parent\n",
    "        self.left = left\n",
    "        self.right = right\n",
    "\n",
    "    def is_root(self):\n",
    "        return not self.parent\n",
    "\n",
    "    def ancestors(self):\n",
    "        a = []\n",
    "        curr = self\n",
    "        while curr.parent:\n",
    "            a.append(curr.parent.id)\n",
    "            curr = curr.parent\n",
    "        return a\n",
    "\n",
    "    def depth(self):\n",
    "        d = 0\n",
    "        curr = self\n",
    "        while curr.parent:\n",
    "            d += 1\n",
    "            curr = curr.parent\n",
    "        return d\n",
    "\n",
    "    def lca(self, node2):\n",
    "        d = self.depth()\n",
    "        d2 = node2.depth()\n",
    "        curr, curr2 = self, node2\n",
    "        while d2 > d:\n",
    "            curr2 = curr2.parent\n",
    "            d2 -= 1\n",
    "        while d > d2:\n",
    "            curr = curr.parent\n",
    "            d -= 1\n",
    "        while curr != curr2:\n",
    "            if not curr.parent:\n",
    "                raise Exception(\"No common ancestor\")\n",
    "            curr, curr2 = curr.parent, curr2.parent\n",
    "        return curr.id\n",
    "\n",
    "    def distance(self, node2):\n",
    "        d1, d2 = self.depth(), node2.depth()\n",
    "        d = d1 + d2\n",
    "        curr, curr2 = self, node2\n",
    "        while d2 > d1:\n",
    "            curr2 = curr2.parent\n",
    "            d2 -= 1\n",
    "        while d1 > d2:\n",
    "            curr = curr.parent\n",
    "            d1 -= 1\n",
    "        while curr != curr2:\n",
    "            if not curr.parent:\n",
    "                raise Exception(\"Nodes not connected\")\n",
    "            d1 -= 1\n",
    "            d2 -= 1\n",
    "            curr, curr2 = curr.parent, curr2.parent\n",
    "        return d - d1 - d2       "
   ]
  },
  {
   "cell_type": "code",
   "execution_count": 6,
   "id": "edf9f78a-a1e1-411e-9732-7e67e2abb88a",
   "metadata": {},
   "outputs": [
    {
     "name": "stdout",
     "output_type": "stream",
     "text": [
      "First node id: a\n",
      "Is first node the root? True\n",
      "Adding more nodes to tree...\n",
      "Is first node still the root? True\n",
      "Is node_j a root? False\n",
      "What are node_j's ancestors? ['f', 'c', 'a']\n",
      "And node_h's ancestors? ['d', 'b', 'a']\n",
      "What are the depths of nodes a, b, f and h? a:0, b:1, f:2, h:3\n",
      "LCA between h and e is b; distance is 3\n",
      "LCA between j and f is f; distance is 1\n"
     ]
    }
   ],
   "source": [
    "my_node = Node('a')\n",
    "print(f\"First node id: {my_node.id}\")\n",
    "print(f\"Is first node the root? {my_node.is_root()}\")\n",
    "print(\"Adding more nodes to tree...\")\n",
    "node_b = Node('b',parent=my_node)\n",
    "my_node.left = node_b\n",
    "my_node.left.left = Node('d', parent=my_node.left)\n",
    "node_e = Node('e', parent=node_b)\n",
    "node_b.right = node_e\n",
    "my_node.right = Node('c', parent=my_node)\n",
    "node_f = Node('f', parent=my_node.right)\n",
    "my_node.right.left = node_f\n",
    "node_h = Node('h', parent=node_b.left)\n",
    "node_b.left.left = node_h\n",
    "my_node.left.left.right = Node('i', parent=node_b.left)\n",
    "my_node.right.left.left = Node('j', parent=node_f)\n",
    "node_j = my_node.right.left.left\n",
    "my_node.right.left.right = Node('k', parent=node_f)\n",
    "print(f\"Is first node still the root? {my_node.is_root()}\")\n",
    "print(f\"Is node_j a root? {node_j.is_root()}\")\n",
    "print(f\"What are node_j's ancestors? {node_j.ancestors()}\")\n",
    "print(f\"And node_h's ancestors? {node_h.ancestors()}\")\n",
    "print(f\"What are the depths of nodes a, b, f and h? a:{my_node.depth()}, b:{node_b.depth()}, f:{node_f.depth()}, h:{node_h.depth()}\")\n",
    "print(f\"LCA between h and e is {node_h.lca(node_e)}; distance is {node_h.distance(node_e)}\")\n",
    "print(f\"LCA between j and f is {node_j.lca(node_f)}; distance is {node_j.distance(node_f)}\")"
   ]
  },
  {
   "cell_type": "markdown",
   "id": "6a18b240-7107-43f8-a1fb-bd93aec2bcc1",
   "metadata": {},
   "source": [
    "#### Aligned chain\n",
    "Given a binary tree, return the length of the longest descendant chain of nodes whose ids align with their depth."
   ]
  },
  {
   "cell_type": "code",
   "execution_count": 8,
   "id": "ae0b2cb6-95ab-4691-80e0-43653ff364f0",
   "metadata": {},
   "outputs": [],
   "source": [
    "# Example binary tree\n",
    "new = Node(7)\n",
    "new.left = Node(1, parent=new)\n",
    "new.left.left = Node(2, parent=new.left)\n",
    "new.left.left.left = Node(4, parent=new.left.left)\n",
    "new.left.left.right = Node(3, parent=new.left.left)\n",
    "new.left.right = Node(8, parent=new.left)\n",
    "new.right = Node(3, parent=new)\n",
    "new.right.left = Node(2, parent=new.right)\n",
    "new.right.left.left = Node(3, parent=new.right.left)\n",
    "new.right.left.right = Node(3, parent=new.right.left)"
   ]
  },
  {
   "cell_type": "code",
   "execution_count": 9,
   "id": "45cda9ba-f161-462a-a6de-1c2775e657bd",
   "metadata": {},
   "outputs": [],
   "source": [
    "# Solution uses a recrsive function that makes a preorder traversal of the tree from the root\n",
    "def aligned_chain(node, chain_length=0, max_chain=0, depth=0):\n",
    "    \n",
    "    if not node:\n",
    "        #print(f'node not found, returning max_chain ', max_chain)\n",
    "        return max_chain\n",
    "    #print(f'running function on node {node.id} with parameters cl={chain_length}, mc={max_chain}, d={depth}')\n",
    "    if node.id == depth:\n",
    "        #print(f'node id = depth = {depth}. We have a winner!')\n",
    "        chain_length +=1\n",
    "        #print(f'chain incremented to ', chain_length)\n",
    "        max_chain = max(max_chain, chain_length)\n",
    "        #print(f'max_chain now ', max_chain)\n",
    "    else:\n",
    "        chain_length = 0\n",
    "        #print(f'node id != depth. Chain length reset to 0')\n",
    "    depth += 1\n",
    "    #print(f'depth incremented to ', depth)\n",
    "    #print(f'will now run function on left and right children of node {node.id}')\n",
    "    return max(aligned_chain(node.left, chain_length, max_chain, depth), aligned_chain(node.right, chain_length, max_chain, depth))"
   ]
  },
  {
   "cell_type": "code",
   "execution_count": 10,
   "id": "45b9d9ff-9aad-48e6-95a3-d9db673148a3",
   "metadata": {},
   "outputs": [
    {
     "data": {
      "text/plain": [
       "3"
      ]
     },
     "execution_count": 10,
     "metadata": {},
     "output_type": "execute_result"
    }
   ],
   "source": [
    "aligned_chain(new)"
   ]
  },
  {
   "cell_type": "markdown",
   "id": "23802425-9690-4556-b813-3fd2ed1c7cae",
   "metadata": {},
   "source": [
    "#### Hidden message\n",
    "A message is hidden in the nodes of a binary tree. Each node has two letters: b, i or a, followed by part of the message. The first letter determines the ordering:\n",
    "- If the first character is b, it goes before its left subtree, which goes before the right subtree (preorder).\n",
    "- If a, the node goes after its right subtree and the right subtree goes after the left subtree (postorder).\n",
    "- If i, the node goes after its left subtree and before its right (inorder)."
   ]
  },
  {
   "cell_type": "code",
   "execution_count": 12,
   "id": "ee590d8c-65b4-4df0-8989-b086d7efdd13",
   "metadata": {},
   "outputs": [],
   "source": [
    "# Example binary tree\n",
    "message = Node('bn')\n",
    "message.left = Node('i_', parent=message)\n",
    "message.left.left = Node('ae', parent=message.left)\n",
    "message.left.left.left = Node('bi', parent=message.left.left)\n",
    "message.left.left.right = Node('bc', parent=message.left.left)\n",
    "message.left.right = Node('it', parent=message.left)\n",
    "message.right = Node('a!', parent=message)\n",
    "message.right.left = Node('br', parent=message.right)\n",
    "message.right.left.right = Node('ay', parent=message.right.left)"
   ]
  },
  {
   "cell_type": "code",
   "execution_count": 13,
   "id": "3818370e-7dfd-49cf-a0d4-b995b899d68d",
   "metadata": {},
   "outputs": [],
   "source": [
    "# A more computationally efficient version of this solution would generate an array, rather than a string, \n",
    "# since adding to a string takes O(len(string)) complexity whereas adding to an array is only O(1). \n",
    "# Doing this would require embedding a recursive function into a non-recursive function (which would join the letters from the array),\n",
    "# rather than having a single recursive function.\n",
    "\n",
    "def hidden_message(root):\n",
    "    if not root:\n",
    "        #print('Node does not exist, returning empty string')\n",
    "        return ''\n",
    "    if root.id[0] not in ['b','a','i']:\n",
    "        raise Exception(f'Invalid node id: {root.id}')\n",
    "    if root.id[0] == 'b':\n",
    "        #print(f'We have a b-node! Will run function recursively on child nodes then return {root.id[1]} + left + right')\n",
    "        return root.id[1] + hidden_message(root.left) + hidden_message(root.right)\n",
    "    if root.id[0] == 'a':\n",
    "        #print(f'We have an a-node! Will run function recursively on child nodes then return left + right + {root.id[1]}')\n",
    "        return hidden_message(root.left) + hidden_message(root.right) + root.id[1]\n",
    "    if root.id[0] == 'i':\n",
    "        #print(f'We have an i-node! Will run function recursively on child nodes then return left + {root.id[1]} + right')        \n",
    "        return hidden_message(root.left) + root.id[1] + hidden_message(root.right) "
   ]
  },
  {
   "cell_type": "code",
   "execution_count": 14,
   "id": "b28c9e99-18d2-445a-ab1d-ca3e82a2fe2d",
   "metadata": {},
   "outputs": [
    {
     "data": {
      "text/plain": [
       "'nice_try!'"
      ]
     },
     "execution_count": 14,
     "metadata": {},
     "output_type": "execute_result"
    }
   ],
   "source": [
    "hidden_message(message)"
   ]
  },
  {
   "cell_type": "markdown",
   "id": "70d2912e-5d78-4f36-a7cb-352840264f6f",
   "metadata": {},
   "source": [
    "#### Aligned path\n",
    "Given a binary tree, return the length of the longest path (not necessarily descendant) where node value aligns with depth."
   ]
  },
  {
   "cell_type": "code",
   "execution_count": 16,
   "id": "c0f2757e-145f-49d9-9860-53bec6df7629",
   "metadata": {},
   "outputs": [],
   "source": [
    "def aligned_path(node, depth=0):\n",
    "    if not node:\n",
    "        return 0\n",
    "    if node.id == depth:\n",
    "        return 1 + aligned_path(node.left, depth+1) + aligned_path(node.right, depth+1)\n",
    "    else:\n",
    "        return max(aligned_path(node.left, depth+1), aligned_path(node.right, depth+1))\n"
   ]
  },
  {
   "cell_type": "code",
   "execution_count": 17,
   "id": "f01dff59-7bff-4701-8b20-7cd22205dd0b",
   "metadata": {},
   "outputs": [
    {
     "data": {
      "text/plain": [
       "3"
      ]
     },
     "execution_count": 17,
     "metadata": {},
     "output_type": "execute_result"
    }
   ],
   "source": [
    "aligned_path(new)"
   ]
  },
  {
   "cell_type": "markdown",
   "id": "34f02412-79c8-4a55-9ef7-bce808eefa95",
   "metadata": {},
   "source": [
    "#### Tree layout\n",
    "Given the root of a binary tree, layout the tree on a grid as follows:\n",
    "- the root is at $(r,c) = (0,0)$\n",
    "- left subtrees are placed one cell below their parents $(r+1)$\n",
    "- right subtrees are placed one cell right of their parents $(c+1)$\n",
    "\n",
    "If nodes are laid on the same coordinates they are stacked. Return the maximum number of nodes stacked on the same coordinate."
   ]
  },
  {
   "cell_type": "code",
   "execution_count": 19,
   "id": "9a6f1bf6-6d5a-48b9-a51b-322270a09b6c",
   "metadata": {},
   "outputs": [],
   "source": [
    "def layout(node):\n",
    "    position_count = dict()\n",
    "    def visit(node, r, c):\n",
    "        if not node:\n",
    "            return\n",
    "        if not (r, c) in position_count:\n",
    "            position_count[(r, c)] = 1\n",
    "        else:\n",
    "            position_count[(r, c)] += 1\n",
    "        visit(node.left, r+1, c)\n",
    "        visit(node.right, r, c+1)\n",
    "\n",
    "    visit(node, 0, 0)\n",
    "    max_stack = 0\n",
    "    return max(position_count.values()) "
   ]
  },
  {
   "cell_type": "code",
   "execution_count": 20,
   "id": "cbf0a952-5929-4a11-975d-f8348d80873d",
   "metadata": {},
   "outputs": [
    {
     "data": {
      "text/plain": [
       "2"
      ]
     },
     "execution_count": 20,
     "metadata": {},
     "output_type": "execute_result"
    }
   ],
   "source": [
    "layout(new)"
   ]
  },
  {
   "cell_type": "markdown",
   "id": "2d687adb-666a-46cd-a4c8-a1e689198df4",
   "metadata": {},
   "source": [
    "#### Triangle count\n",
    "Count the number of triangles in a tree, given the root. A triangle is a set of three nodes, a, b, c, where \n",
    "- a is the lowest common ancestor of b and c\n",
    "- b and c have the same depth\n",
    "- the paths from b and c to a consist respectively of only left and only right children."
   ]
  },
  {
   "cell_type": "code",
   "execution_count": 22,
   "id": "e4629b1f-18d8-45b4-a9db-d9a1ef0b11b9",
   "metadata": {},
   "outputs": [],
   "source": [
    "def triangle_count(root):\n",
    "    count = 0\n",
    "    if not root:\n",
    "        return count\n",
    "    curr_r = curr_l = root\n",
    "    while curr_l.left and curr_r.right:\n",
    "        count += 1\n",
    "        curr_l = curr_l.left\n",
    "        curr_r = curr_r.right\n",
    "        \n",
    "    return count + triangle_count(root.left) + triangle_count(root.right)"
   ]
  },
  {
   "cell_type": "code",
   "execution_count": 23,
   "id": "80c9ec98-a229-4af8-b06e-0aa9b2a673ce",
   "metadata": {},
   "outputs": [],
   "source": [
    "# Example binary tree\n",
    "new = Node(7)\n",
    "new.left = Node(1, parent=new)\n",
    "new.left.right = Node(2, parent=new.left)\n",
    "new.left.right.left = Node(3, parent=new.left.left)\n",
    "new.left.right.right = Node(8, parent=new.left)\n",
    "new.right = Node(3, parent=new)\n",
    "new.right.left = Node(2, parent=new.right)\n",
    "new.right.left.left = Node(3, parent=new.right.left)\n",
    "new.right.right = Node(4, parent=new.right.left)\n",
    "new.right.right.right = Node(3, parent=new.right.left)"
   ]
  },
  {
   "cell_type": "code",
   "execution_count": 24,
   "id": "e9a78a85-6260-4f8f-ba61-08910269c6ae",
   "metadata": {},
   "outputs": [
    {
     "data": {
      "text/plain": [
       "4"
      ]
     },
     "execution_count": 24,
     "metadata": {},
     "output_type": "execute_result"
    }
   ],
   "source": [
    "triangle_count(new)"
   ]
  },
  {
   "cell_type": "markdown",
   "id": "123cb4cd-9bb7-45d3-8d85-7297e1b2cd82",
   "metadata": {},
   "source": [
    "#### Invert a binary tree\n",
    "Such that what was left is right and what was right is left..."
   ]
  },
  {
   "cell_type": "code",
   "execution_count": 26,
   "id": "d2ed3481-ded4-48d6-a266-e5b4df01e0a1",
   "metadata": {},
   "outputs": [],
   "source": [
    "def invert_tree(node):\n",
    "    if not node:\n",
    "        return\n",
    "    node.left, node.right = node.right, node.left\n",
    "    invert_tree(node.left)\n",
    "    invert_tree(node.right)"
   ]
  },
  {
   "cell_type": "code",
   "execution_count": 27,
   "id": "0a62e112-e21b-489a-8abb-58f669adcad2",
   "metadata": {},
   "outputs": [],
   "source": [
    "invert_tree(new)"
   ]
  },
  {
   "cell_type": "code",
   "execution_count": 28,
   "id": "e2a70efc-406b-4ee2-bcb8-f4575dffe946",
   "metadata": {},
   "outputs": [
    {
     "name": "stdout",
     "output_type": "stream",
     "text": [
      "D0: 7\n",
      "D1: left=3, right=1\n",
      "D2: left-left=4, left-right=2, right-left=2\n",
      "D3: left-left-left=3, left-right-right=3, right-left-left=8, right-left-right=3\n"
     ]
    }
   ],
   "source": [
    "print(f\"D0: {new.id}\")\n",
    "print(f\"D1: left={new.left.id}, right={new.right.id}\")\n",
    "print(f\"D2: left-left={new.left.left.id}, left-right={new.left.right.id}, right-left={new.right.left.id}\")\n",
    "print(f\"D3: left-left-left={new.left.left.left.id}, left-right-right={new.left.right.right.id}, right-left-left={new.right.left.left.id}, right-left-right={new.right.left.right.id}\")"
   ]
  },
  {
   "cell_type": "markdown",
   "id": "dfdc0321-200e-437a-a18c-4699d3458c2d",
   "metadata": {},
   "source": [
    "#### Evaluate expression tree\n",
    "Given a tree that has either mathematical functions of integers as nodes, evaluate it as a mathematical expression. The tree is not binary and nodes may have more than two children."
   ]
  },
  {
   "cell_type": "code",
   "execution_count": 30,
   "id": "abe809c0-a441-4d91-a9cd-2817ed5f79f8",
   "metadata": {},
   "outputs": [],
   "source": [
    "class Math_Node:\n",
    "    def __init__(self, kind, num, children):\n",
    "        self.kind = kind # sum, product, max, min, or num\n",
    "        self.num = num # only valid when kind == num\n",
    "        self.children = children # only valid when kind != num"
   ]
  },
  {
   "cell_type": "code",
   "execution_count": 31,
   "id": "f8e7f07e-e4e4-4483-ba39-18ec90b3d4c0",
   "metadata": {},
   "outputs": [],
   "source": [
    "# Example tree\n",
    "math_root = Math_Node('min',None,[])\n",
    "math_root.children.append(Math_Node('max', None,[]))\n",
    "math_root.children[0].children.append(Math_Node('num', 4, None))\n",
    "math_root.children[0].children.append(Math_Node('num', 6, None))\n",
    "math_root.children[0].children.append(Math_Node('sum', None, []))\n",
    "math_root.children[0].children[2].children.append(Math_Node('num', 5, None))\n",
    "math_root.children[0].children[2].children.append(Math_Node('num', 7, None))\n",
    "math_root.children.append(Math_Node('sum', None,[]))\n",
    "math_root.children[1].children.append(Math_Node('product', None, []))\n",
    "math_root.children[1].children[0].children.append(Math_Node('num', 6, None))\n",
    "math_root.children[1].children[0].children.append(Math_Node('num', 8, None))"
   ]
  },
  {
   "cell_type": "code",
   "execution_count": 32,
   "id": "4ea667aa-3ed8-4eed-bf75-37d876f6d9f6",
   "metadata": {},
   "outputs": [],
   "source": [
    "def evaluate_exp(root):\n",
    "    if root.kind == 'sum':\n",
    "        return sum([evaluate_exp(x) for x in root.children])\n",
    "    elif root.kind == 'product':\n",
    "        res = 1\n",
    "        for child in root.children:\n",
    "            res *= evaluate_exp(child)\n",
    "        return res\n",
    "    elif root.kind == 'max':\n",
    "        return max([evaluate_exp(x) for x in root.children])\n",
    "    elif root.kind == 'min':\n",
    "        return min([evaluate_exp(x) for x in root.children])\n",
    "    elif root.kind == 'num':\n",
    "        return root.num\n",
    "    else:\n",
    "        raise ValueError(\"root kind not valid for mathematical expression tree\")\n",
    "\n"
   ]
  },
  {
   "cell_type": "code",
   "execution_count": 33,
   "id": "cd1d8df6-b92c-4371-a362-b5bf890fbfcb",
   "metadata": {},
   "outputs": [
    {
     "data": {
      "text/plain": [
       "12"
      ]
     },
     "execution_count": 33,
     "metadata": {},
     "output_type": "execute_result"
    }
   ],
   "source": [
    "evaluate_exp(math_root)"
   ]
  },
  {
   "cell_type": "markdown",
   "id": "81d9c0ef-c30f-42dc-9be5-d1bf165ec0d3",
   "metadata": {},
   "source": [
    "### Breadth-first search\n",
    "BFS traversals move level by level, visiting all nodes in a level before moving onto the next. To do this, they use a queue structure, rather than recursive iteration, adding children to one end of the queue while visiting each node in order from the other end."
   ]
  },
  {
   "cell_type": "code",
   "execution_count": 35,
   "id": "80e673eb-9060-4304-922c-9463db2fac2b",
   "metadata": {},
   "outputs": [],
   "source": [
    "# Queue\n",
    "class QueueNode:\n",
    "    def __init__(self, val):\n",
    "        self.val = val\n",
    "        self.next = None\n",
    "\n",
    "class Queue:\n",
    "    def __init__(self):\n",
    "        self.head = None\n",
    "        self.tail = None\n",
    "\n",
    "    def empty(self):\n",
    "        return not self.head\n",
    "\n",
    "    def push(self, val):\n",
    "        new = QueueNode(val)\n",
    "        if self.tail:\n",
    "            self.tail.next = new\n",
    "        else:\n",
    "            self.head = new\n",
    "        self.tail = new\n",
    "\n",
    "    def pop(self):\n",
    "        if self.head:\n",
    "            val = self.head.val\n",
    "            self.head = self.head.next\n",
    "            if not self.head:\n",
    "                self.tail = None\n",
    "            return val    "
   ]
  },
  {
   "cell_type": "code",
   "execution_count": 36,
   "id": "9caaa208-76a2-4728-861b-df5fdda7af1b",
   "metadata": {},
   "outputs": [],
   "source": [
    "# Node depth queue recipe for level-order traversal\n",
    "def node_depth_queue_recipe(root):\n",
    "    Q = Queue()\n",
    "    Q.push((root, 0)) # second element of tuple represents depth\n",
    "    while not Q.empty():\n",
    "        node, depth = Q.pop()\n",
    "        if not node:\n",
    "            continue\n",
    "        # Do something with node and depth\n",
    "        print(f\"Current node: {node.id}, depth={depth}\")\n",
    "        Q.push((node.left, depth+1))\n",
    "        Q.push((node.right, depth+1))\n",
    "    "
   ]
  },
  {
   "cell_type": "code",
   "execution_count": 37,
   "id": "e6beb511-d30d-440c-81c2-35b8bac2b09a",
   "metadata": {},
   "outputs": [
    {
     "name": "stdout",
     "output_type": "stream",
     "text": [
      "Current node: 7, depth=0\n",
      "Current node: 3, depth=1\n",
      "Current node: 1, depth=1\n",
      "Current node: 4, depth=2\n",
      "Current node: 2, depth=2\n",
      "Current node: 2, depth=2\n",
      "Current node: 3, depth=3\n",
      "Current node: 3, depth=3\n",
      "Current node: 8, depth=3\n",
      "Current node: 3, depth=3\n"
     ]
    }
   ],
   "source": [
    "node_depth_queue_recipe(new)"
   ]
  },
  {
   "cell_type": "markdown",
   "id": "79226316-ac10-46f3-a41c-d4688b7de324",
   "metadata": {},
   "source": [
    "#### Left view\n",
    "Given the root of a binary tree, return a list of the left-most node of each level."
   ]
  },
  {
   "cell_type": "code",
   "execution_count": 39,
   "id": "747b8b36-68fc-422a-9696-6557f931bdc8",
   "metadata": {},
   "outputs": [],
   "source": [
    "def left_view(root):\n",
    "    leftmost_nodes = [root.id]\n",
    "    next_level = 1\n",
    "    Q = Queue()\n",
    "    Q.push((root, 0))\n",
    "    while not Q.empty():\n",
    "        node, level = Q.pop()\n",
    "        if node:\n",
    "            if level == next_level:\n",
    "                leftmost_nodes.append(node.id)\n",
    "                next_level += 1\n",
    "            Q.push((node.left, level + 1))\n",
    "            Q.push((node.right, level + 1))\n",
    "    return leftmost_nodes"
   ]
  },
  {
   "cell_type": "code",
   "execution_count": 40,
   "id": "982cbf7a-3720-41a9-93ff-8e49577cdab0",
   "metadata": {},
   "outputs": [
    {
     "data": {
      "text/plain": [
       "[7, 3, 4, 3]"
      ]
     },
     "execution_count": 40,
     "metadata": {},
     "output_type": "execute_result"
    }
   ],
   "source": [
    "left_view(new)"
   ]
  },
  {
   "cell_type": "code",
   "execution_count": null,
   "id": "01973f74-c065-4182-9fcd-4de0d1ba2494",
   "metadata": {},
   "outputs": [],
   "source": []
  }
 ],
 "metadata": {
  "kernelspec": {
   "display_name": "Python 3 (ipykernel)",
   "language": "python",
   "name": "python3"
  },
  "language_info": {
   "codemirror_mode": {
    "name": "ipython",
    "version": 3
   },
   "file_extension": ".py",
   "mimetype": "text/x-python",
   "name": "python",
   "nbconvert_exporter": "python",
   "pygments_lexer": "ipython3",
   "version": "3.12.4"
  }
 },
 "nbformat": 4,
 "nbformat_minor": 5
}
