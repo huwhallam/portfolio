{
 "cells": [
  {
   "cell_type": "markdown",
   "id": "50bf858b-0bbf-444f-bf30-77be0ba31bd3",
   "metadata": {},
   "source": [
    "# Trees\n",
    "#### Basic binary tree\n",
    "Implement a nodal tree structure and methods to identify:\n",
    "- if a node is a leaf\n",
    "- the values of a node's children\n",
    "- the values of its grandchildren\n",
    "- the size of it's subree (the node and all of its descendants)\n",
    "- the height of its subtree."
   ]
  },
  {
   "cell_type": "code",
   "execution_count": 2,
   "id": "cb1ddd4f-aca7-4156-948d-5cee7ace8d07",
   "metadata": {},
   "outputs": [],
   "source": [
    "class Node:\n",
    "    def __init__(self, val, left=None, right=None):\n",
    "        self.val = val\n",
    "        self.left = left\n",
    "        self.right = right\n",
    "\n",
    "    def is_leaf(self):\n",
    "        return not self.left and not self.right\n",
    "\n",
    "    def children(self):\n",
    "        c = []\n",
    "        if self.left:\n",
    "            c.append(self.left.val)\n",
    "        if self.right:\n",
    "            c.append(self.right.val)\n",
    "        return c\n",
    "\n",
    "    def grandchildren(self):\n",
    "        g = []\n",
    "        b = ['left', 'right']\n",
    "        for child in [self.left, self.right]:\n",
    "            if child and child.left:\n",
    "                g.append(child.left.val)\n",
    "            if child and child.right:\n",
    "                g.append(child.right.val)\n",
    "        return g\n",
    "\n",
    "    def subtree_size(self):\n",
    "        def component_size(node):\n",
    "            if node:\n",
    "                return 1 + component_size(node.left) + component_size(node.right)\n",
    "            else:\n",
    "                return 0\n",
    "        return component_size(self)\n",
    "    \n",
    "    def subtree_height(self):\n",
    "        levels = set()\n",
    "        def child_check(current_node, l):\n",
    "            if current_node:\n",
    "                levels.add(l)\n",
    "                child_check(current_node.left, l+1)\n",
    "                child_check(current_node.right, l+1)\n",
    "            return\n",
    "        child_check(self,1)\n",
    "        return max(levels)"
   ]
  },
  {
   "cell_type": "code",
   "execution_count": 3,
   "id": "9e26e032-5e74-4b15-b6db-6a376b8cf57a",
   "metadata": {},
   "outputs": [
    {
     "name": "stdout",
     "output_type": "stream",
     "text": [
      "First node value: 5\n",
      "Is first node a leaf? True\n",
      "Adding more nodes to tree...\n",
      "Is first node still a leaf? False\n",
      "What are the first node's children's values? ['l', 'r']\n",
      "And the grandchildren's values? ['R', 'R']\n",
      "The size of the subtree is now 5 and the height is 3\n",
      "And the size of the right child's subtree is 2 and the height is 2\n"
     ]
    }
   ],
   "source": [
    "my_node = Node(5)\n",
    "print(f\"First node value: {my_node.val}\")\n",
    "print(f\"Is first node a leaf? {my_node.is_leaf()}\")\n",
    "print(\"Adding more nodes to tree...\")\n",
    "my_node.left = Node('l')\n",
    "my_node.left.right = Node('R')\n",
    "my_node.right = Node('r')\n",
    "my_node.right.right = Node('R')\n",
    "print(f\"Is first node still a leaf? {my_node.is_leaf()}\")\n",
    "print(f\"What are the first node's children's values? {my_node.children()}\")\n",
    "print(f\"And the grandchildren's values? {my_node.grandchildren()}\")\n",
    "print(f\"The size of the subtree is now {my_node.subtree_size()} and the height is {my_node.subtree_height()}\")\n",
    "print(f\"And the size of the right child's subtree is {my_node.right.subtree_size()} and the height is {my_node.right.subtree_height()}\")\n"
   ]
  },
  {
   "cell_type": "markdown",
   "id": "1e96243a-7f78-4dd9-bb22-b3e0422365a0",
   "metadata": {},
   "source": [
    "What if we need to find the parent node? The following implementation returns...\n",
    "- whether a node is the root\n",
    "- the IDs of all ancestors\n",
    "- the depth of a node\n",
    "- the lowest common ancestor (LCA) of two nodes\n",
    "- the distance, or number of edges in the path, bettween two nodes"
   ]
  },
  {
   "cell_type": "code",
   "execution_count": 5,
   "id": "6c37f3e8-ac40-4420-b3d7-0a5ef8c751c8",
   "metadata": {},
   "outputs": [],
   "source": [
    "class Node:\n",
    "    def __init__(self, id, parent=None, left=None, right=None):\n",
    "        self.id = id\n",
    "        self.parent = parent\n",
    "        self.left = left\n",
    "        self.right = right\n",
    "\n",
    "    def is_root(self):\n",
    "        return not self.parent\n",
    "\n",
    "    def ancestors(self):\n",
    "        a = []\n",
    "        curr = self\n",
    "        while curr.parent:\n",
    "            a.append(curr.parent.id)\n",
    "            curr = curr.parent\n",
    "        return a\n",
    "\n",
    "    def depth(self):\n",
    "        d = 0\n",
    "        curr = self\n",
    "        while curr.parent:\n",
    "            d += 1\n",
    "            curr = curr.parent\n",
    "        return d\n",
    "\n",
    "    def lca(self, node2):\n",
    "        d = self.depth()\n",
    "        d2 = node2.depth()\n",
    "        curr, curr2 = self, node2\n",
    "        while d2 > d:\n",
    "            curr2 = curr2.parent\n",
    "            d2 -= 1\n",
    "        while d > d2:\n",
    "            curr = curr.parent\n",
    "            d -= 1\n",
    "        while curr != curr2:\n",
    "            if not curr.parent:\n",
    "                raise Exception(\"No common ancestor\")\n",
    "            curr, curr2 = curr.parent, curr2.parent\n",
    "        return curr.id\n",
    "\n",
    "    def distance(self, node2):\n",
    "        d1, d2 = self.depth(), node2.depth()\n",
    "        d = d1 + d2\n",
    "        curr, curr2 = self, node2\n",
    "        while d2 > d1:\n",
    "            curr2 = curr2.parent\n",
    "            d2 -= 1\n",
    "        while d1 > d2:\n",
    "            curr = curr.parent\n",
    "            d1 -= 1\n",
    "        while curr != curr2:\n",
    "            if not curr.parent:\n",
    "                raise Exception(\"Nodes not connected\")\n",
    "            d1 -= 1\n",
    "            d2 -= 1\n",
    "            curr, curr2 = curr.parent, curr2.parent\n",
    "        return d - d1 - d2       "
   ]
  },
  {
   "cell_type": "code",
   "execution_count": 6,
   "id": "edf9f78a-a1e1-411e-9732-7e67e2abb88a",
   "metadata": {},
   "outputs": [
    {
     "name": "stdout",
     "output_type": "stream",
     "text": [
      "First node id: a\n",
      "Is first node the root? True\n",
      "Adding more nodes to tree...\n",
      "Is first node still the root? True\n",
      "Is node_j a root? False\n",
      "What are node_j's ancestors? ['f', 'c', 'a']\n",
      "And node_h's ancestors? ['d', 'b', 'a']\n",
      "What are the depths of nodes a, b, f and h? a:0, b:1, f:2, h:3\n",
      "LCA between h and e is b; distance is 3\n",
      "LCA between j and f is f; distance is 1\n"
     ]
    }
   ],
   "source": [
    "my_node = Node('a')\n",
    "print(f\"First node id: {my_node.id}\")\n",
    "print(f\"Is first node the root? {my_node.is_root()}\")\n",
    "print(\"Adding more nodes to tree...\")\n",
    "node_b = Node('b',parent=my_node)\n",
    "my_node.left = node_b\n",
    "my_node.left.left = Node('d', parent=my_node.left)\n",
    "node_e = Node('e', parent=node_b)\n",
    "node_b.right = node_e\n",
    "my_node.right = Node('c', parent=my_node)\n",
    "node_f = Node('f', parent=my_node.right)\n",
    "my_node.right.left = node_f\n",
    "node_h = Node('h', parent=node_b.left)\n",
    "node_b.left.left = node_h\n",
    "my_node.left.left.right = Node('i', parent=node_b.left)\n",
    "my_node.right.left.left = Node('j', parent=node_f)\n",
    "node_j = my_node.right.left.left\n",
    "my_node.right.left.right = Node('k', parent=node_f)\n",
    "print(f\"Is first node still the root? {my_node.is_root()}\")\n",
    "print(f\"Is node_j a root? {node_j.is_root()}\")\n",
    "print(f\"What are node_j's ancestors? {node_j.ancestors()}\")\n",
    "print(f\"And node_h's ancestors? {node_h.ancestors()}\")\n",
    "print(f\"What are the depths of nodes a, b, f and h? a:{my_node.depth()}, b:{node_b.depth()}, f:{node_f.depth()}, h:{node_h.depth()}\")\n",
    "print(f\"LCA between h and e is {node_h.lca(node_e)}; distance is {node_h.distance(node_e)}\")\n",
    "print(f\"LCA between j and f is {node_j.lca(node_f)}; distance is {node_j.distance(node_f)}\")"
   ]
  },
  {
   "cell_type": "markdown",
   "id": "6a18b240-7107-43f8-a1fb-bd93aec2bcc1",
   "metadata": {},
   "source": [
    "#### Aligned chain\n",
    "Given a binary tree, return the length of the longest descendant chain of nodes whose ids align with their depth."
   ]
  },
  {
   "cell_type": "code",
   "execution_count": 8,
   "id": "ae0b2cb6-95ab-4691-80e0-43653ff364f0",
   "metadata": {},
   "outputs": [],
   "source": [
    "# Example binary tree\n",
    "new = Node(7)\n",
    "new.left = Node(1, parent=new)\n",
    "new.left.left = Node(2, parent=new.left)\n",
    "new.left.left.left = Node(4, parent=new.left.left)\n",
    "new.left.left.right = Node(3, parent=new.left.left)\n",
    "new.left.right = Node(8, parent=new.left)\n",
    "new.right = Node(3, parent=new)\n",
    "new.right.left = Node(2, parent=new.right)\n",
    "new.right.left.left = Node(3, parent=new.right.left)\n",
    "new.right.left.right = Node(3, parent=new.right.left)"
   ]
  },
  {
   "cell_type": "code",
   "execution_count": 12,
   "id": "45cda9ba-f161-462a-a6de-1c2775e657bd",
   "metadata": {},
   "outputs": [],
   "source": [
    "# Solution uses a recrsive function that makes a preorder traversal of the tree from the root\n",
    "def aligned_chain(node, chain_length=0, max_chain=0, depth=0):\n",
    "    \n",
    "    if not node:\n",
    "        #print(f'node not found, returning max_chain ', max_chain)\n",
    "        return max_chain\n",
    "    #print(f'running function on node {node.id} with parameters cl={chain_length}, mc={max_chain}, d={depth}')\n",
    "    if node.id == depth:\n",
    "        #print(f'node id = depth = {depth}. We have a winner!')\n",
    "        chain_length +=1\n",
    "        #print(f'chain incremented to ', chain_length)\n",
    "        max_chain = max(max_chain, chain_length)\n",
    "        #print(f'max_chain now ', max_chain)\n",
    "    else:\n",
    "        chain_length = 0\n",
    "        #print(f'node id != depth. Chain length reset to 0')\n",
    "    depth += 1\n",
    "    #print(f'depth incremented to ', depth)\n",
    "    #print(f'will now run function on left and right children of node {node.id}')\n",
    "    return max(aligned_chain(node.left, chain_length, max_chain, depth), aligned_chain(node.right, chain_length, max_chain, depth))"
   ]
  },
  {
   "cell_type": "code",
   "execution_count": 14,
   "id": "45b9d9ff-9aad-48e6-95a3-d9db673148a3",
   "metadata": {},
   "outputs": [
    {
     "data": {
      "text/plain": [
       "3"
      ]
     },
     "execution_count": 14,
     "metadata": {},
     "output_type": "execute_result"
    }
   ],
   "source": [
    "aligned_chain(new)"
   ]
  },
  {
   "cell_type": "code",
   "execution_count": null,
   "id": "fd18eef2-c26f-4e82-b2b2-55318f00e8ab",
   "metadata": {},
   "outputs": [],
   "source": []
  }
 ],
 "metadata": {
  "kernelspec": {
   "display_name": "Python 3 (ipykernel)",
   "language": "python",
   "name": "python3"
  },
  "language_info": {
   "codemirror_mode": {
    "name": "ipython",
    "version": 3
   },
   "file_extension": ".py",
   "mimetype": "text/x-python",
   "name": "python",
   "nbconvert_exporter": "python",
   "pygments_lexer": "ipython3",
   "version": "3.12.4"
  }
 },
 "nbformat": 4,
 "nbformat_minor": 5
}
