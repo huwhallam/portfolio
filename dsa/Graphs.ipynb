{
 "cells": [
  {
   "cell_type": "markdown",
   "id": "32f05d7d-7f0a-4f26-9457-42fefbca2820",
   "metadata": {},
   "source": [
    "# Graphs\n",
    "#### Adjacency list\n",
    "Given an adjacency list, return:\n",
    "- the number of nodes in the graph\n",
    "- the number of edges in the graph\n",
    "- the degree of a node\n",
    "- the neighbours of a node."
   ]
  },
  {
   "cell_type": "code",
   "execution_count": 2,
   "id": "200487a5-e839-40da-9f7b-941a68fdff74",
   "metadata": {},
   "outputs": [],
   "source": [
    "adjacency_list = [\n",
    "    [1],       # node 0\n",
    "    [0,2,5,4], # node 1\n",
    "    [1,4,5],   # node 2\n",
    "    [],        # node 3\n",
    "    [5,2,1],   # node 4\n",
    "    [1,2,4],   # node 5\n",
    "]"
   ]
  },
  {
   "cell_type": "code",
   "execution_count": 3,
   "id": "a3981003-c941-4469-8939-3cbd076cf610",
   "metadata": {},
   "outputs": [],
   "source": [
    "def num_nodes(al):\n",
    "    return len(al)\n",
    "\n",
    "def num_edges(al):\n",
    "    e = 0\n",
    "    for n in al:\n",
    "        e += len(n)\n",
    "    return e//2\n",
    "\n",
    "def degree(node):\n",
    "    return len(node)\n",
    "\n",
    "def neighbours(node):\n",
    "    for n in node:\n",
    "        print(n)"
   ]
  },
  {
   "cell_type": "code",
   "execution_count": 4,
   "id": "0f72478c-cd00-4838-bfb4-309b410604eb",
   "metadata": {},
   "outputs": [
    {
     "name": "stdout",
     "output_type": "stream",
     "text": [
      "Number of nodes in adjacency list: 6\n",
      "Number of edges in adjacency list: 7\n",
      "Degree of node 4 from adjacency list: 3\n",
      "Neighbours of node 4 from adjacency list...\n",
      "5\n",
      "2\n",
      "1\n"
     ]
    }
   ],
   "source": [
    "print(f\"Number of nodes in adjacency list: {num_nodes(adjacency_list)}\")\n",
    "print(f\"Number of edges in adjacency list: {num_edges(adjacency_list)}\")\n",
    "print(f\"Degree of node 4 from adjacency list: {degree(adjacency_list[4])}\")\n",
    "print(f\"Neighbours of node 4 from adjacency list...\")\n",
    "neighbours(adjacency_list[4])"
   ]
  },
  {
   "cell_type": "markdown",
   "id": "a668e9e3-159c-4ad3-a9b9-195c1de68e9b",
   "metadata": {},
   "source": [
    "#### Transforming edge lists into adjacency lists\n",
    "The above adjacency list could have been given as an edge list. Edge lists are less useful as it takes $O(E)$ time to find a node's neighbours from an edge list, compared with $O(degree(node))$ for an adjacency list. As such, it is generally a good idea to transform an edge list into an adjacency list.\n",
    "\n",
    "Note that if searching for neighbours from an adjacency list becomes a bottleneck, we can transform the neighbour list into a set. Checking will then only require $O(1)$ time."
   ]
  },
  {
   "cell_type": "code",
   "execution_count": 6,
   "id": "179ce4fc-d4bc-4ee2-9980-f7d47acba462",
   "metadata": {},
   "outputs": [],
   "source": [
    "edges = [[0,1],[1,2],[1,4], [1,5], [2,4], [2,5], [4,5]]\n",
    "V = 6"
   ]
  },
  {
   "cell_type": "code",
   "execution_count": 7,
   "id": "cdd07e24-1bc5-45c8-96a9-427c8172becd",
   "metadata": {},
   "outputs": [],
   "source": [
    "def build_adjacency_list(V, edges):\n",
    "    graph = [[] for _ in range(V)]\n",
    "    for n1, n2 in edges:\n",
    "        graph[n1].append(n2)\n",
    "        graph[n2].append(n1)\n",
    "    return graph  "
   ]
  },
  {
   "cell_type": "code",
   "execution_count": 8,
   "id": "2ad04102-ce7c-42fa-99cd-54f3c31c9b28",
   "metadata": {},
   "outputs": [
    {
     "data": {
      "text/plain": [
       "[[1], [0, 2, 4, 5], [1, 4, 5], [], [1, 2, 5], [1, 2, 4]]"
      ]
     },
     "execution_count": 8,
     "metadata": {},
     "output_type": "execute_result"
    }
   ],
   "source": [
    "build_adjacency_list(6, edges)"
   ]
  },
  {
   "cell_type": "markdown",
   "id": "db393e0c-361c-4ac7-8b31-d335d567a35c",
   "metadata": {},
   "source": [
    "#### Adjacency list validation\n",
    "Given an adjacency list, write a function that returns whether the graph is a valid undirected graph. This requires:\n",
    "- every node is between 0 and V-1\n",
    "- there a no self-loops or nodes connected to themselves\n",
    "- there are no parallel edges connecting the same two nodes\n",
    "- adjacency for two nodes is recorded for each of them."
   ]
  },
  {
   "cell_type": "code",
   "execution_count": 10,
   "id": "51bb5acf-53b4-4747-8dc4-4cef60319826",
   "metadata": {},
   "outputs": [],
   "source": [
    "def validate(graph):\n",
    "    V = len(graph)\n",
    "    # Iterate through each node and each node's adjacencies to determine whether every value is between 0 and V-1\n",
    "    # Return False if any of a node's adjacencies == itself\n",
    "    # Return False if there are any node has repeat adjacencies\n",
    "    # For each adjacency, check that the counterpart node lists the counterpart adjacency\n",
    "    for i, node in enumerate(graph):\n",
    "        seen = set()\n",
    "        for a in node:\n",
    "            if a < 0 or a >= V or a == i or a in seen or i not in graph[a]:\n",
    "                return False\n",
    "            else:\n",
    "                seen.add(a)\n",
    "    return True"
   ]
  },
  {
   "cell_type": "code",
   "execution_count": 11,
   "id": "49c7414e-c198-4f99-ad89-45977526c4e1",
   "metadata": {},
   "outputs": [
    {
     "data": {
      "text/plain": [
       "True"
      ]
     },
     "execution_count": 11,
     "metadata": {},
     "output_type": "execute_result"
    }
   ],
   "source": [
    "validate(adjacency_list)"
   ]
  },
  {
   "cell_type": "code",
   "execution_count": 12,
   "id": "77c23c75-1892-4351-8a1b-5c25fcca6bde",
   "metadata": {},
   "outputs": [],
   "source": [
    "# The above validation function cycles through each of a node's adjacencies when it checks for matching adjacencies (requirement 4).\n",
    "# This is somewhat inefficient and could be improved by keeping a record of each adjacency as it's seen and then subsequently matching these.\n",
    "# This requires more space, but is much more efficient in terms of time.\n",
    "def validate(graph):\n",
    "    V=len(graph)\n",
    "    edges = set()\n",
    "    for i, node in enumerate(graph):\n",
    "        seen = set()\n",
    "        for a in node:\n",
    "            if a < 0 or a >= V or a == i or a in seen:\n",
    "                return False\n",
    "            seen.add(a)\n",
    "            edge = (min(i, a), max(i, a))\n",
    "            if edge in edges:\n",
    "                edges.remove(edge)\n",
    "            else:\n",
    "                edges.add(edge)\n",
    "    return len(edges) == 0"
   ]
  },
  {
   "cell_type": "code",
   "execution_count": 13,
   "id": "3d6be295-35a6-45b4-a657-11a953156ee1",
   "metadata": {},
   "outputs": [
    {
     "data": {
      "text/plain": [
       "True"
      ]
     },
     "execution_count": 13,
     "metadata": {},
     "output_type": "execute_result"
    }
   ],
   "source": [
    "validate(adjacency_list)"
   ]
  },
  {
   "cell_type": "markdown",
   "id": "14788bb2-cb0e-4013-a85a-9db8960f76a3",
   "metadata": {},
   "source": [
    "### Adjacency matrices\n",
    "An adjacency matrix uses booleans to represent connected nodes, ie. $(c,v) = True $ where node $c$ is connected to node $v$. This can be useful in the context of particularly dense graphs where nodes are connected to most other nodes. It requires $O(V^2)$ space, but only requires $O(1)$ time to check if two nodes are neighbours."
   ]
  },
  {
   "cell_type": "markdown",
   "id": "091419ac-bd00-408c-a720-637884f562ba",
   "metadata": {},
   "source": [
    "### Big O analysis\n",
    "- Space usage: $O(V+E)$\n",
    "- Count nodes: $O(1)$\n",
    "- Count edges: $O(V)$\n",
    "- Node degree: $O(1)$\n",
    "- Iterate through a node's neighbours: $O(degree(node))$\n",
    "- Find if two nodes are adjacent: $O(degree(node1))$ (can be optimized to $O(1)$)\n",
    "- Initialize from edge list and node count: $O(V+E)$\n",
    "- Validate adjacency list (no self-loops, no parallel edges, no missing directions): $O(V+E)$\n",
    "\n",
    "The maximum number of edges in a directed graph is $V*(V-1)$. For an undirected graph, it's half that: $V*(V-1)/2$\n",
    "\n",
    "#### Complexity simplifications\n",
    "| Graph type       | Range of edge count       | Example of simplification    |\n",
    "|------------------|---------------------------|------------------------------|\n",
    "| All undirected graphs | $0 \\le E \\le V*(V-1)/2$ | $O(V+E)$ (cannot be simplified) |\n",
    "| Complete graphs  | $E = V*(V-1)/2$           | $O(V+E) = O(V+V^2) = O(V^2)$ |\n",
    "| Connected graphs | $V-1 \\le E \\le V*(V-1)/2$ | $O(V+E) = O(E)$              |\n",
    "| Acyclic graphs (aka forests) | $0 \\le E \\le V-1$ | $O(V+E) = O(V)$          |\n",
    "| Trees (connected and acyclic) | $E = V-1$    | $O(V+E) = O(V)$              |\n",
    "| Graphs with max degree k (k is const) | $0 \\le E \\le V*K/2$ | $O(V+E) = O(V+K*V) = O(V)$ |"
   ]
  },
  {
   "cell_type": "markdown",
   "id": "45af198b-34c1-44da-a7fb-c553fc0981a1",
   "metadata": {},
   "source": [
    "#### Graph path\n",
    "Given an adjacency list for an undirected graph, return a simple path (no repetitions) between two nodes - or an empty array if there is no path."
   ]
  },
  {
   "cell_type": "code",
   "execution_count": 17,
   "id": "41f81b4b-a27b-499e-8f5a-4a8ac9439dff",
   "metadata": {},
   "outputs": [],
   "source": [
    "def path(graph, node1, node2):\n",
    "    seen = set()\n",
    "    def visit(node, path):\n",
    "        print(f'running visit on node {node} with path {path}')\n",
    "        if node in seen:\n",
    "            print(f'node {node} already seen. Will return empty array.')\n",
    "            return []\n",
    "        path.append(node)\n",
    "        print(f'Node {node} added to path. Path is now {path}')\n",
    "        if node2 in graph[node]:\n",
    "            print(f\"Node {node2} is in node {node}'s neighbour list. Bingo!\")\n",
    "            path.append(node2)\n",
    "            print(f'Node {node2} added to path. Path {path} will now be returned')\n",
    "            return path\n",
    "        seen.add(node)\n",
    "        print(f\"Node {node} now added to seen list\")\n",
    "        for n in graph[node]:\n",
    "            print(f\"Will now visit node {n}\")\n",
    "            visit(n, path)\n",
    "    path = visit(node1, [])\n",
    "    print(f\"Recursive function has finished. Path = {path}\")\n",
    "    return path\n"
   ]
  },
  {
   "cell_type": "code",
   "execution_count": 18,
   "id": "b79f2722-f85d-4b81-a685-ec98fc69144b",
   "metadata": {},
   "outputs": [],
   "source": [
    "# Solution creates a tree of predecessors\n",
    "def path(graph, node1, node2):\n",
    "    predecessors = {node2: None}\n",
    "\n",
    "    def visit(node):\n",
    "        for nbr in graph[node]:\n",
    "            if nbr not in predecessors:\n",
    "                predecessors[nbr] = node\n",
    "                visit(nbr)\n",
    "    visit(node2)\n",
    "    if node1 not in predecessors:\n",
    "        return []\n",
    "    print(f\"Predecessors: {predecessors.items()}\")\n",
    "    path = [node1]\n",
    "    while path[len(path)-1] != node2: # while final item in path is not yet node2...\n",
    "        path.append(predecessors[path[-1]])\n",
    "    return path"
   ]
  },
  {
   "cell_type": "code",
   "execution_count": 19,
   "id": "72a2a97d-4f8f-44d4-b2d3-74485b5a5a43",
   "metadata": {},
   "outputs": [],
   "source": [
    "#print(f\"Path from node 0 to 4 on graph defined above: {path(adjacency_list, 0,4)}\")\n",
    "#print(f\"Path from node 0 to 3 on graph defined above: {path(adjacency_list, 0,3)}\")"
   ]
  },
  {
   "cell_type": "code",
   "execution_count": 20,
   "id": "260b6e97-a6fb-474c-8109-fe0aec656c41",
   "metadata": {},
   "outputs": [
    {
     "name": "stdout",
     "output_type": "stream",
     "text": [
      "Predecessors: dict_items([(4, None), (5, 4), (1, 5), (0, 1), (2, 1)])\n",
      "Path from node 0 to 4 on graph defined above: [0, 1, 5, 4]\n",
      "Path from node 0 to 3 on graph defined above: []\n"
     ]
    }
   ],
   "source": [
    "print(f\"Path from node 0 to 4 on graph defined above: {path(adjacency_list, 0,4)}\")\n",
    "print(f\"Path from node 0 to 3 on graph defined above: {path(adjacency_list, 0,3)}\")"
   ]
  },
  {
   "cell_type": "markdown",
   "id": "8522a71c-f586-49eb-b58d-5eb60804d7a0",
   "metadata": {},
   "source": [
    "#### Tree check\n",
    "Check whether an adjacency list for an undirected graph represents a tree. A tree is acyclic and connected."
   ]
  },
  {
   "cell_type": "code",
   "execution_count": 22,
   "id": "0001e706-45f5-44f0-b79e-a68da08dfeb2",
   "metadata": {},
   "outputs": [],
   "source": [
    "# We can determine if a graph is connected by tracking visits to all neighbouring nodes in a set. \n",
    "# The set should be the same size as the node count.\n",
    "# We determine whether a graph is cyclic by visiting each nodes neighbours recursively.\n",
    "# At each visit there are three possible outcomes:\n",
    "# - the node visited has not yet been seen, in which case we add it to the set of seen nodes and visit its neighbours\n",
    "# - the node has been seen because is was the directly preceding node, in which case we ignore it\n",
    "# - the node has been seen but is not the directly preceding node. This indicates that a graph is cyclic.\n",
    "\n",
    "def tree_check(graph):\n",
    "    predecessors = {0:None}\n",
    "    found_cycle = False\n",
    "    \n",
    "    def visit(node):\n",
    "        nonlocal found_cycle\n",
    "        if found_cycle:\n",
    "            return # This exits the recursive function call\n",
    "        for nbr in graph[node]:\n",
    "            if nbr not in predecessors:\n",
    "                predecessors[nbr] = node\n",
    "                visit(nbr)\n",
    "            elif predecessors[node] != nbr: # we expect the predecessor to be in the neighbour list\n",
    "                found_cycle = True                   \n",
    "\n",
    "    visit(0)\n",
    "    connected = len(graph) == len(predecessors)\n",
    "    return  connected and not found_cycle"
   ]
  },
  {
   "cell_type": "code",
   "execution_count": 23,
   "id": "e8e52d0c-ecef-4a42-997d-f934d047b193",
   "metadata": {},
   "outputs": [],
   "source": [
    "adjacency_list_connected_acyclic = [\n",
    "    [2],       # node 0\n",
    "    [2,5], # node 1\n",
    "    [0,1,3,4],   # node 2\n",
    "    [2],        # node 3\n",
    "    [2],   # node 4\n",
    "    [1],   # node 5\n",
    "]\n",
    "\n",
    "adjacency_list_forest_acyclic = [\n",
    "    [2],       # node 0\n",
    "    [5], # node 1\n",
    "    [0,3],   # node 2\n",
    "    [2],        # node 3\n",
    "    [],   # node 4\n",
    "    [1],   # node 5\n",
    "]\n",
    "\n",
    "adjacency_list_connected_cyclic = [\n",
    "    [1],       # node 0\n",
    "    [0,2,5], # node 1\n",
    "    [1,3,4],   # node 2\n",
    "    [2],        # node 3\n",
    "    [2,5],   # node 4\n",
    "    [1,4],   # node 5\n",
    "]"
   ]
  },
  {
   "cell_type": "code",
   "execution_count": 24,
   "id": "a8033cda-2fc7-4933-b178-ceb5ea4d9ac5",
   "metadata": {},
   "outputs": [
    {
     "name": "stdout",
     "output_type": "stream",
     "text": [
      "Checking if connected, acyclic graph is tree: True\n",
      "Checking if forest graph is tree: False\n",
      "Checking if connected, cyclic graph is tree: False\n"
     ]
    }
   ],
   "source": [
    "print(f\"Checking if connected, acyclic graph is tree: {tree_check(adjacency_list_connected_acyclic)}\")\n",
    "print(f\"Checking if forest graph is tree: {tree_check(adjacency_list_forest_acyclic)}\")\n",
    "print(f\"Checking if connected, cyclic graph is tree: {tree_check(adjacency_list_connected_cyclic)}\")"
   ]
  },
  {
   "cell_type": "markdown",
   "id": "b9367322-1779-4af8-ab43-5a5978c45f1f",
   "metadata": {},
   "source": [
    "#### Spanning tree\n",
    "Given an undirected, connected graph, return a set of edges forming a spanning tree, ie a tree that spans every node with no cycles."
   ]
  },
  {
   "cell_type": "code",
   "execution_count": 26,
   "id": "8cd6a114-0a38-4b11-a41b-d2d9078461c2",
   "metadata": {},
   "outputs": [],
   "source": [
    "def spanning_tree(graph):\n",
    "    predecessors = dict()#{0: None}\n",
    "\n",
    "    def visit(node):\n",
    "        for nbr in graph[node]:\n",
    "            if nbr not in predecessors and nbr != 0:\n",
    "                predecessors[nbr] = node\n",
    "                visit(nbr)\n",
    "\n",
    "    visit(0)\n",
    "    return [[parent, child] for child, parent in predecessors.items()]"
   ]
  },
  {
   "cell_type": "code",
   "execution_count": 27,
   "id": "89636a7b-b790-4c8f-8915-1862035f903c",
   "metadata": {},
   "outputs": [
    {
     "data": {
      "text/plain": [
       "[[0, 1], [1, 2], [2, 3], [2, 4], [4, 5]]"
      ]
     },
     "execution_count": 27,
     "metadata": {},
     "output_type": "execute_result"
    }
   ],
   "source": [
    "spanning_tree(adjacency_list_connected_cyclic)"
   ]
  },
  {
   "cell_type": "code",
   "execution_count": 28,
   "id": "1b58dfa3-ac5a-452e-a8d2-912b734f1b89",
   "metadata": {},
   "outputs": [
    {
     "data": {
      "text/plain": [
       "[[0, 2], [2, 1], [1, 5], [2, 3], [2, 4]]"
      ]
     },
     "execution_count": 28,
     "metadata": {},
     "output_type": "execute_result"
    }
   ],
   "source": [
    "spanning_tree(adjacency_list_connected_acyclic)"
   ]
  },
  {
   "cell_type": "markdown",
   "id": "9f1c8767-ef7c-43d6-b49e-29b8be84226f",
   "metadata": {},
   "source": [
    "#### Reachability queries\n",
    "Given an adjacency list for an undirected graph and a list of queries, each represented by a pair of node indices, return a boolean list indicating whether the node pair for each query is connected."
   ]
  },
  {
   "cell_type": "code",
   "execution_count": 30,
   "id": "a93d3eb0-d605-4223-869c-b0ace75d2445",
   "metadata": {},
   "outputs": [],
   "source": [
    "# To answer this, I create a map of connected components, represented using a dictionary that lists the component associated with each node.\n",
    "# This avoids repeat traversals through the graph; once a node has been visited and can be viewed from the dictionary with $O(1)$ time.\n",
    "# This may be an inefficient approach if the query list is short and the graph is large and highly disconnected. \n",
    "\n",
    "def reachability(graph, queries):\n",
    "    seen = dict()\n",
    "    component = 1\n",
    "\n",
    "    def visit(node):\n",
    "        for nbr in graph[node]:\n",
    "            if nbr not in seen:\n",
    "                seen[nbr] = seen[node]\n",
    "                visit(nbr)\n",
    "    \n",
    "    for node in range(len(graph)):\n",
    "        if node not in seen:\n",
    "            seen[node] = component\n",
    "            component += 1\n",
    "            visit(node)\n",
    "    \n",
    "    \n",
    "    return [seen[q[0]] == seen[q[1]] for q in queries]"
   ]
  },
  {
   "cell_type": "code",
   "execution_count": 31,
   "id": "b345a753-094c-417b-ac15-d2628f972ef7",
   "metadata": {},
   "outputs": [
    {
     "data": {
      "text/plain": [
       "[True, False]"
      ]
     },
     "execution_count": 31,
     "metadata": {},
     "output_type": "execute_result"
    }
   ],
   "source": [
    "reachability(build_adjacency_list(6, edges), [[0,4],[0,3]])"
   ]
  },
  {
   "cell_type": "markdown",
   "id": "326b7025-d835-41bc-be05-3fcff2193ec4",
   "metadata": {},
   "source": [
    "#### Strongly connected graph\n",
    "Return whether a directed graph is strongly connected, ie all nodes can reach all other nodes, bilaterally."
   ]
  },
  {
   "cell_type": "code",
   "execution_count": 33,
   "id": "7f263ddc-e9a0-401f-82c5-cb73e31358d6",
   "metadata": {},
   "outputs": [],
   "source": [
    "# Conditions for strong connection:\n",
    "# 1. We must be able to get from the root node to all other nodes following the direction of their connections.\n",
    "# 2. We must be able to get from every other node back to the root (following the direction of their connections)\n",
    "\n",
    "def strongly_connected(graph):\n",
    "    reverse_graph = [[] for _ in graph]\n",
    "    for node in range(len(graph)):\n",
    "        for nbr in graph[node]:\n",
    "            reverse_graph[nbr].append(node)\n",
    "    seen = set()\n",
    "    seen_reverse = set()\n",
    "    def visit(node, graph, seen):\n",
    "        for nbr in graph[node]:\n",
    "            if nbr not in seen:\n",
    "                seen.add(nbr)\n",
    "                visit(nbr, graph, seen)\n",
    "    visit(0,graph,seen)\n",
    "    visit(0,reverse_graph,seen_reverse)\n",
    "    return len(seen) == len(seen_reverse) == len(graph)\n",
    "    "
   ]
  },
  {
   "cell_type": "code",
   "execution_count": 34,
   "id": "57821a3b-7cdb-4d8a-946c-f3f836e8c0c4",
   "metadata": {},
   "outputs": [],
   "source": [
    "adjacency_list_strongly_connected = [\n",
    "    [1,3],       # node 0\n",
    "    [2], # node 1\n",
    "    [0],   # node 2\n",
    "    [2],        # node 3\n",
    "]\n",
    "\n",
    "adjacency_list_weakly_connected = [\n",
    "    [1,2,3],       # node 0\n",
    "    [2], # node 1\n",
    "    [],   # node 2\n",
    "    [2],        # node 3\n",
    "]\n",
    "\n",
    "adjacency_list_disconnected = [\n",
    "    [1],       # node 0\n",
    "    [0], # node 1\n",
    "    [3],   # node 2\n",
    "    [2],        # node 3\n",
    "]"
   ]
  },
  {
   "cell_type": "code",
   "execution_count": 35,
   "id": "49239467-08a3-416a-be9c-fdd699d8e63e",
   "metadata": {},
   "outputs": [
    {
     "name": "stdout",
     "output_type": "stream",
     "text": [
      "Checking if 'strongly connected' graph is strongly connected: True\n",
      "Checking if 'weakly connected' graph is strongly connected: False\n",
      "Checking if 'disconnected' graph is strongly connected: False\n"
     ]
    }
   ],
   "source": [
    "print(f\"Checking if 'strongly connected' graph is strongly connected: {strongly_connected(adjacency_list_strongly_connected)}\")\n",
    "print(f\"Checking if 'weakly connected' graph is strongly connected: {strongly_connected(adjacency_list_weakly_connected)}\")\n",
    "print(f\"Checking if 'disconnected' graph is strongly connected: {strongly_connected(adjacency_list_disconnected)}\")"
   ]
  },
  {
   "cell_type": "code",
   "execution_count": null,
   "id": "a09154de-497b-4072-a2e2-d5baa6afbb3d",
   "metadata": {},
   "outputs": [],
   "source": []
  }
 ],
 "metadata": {
  "kernelspec": {
   "display_name": "Python 3 (ipykernel)",
   "language": "python",
   "name": "python3"
  },
  "language_info": {
   "codemirror_mode": {
    "name": "ipython",
    "version": 3
   },
   "file_extension": ".py",
   "mimetype": "text/x-python",
   "name": "python",
   "nbconvert_exporter": "python",
   "pygments_lexer": "ipython3",
   "version": "3.12.4"
  }
 },
 "nbformat": 4,
 "nbformat_minor": 5
}
