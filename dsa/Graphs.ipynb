{
 "cells": [
  {
   "cell_type": "markdown",
   "id": "32f05d7d-7f0a-4f26-9457-42fefbca2820",
   "metadata": {},
   "source": [
    "# Graphs\n",
    "#### Adjacency list\n",
    "Given an adjacency list, return:\n",
    "- the number of nodes in the graph\n",
    "- the number of edges in the graph\n",
    "- the degree of a node\n",
    "- the neighbours of a node."
   ]
  },
  {
   "cell_type": "code",
   "execution_count": 2,
   "id": "200487a5-e839-40da-9f7b-941a68fdff74",
   "metadata": {},
   "outputs": [],
   "source": [
    "adjacency_list = [\n",
    "    [1],       # node 0\n",
    "    [0,2,5,4], # node 1\n",
    "    [1,4,5],   # node 2\n",
    "    [],        # node 3\n",
    "    [5,2,1],   # node 4\n",
    "    [1,2,4],   # node 5\n",
    "]"
   ]
  },
  {
   "cell_type": "code",
   "execution_count": 3,
   "id": "a3981003-c941-4469-8939-3cbd076cf610",
   "metadata": {},
   "outputs": [],
   "source": [
    "def num_nodes(al):\n",
    "    return len(al)\n",
    "\n",
    "def num_edges(al):\n",
    "    e = 0\n",
    "    for n in al:\n",
    "        e += len(n)\n",
    "    return e//2\n",
    "\n",
    "def degree(node):\n",
    "    return len(node)\n",
    "\n",
    "def neighbours(node):\n",
    "    for n in node:\n",
    "        print(n)"
   ]
  },
  {
   "cell_type": "code",
   "execution_count": 4,
   "id": "0f72478c-cd00-4838-bfb4-309b410604eb",
   "metadata": {},
   "outputs": [
    {
     "name": "stdout",
     "output_type": "stream",
     "text": [
      "Number of nodes in adjacency list: 6\n",
      "Number of edges in adjacency list: 7\n",
      "Degree of node 4 from adjacency list: 3\n",
      "Neighbours of node 4 from adjacency list...\n",
      "5\n",
      "2\n",
      "1\n"
     ]
    }
   ],
   "source": [
    "print(f\"Number of nodes in adjacency list: {num_nodes(adjacency_list)}\")\n",
    "print(f\"Number of edges in adjacency list: {num_edges(adjacency_list)}\")\n",
    "print(f\"Degree of node 4 from adjacency list: {degree(adjacency_list[4])}\")\n",
    "print(f\"Neighbours of node 4 from adjacency list...\")\n",
    "neighbours(adjacency_list[4])"
   ]
  },
  {
   "cell_type": "markdown",
   "id": "a668e9e3-159c-4ad3-a9b9-195c1de68e9b",
   "metadata": {},
   "source": [
    "#### Transforming edge lists into adjacency lists\n",
    "The above adjacency list could have been given as an edge list. Edge lists are less useful as it takes $O(E)$ time to find a node's neighbours from an edge list, compared with $O(degree(node))$ for an adjacency list. As such, it is generally a good idea to transform an edge list into an adjacency list.\n",
    "\n",
    "Note that if searching for neighbours from an adjacency list becomes a bottleneck, we can transform the neighbour list into a set. Checking will then only require $O(1)$ time."
   ]
  },
  {
   "cell_type": "code",
   "execution_count": 6,
   "id": "179ce4fc-d4bc-4ee2-9980-f7d47acba462",
   "metadata": {},
   "outputs": [],
   "source": [
    "edges = [[0,1],[1,2],[1,4], [1,5], [2,4], [2,5], [4,5]]\n",
    "V = 6"
   ]
  },
  {
   "cell_type": "code",
   "execution_count": 7,
   "id": "cdd07e24-1bc5-45c8-96a9-427c8172becd",
   "metadata": {},
   "outputs": [],
   "source": [
    "def build_adjacency_list(V, edges):\n",
    "    graph = [[] for _ in range(V)]\n",
    "    for n1, n2 in edges:\n",
    "        graph[n1].append(n2)\n",
    "        graph[n2].append(n1)\n",
    "    return graph  "
   ]
  },
  {
   "cell_type": "code",
   "execution_count": 8,
   "id": "2ad04102-ce7c-42fa-99cd-54f3c31c9b28",
   "metadata": {},
   "outputs": [
    {
     "data": {
      "text/plain": [
       "[[1], [0, 2, 4, 5], [1, 4, 5], [], [1, 2, 5], [1, 2, 4]]"
      ]
     },
     "execution_count": 8,
     "metadata": {},
     "output_type": "execute_result"
    }
   ],
   "source": [
    "build_adjacency_list(6, edges)"
   ]
  },
  {
   "cell_type": "code",
   "execution_count": null,
   "id": "cc645f13-2dc9-4e4b-b6cd-8a0a534685c3",
   "metadata": {},
   "outputs": [],
   "source": []
  }
 ],
 "metadata": {
  "kernelspec": {
   "display_name": "Python 3 (ipykernel)",
   "language": "python",
   "name": "python3"
  },
  "language_info": {
   "codemirror_mode": {
    "name": "ipython",
    "version": 3
   },
   "file_extension": ".py",
   "mimetype": "text/x-python",
   "name": "python",
   "nbconvert_exporter": "python",
   "pygments_lexer": "ipython3",
   "version": "3.12.4"
  }
 },
 "nbformat": 4,
 "nbformat_minor": 5
}
