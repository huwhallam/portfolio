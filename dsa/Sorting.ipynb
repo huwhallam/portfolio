{
 "cells": [
  {
   "cell_type": "markdown",
   "id": "08d676e8-2152-4fcf-b2d2-4e05393df2a2",
   "metadata": {},
   "source": [
    "# Sorting\n",
    "There are two main approaches to sorting: comparison sorts and specialized sorts."
   ]
  },
  {
   "cell_type": "markdown",
   "id": "dc537fbb-5eef-4852-b63c-b196a47a7c91",
   "metadata": {},
   "source": [
    "### Comparison sorts\n",
    "Comparison sorts are one-size-fits-all approaches that can be applied to any data type. They abstract the logic of 'what goes before?' into a comparitor function."
   ]
  },
  {
   "cell_type": "markdown",
   "id": "00208ee9-3e98-4d13-899a-4842b3fb7ac3",
   "metadata": {},
   "source": [
    "#### Merge sort\n",
    "A recursize algorithm that splits the array in half, sorts each half recursively then merges them. Time complexity: $O(n*log(n))$"
   ]
  },
  {
   "cell_type": "code",
   "execution_count": 30,
   "id": "b9e77a0d-37f5-45f5-b69d-ac695206ee4c",
   "metadata": {},
   "outputs": [],
   "source": [
    "def cmp(x, y):\n",
    "    if x < y: return -1\n",
    "    elif x == y: return 0\n",
    "    else: return 1\n",
    "\n",
    "def merge(arr1, arr2):\n",
    "    i, j = 0, 0\n",
    "    merged_arr = []\n",
    "    while i < len(arr1) and j < len(arr2):\n",
    "        if cmp(arr1[i],arr2[j]) == 1:\n",
    "            merged_arr.append(arr2[j])\n",
    "            j += 1\n",
    "        else:\n",
    "            merged_arr.append(arr1[i])\n",
    "            i += 1\n",
    "    return merged_arr + arr1[i:] + arr2[j:]\n",
    "\n",
    "def merge_sort(arr):\n",
    "    n = len(arr)\n",
    "    if n <= 1:\n",
    "        return arr\n",
    "    left = merge_sort(arr[:n//2])\n",
    "    right = merge_sort(arr[n//2:])\n",
    "    return merge(left, right)"
   ]
  },
  {
   "cell_type": "code",
   "execution_count": 32,
   "id": "a0db85ff-3645-4d72-ac48-c38941513631",
   "metadata": {},
   "outputs": [
    {
     "name": "stdout",
     "output_type": "stream",
     "text": [
      "Initial array: [43, 25, 30, 49, 42, 33, 14, 59, 90, 98, 0, 28, 24, 23, 95, 84, 75, 8, 65, 97]\n",
      "Sorted array: [0, 8, 14, 23, 24, 25, 28, 30, 33, 42, 43, 49, 59, 65, 75, 84, 90, 95, 97, 98]\n"
     ]
    }
   ],
   "source": [
    "import random\n",
    "arr = random.sample(range(100),20)\n",
    "print(f\"Initial array: {arr}\")\n",
    "\n",
    "print(f\"Sorted array: {merge_sort(arr)}\")"
   ]
  },
  {
   "cell_type": "markdown",
   "id": "b6599a4b-8caa-49a0-9830-1b685fee45b4",
   "metadata": {},
   "source": [
    "#### Quicksort\n",
    "Quicksort recursively picks an element at random to use as a pivot then partitions the array into three parts: lower, equal to and higher than the pivot.\n",
    "Performance depends on the luck of the pivot drawn. In worst case scenarios, this can be close to $O(n^{2})$, though the probability of this is negligible with a large array. $O(n*log(n))$ is generally the worst performance, with high probability."
   ]
  },
  {
   "cell_type": "code",
   "execution_count": 63,
   "id": "19935bb2-bb1b-424e-979e-a0677e3fd70a",
   "metadata": {},
   "outputs": [],
   "source": [
    "def quicksort(arr):\n",
    "    n = len(arr)\n",
    "    if n <= 1: return arr\n",
    "    pivot = random.choice(arr)\n",
    "    lower, equal, higher = [], [], []\n",
    "    for x in arr:\n",
    "        if x < pivot:\n",
    "            lower.append(x)\n",
    "        elif x == pivot:\n",
    "            equal.append(x)\n",
    "        else:\n",
    "            higher.append(x)\n",
    "    return quicksort(lower) + equal + quicksort(higher)"
   ]
  },
  {
   "cell_type": "code",
   "execution_count": 65,
   "id": "4748ef91-ec9f-448f-9256-8bc0b3b714f9",
   "metadata": {},
   "outputs": [
    {
     "data": {
      "text/plain": [
       "[0, 8, 14, 23, 24, 25, 28, 30, 33, 42, 43, 49, 59, 65, 75, 84, 90, 95, 97, 98]"
      ]
     },
     "execution_count": 65,
     "metadata": {},
     "output_type": "execute_result"
    }
   ],
   "source": [
    "quicksort(arr)"
   ]
  },
  {
   "cell_type": "code",
   "execution_count": null,
   "id": "f10324e0-931e-400a-ac79-29bdb705d093",
   "metadata": {},
   "outputs": [],
   "source": []
  }
 ],
 "metadata": {
  "kernelspec": {
   "display_name": "Python 3 (ipykernel)",
   "language": "python",
   "name": "python3"
  },
  "language_info": {
   "codemirror_mode": {
    "name": "ipython",
    "version": 3
   },
   "file_extension": ".py",
   "mimetype": "text/x-python",
   "name": "python",
   "nbconvert_exporter": "python",
   "pygments_lexer": "ipython3",
   "version": "3.12.4"
  }
 },
 "nbformat": 4,
 "nbformat_minor": 5
}
