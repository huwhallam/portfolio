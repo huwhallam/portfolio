{
 "cells": [
  {
   "cell_type": "markdown",
   "id": "08d676e8-2152-4fcf-b2d2-4e05393df2a2",
   "metadata": {},
   "source": [
    "# Sorting\n",
    "There are two main approaches to sorting: comparison sorts and specialized sorts."
   ]
  },
  {
   "cell_type": "markdown",
   "id": "dc537fbb-5eef-4852-b63c-b196a47a7c91",
   "metadata": {},
   "source": [
    "### Comparison sorts\n",
    "Comparison sorts are one-size-fits-all approaches that can be applied to any data type. They abstract the logic of 'what goes before?' into a comparitor function."
   ]
  },
  {
   "cell_type": "markdown",
   "id": "00208ee9-3e98-4d13-899a-4842b3fb7ac3",
   "metadata": {},
   "source": [
    "#### Merge sort\n",
    "A recursize algorithm that splits the array in half, sorts each half recursively then merges them. Time complexity: $O(n*log(n))$"
   ]
  },
  {
   "cell_type": "code",
   "execution_count": 4,
   "id": "b9e77a0d-37f5-45f5-b69d-ac695206ee4c",
   "metadata": {},
   "outputs": [],
   "source": [
    "def cmp(x, y):\n",
    "    if x < y: return -1\n",
    "    elif x == y: return 0\n",
    "    else: return 1\n",
    "\n",
    "def merge(arr1, arr2):\n",
    "    i, j = 0, 0\n",
    "    merged_arr = []\n",
    "    while i < len(arr1) and j < len(arr2):\n",
    "        if cmp(arr1[i],arr2[j]) == 1:\n",
    "            merged_arr.append(arr2[j])\n",
    "            j += 1\n",
    "        else:\n",
    "            merged_arr.append(arr1[i])\n",
    "            i += 1\n",
    "    return merged_arr + arr1[i:] + arr2[j:]\n",
    "\n",
    "def merge_sort(arr):\n",
    "    n = len(arr)\n",
    "    if n <= 1:\n",
    "        return arr\n",
    "    left = merge_sort(arr[:n//2])\n",
    "    right = merge_sort(arr[n//2:])\n",
    "    return merge(left, right)"
   ]
  },
  {
   "cell_type": "code",
   "execution_count": 5,
   "id": "a0db85ff-3645-4d72-ac48-c38941513631",
   "metadata": {},
   "outputs": [
    {
     "name": "stdout",
     "output_type": "stream",
     "text": [
      "Initial array: [58, 74, 9, 28, 55, 73, 78, 0, 56, 22, 5, 32, 6, 40, 13, 27, 8, 30, 42, 64]\n",
      "Sorted array: [0, 5, 6, 8, 9, 13, 22, 27, 28, 30, 32, 40, 42, 55, 56, 58, 64, 73, 74, 78]\n"
     ]
    }
   ],
   "source": [
    "import random\n",
    "arr = random.sample(range(100),20)\n",
    "print(f\"Initial array: {arr}\")\n",
    "\n",
    "print(f\"Sorted array: {merge_sort(arr)}\")"
   ]
  },
  {
   "cell_type": "markdown",
   "id": "b6599a4b-8caa-49a0-9830-1b685fee45b4",
   "metadata": {},
   "source": [
    "#### Quicksort\n",
    "Quicksort recursively picks an element at random to use as a pivot then partitions the array into three parts: lower, equal to and higher than the pivot.\n",
    "Performance depends on the luck of the pivot drawn. In worst case scenarios, this can be close to $O(n^{2})$, though the probability of this is negligible with a large array. $O(n*log(n))$ is generally the worst performance, with high probability."
   ]
  },
  {
   "cell_type": "code",
   "execution_count": 7,
   "id": "19935bb2-bb1b-424e-979e-a0677e3fd70a",
   "metadata": {},
   "outputs": [],
   "source": [
    "def quicksort(arr):\n",
    "    n = len(arr)\n",
    "    if n <= 1: return arr\n",
    "    pivot = random.choice(arr)\n",
    "    lower, equal, higher = [], [], []\n",
    "    for x in arr:\n",
    "        if x < pivot:\n",
    "            lower.append(x)\n",
    "        elif x == pivot:\n",
    "            equal.append(x)\n",
    "        else:\n",
    "            higher.append(x)\n",
    "    return quicksort(lower) + equal + quicksort(higher)"
   ]
  },
  {
   "cell_type": "code",
   "execution_count": 8,
   "id": "4748ef91-ec9f-448f-9256-8bc0b3b714f9",
   "metadata": {},
   "outputs": [
    {
     "data": {
      "text/plain": [
       "[0, 5, 6, 8, 9, 13, 22, 27, 28, 30, 32, 40, 42, 55, 56, 58, 64, 73, 74, 78]"
      ]
     },
     "execution_count": 8,
     "metadata": {},
     "output_type": "execute_result"
    }
   ],
   "source": [
    "quicksort(arr)"
   ]
  },
  {
   "cell_type": "markdown",
   "id": "9aa77423-0e20-4a32-a2f8-363a32e5d97d",
   "metadata": {},
   "source": [
    "### Specialized sorts\n",
    "Some sorts will allow more efficient approaches, given particular parameters of the problem.\n",
    "\n",
    "#### Counting sort\n",
    "This approach is useful when there's a small range of different values. It involes a single iteration through the list to count repetitions of each value and then the construction of a new list from the counts. Time complexity is $O(n)$."
   ]
  },
  {
   "cell_type": "code",
   "execution_count": 10,
   "id": "081b0cb8-e3e0-4560-9a3b-a608b84a2623",
   "metadata": {},
   "outputs": [],
   "source": [
    "def counting_sort(arr, lower_bound, upper_bound):\n",
    "    counts = [0] * (upper_bound + 1 - lower_bound)\n",
    "    for entry in arr:\n",
    "        counts[entry - lower_bound] += 1\n",
    "    result = []\n",
    "    for entry, count in enumerate(counts):\n",
    "        result += [entry + lower_bound] * count\n",
    "    return result"
   ]
  },
  {
   "cell_type": "code",
   "execution_count": 11,
   "id": "49ea3e0c-1ea2-43e6-b3a8-b928b082fd50",
   "metadata": {},
   "outputs": [
    {
     "name": "stdout",
     "output_type": "stream",
     "text": [
      "Initial array: [51, 54, 51, 51, 53, 54, 50, 55, 50, 55, 50, 50, 52, 55, 55, 51, 51, 51, 50, 53]\n",
      "Count sorted: [50, 50, 50, 50, 50, 51, 51, 51, 51, 51, 51, 52, 53, 53, 54, 54, 55, 55, 55, 55]\n"
     ]
    }
   ],
   "source": [
    "arr = [random.randint(50,55) for i in range(20)]\n",
    "print(f\"Initial array: {arr}\")\n",
    "\n",
    "print(f\"Count sorted: {counting_sort(arr, 50, 55)}\")"
   ]
  },
  {
   "cell_type": "markdown",
   "id": "3beaa87b-83cb-4a8d-8e6d-aa23b66052cd",
   "metadata": {},
   "source": [
    "### Built-in sort\n",
    "Python has a `sorted()` function that takes a list and returns a new, sorted list. It also has a `sort()` function, that sorts a list in place. Both functions accept an optional `key()` function. Note that even though `sort()` sorts in place, it still requires $O(n)$ extra space."
   ]
  },
  {
   "cell_type": "markdown",
   "id": "570b1dd1-d9c7-4362-aafb-cb056fc8ac9d",
   "metadata": {},
   "source": [
    "#### Case-insensitive sort\n",
    "Sort a given array lexicographically - ie ignoring case - and in descending order."
   ]
  },
  {
   "cell_type": "code",
   "execution_count": 14,
   "id": "ffdc21b9-cccb-463c-a43a-12d5afba527f",
   "metadata": {},
   "outputs": [],
   "source": [
    "def case_insensitive_sort(arr):\n",
    "    arr.sort(key=lambda s: s.lower(), reverse=True)\n",
    "    return arr"
   ]
  },
  {
   "cell_type": "code",
   "execution_count": 15,
   "id": "bb249af9-c312-492f-8455-adc65853794d",
   "metadata": {},
   "outputs": [
    {
     "name": "stdout",
     "output_type": "stream",
     "text": [
      "Initial array: ['apple', 'Banana', '3', 'Cherry', '24', 'GRAPE', '30']\n",
      "After case-insensitive sort: ['GRAPE', 'Cherry', 'Banana', 'apple', '30', '3', '24']\n"
     ]
    }
   ],
   "source": [
    "arr = ['apple', 'Banana', '3', 'Cherry', '24', 'GRAPE', '30']\n",
    "print(f\"Initial array: {arr}\")\n",
    "\n",
    "print(f\"After case-insensitive sort: {case_insensitive_sort(arr)}\")"
   ]
  },
  {
   "cell_type": "markdown",
   "id": "82bf9013-c643-42b8-a963-16d8552d5ed7",
   "metadata": {},
   "source": [
    "#### Sort by element at index\n",
    "Given an array of intervals $[x,y]$, sort the array by the latter value."
   ]
  },
  {
   "cell_type": "code",
   "execution_count": 17,
   "id": "bfd985dc-d6ec-40dd-8fae-f1e2e9e0058d",
   "metadata": {},
   "outputs": [],
   "source": [
    "def sort_by_index(arr, idx):\n",
    "    arr.sort(key=lambda int: int[idx])\n",
    "    return arr"
   ]
  },
  {
   "cell_type": "code",
   "execution_count": 18,
   "id": "0a2190ce-a50c-478c-96cd-fbebfdb0292b",
   "metadata": {},
   "outputs": [
    {
     "name": "stdout",
     "output_type": "stream",
     "text": [
      "Initial array: [[3, 9], [1, 4], [4, 7], [2, 3]]\n",
      "After sort by index: [[2, 3], [1, 4], [4, 7], [3, 9]]\n"
     ]
    }
   ],
   "source": [
    "arr = [[3,9],[1,4],[4,7],[2,3]]\n",
    "print(f\"Initial array: {arr}\")\n",
    "\n",
    "print(f\"After sort by index: {sort_by_index(arr,idx=1)}\")"
   ]
  },
  {
   "cell_type": "markdown",
   "id": "99fa77cd-dc03-47c8-a418-8b856ba31c92",
   "metadata": {},
   "source": [
    "#### Sort by field\n",
    "Create an array of shuffled Card objects, representing a deck of playing cards. Sort the cards by value with Ace, Jack, Queen and King valued at 1, 11, 12 and 13, and Clubs < Hearts < Spades < Diamonds."
   ]
  },
  {
   "cell_type": "code",
   "execution_count": 20,
   "id": "498d6b24-cc08-4a28-add3-1aa2028be3db",
   "metadata": {},
   "outputs": [],
   "source": [
    "# First, create a card object\n",
    "class Card:\n",
    "    def __init__(self, value, suit):\n",
    "        if not isinstance(value, (str, int)):\n",
    "            raise TypeError('Invalid value: ', value)\n",
    "        if isinstance(value, int):\n",
    "            if not 2 <= value <=10:\n",
    "                raise ValueError('Invalid value: ', value)\n",
    "            else:\n",
    "                self.value = str(value)\n",
    "                self.rank = value\n",
    "        elif len(value) == 1:\n",
    "            if ord('2') <= ord(value) <= ord('9'):\n",
    "                self.value = value\n",
    "                self.rank = int(value)\n",
    "            else:\n",
    "                raise ValueError('Invalid value: ', value)\n",
    "        else:\n",
    "            special_values = {'ace':1, '10':10, 'jack':11, 'queen':12, 'king':13}\n",
    "            if value.lower() not in special_values:\n",
    "                raise ValueError('Invalid value: ', value)\n",
    "            self.value = value.lower()\n",
    "            self.rank = special_values[value.lower()]\n",
    "        if suit.lower() not in ['clubs', 'hearts', 'spades', 'diamonds']:\n",
    "            raise ValueError('Invalid suit: ', suit)\n",
    "        self.suit = suit.lower()"
   ]
  },
  {
   "cell_type": "code",
   "execution_count": 21,
   "id": "8c638f81-bea2-42a6-86de-445c3ac17fa4",
   "metadata": {},
   "outputs": [],
   "source": [
    "# Now create a randomly ordered hand of cards\n",
    "def deal(n):\n",
    "    if n > 52:\n",
    "        raise ValueError('Cannot deal more than 52 cards')\n",
    "    hand = []\n",
    "    suits = ['clubs', 'hearts', 'spades', 'diamonds']\n",
    "    values = ['ace', 'jack', 'queen', 'king'] + [str(x) for x in range(2,11)]\n",
    "    potential_deck = [[v,s] for v in values for s in suits]\n",
    "    for value, suit in random.sample(potential_deck, n):\n",
    "        hand.append(Card(value, suit))\n",
    "    return hand"
   ]
  },
  {
   "cell_type": "code",
   "execution_count": 22,
   "id": "08b80524-adb5-4f6c-b755-a4b13d912b23",
   "metadata": {},
   "outputs": [
    {
     "name": "stdout",
     "output_type": "stream",
     "text": [
      "Suit: diamonds, value: 5, rank: 5\n",
      "Suit: clubs, value: ace, rank: 1\n",
      "Suit: diamonds, value: king, rank: 13\n"
     ]
    }
   ],
   "source": [
    "# Test the deal() function\n",
    "hand = deal(3)\n",
    "for card in hand:\n",
    "    print(f\"Suit: {card.suit}, value: {card.value}, rank: {card.rank}\")"
   ]
  },
  {
   "cell_type": "code",
   "execution_count": 23,
   "id": "0e721ad0-8eac-4c63-ad66-76b681260d46",
   "metadata": {},
   "outputs": [],
   "source": [
    "# Now create the sort function\n",
    "def sort_by_field(hand):\n",
    "    suit_order = {'clubs':0, 'hearts':1, 'spades':2, 'diamonds':3}\n",
    "    hand.sort(key=lambda Card: (Card.rank, suit_order[Card.suit]))\n",
    "    return hand"
   ]
  },
  {
   "cell_type": "code",
   "execution_count": 24,
   "id": "8e47fdc2-9ee5-4b55-ad6f-38d2befbe3ca",
   "metadata": {},
   "outputs": [
    {
     "name": "stdout",
     "output_type": "stream",
     "text": [
      "Verifying sort order for randomly dealt selection of 12 cards...:\n",
      "Card 1: 2 of spades\n",
      "Card 2: 3 of clubs\n",
      "Card 3: 3 of spades\n",
      "Card 4: 3 of diamonds\n",
      "Card 5: 7 of spades\n",
      "Card 6: 7 of diamonds\n",
      "Card 7: 8 of hearts\n",
      "Card 8: 10 of diamonds\n",
      "Card 9: queen of spades\n",
      "Card 10: queen of diamonds\n",
      "Card 11: king of hearts\n",
      "Card 12: king of spades\n"
     ]
    }
   ],
   "source": [
    "n = 12\n",
    "print(f\"Verifying sort order for randomly dealt selection of {n} cards...:\")\n",
    "for count, card in enumerate(sort_by_field(deal(n))):\n",
    "        print(f\"Card {count+1}: {card.value} of {card.suit}\")"
   ]
  },
  {
   "cell_type": "markdown",
   "id": "ef93ae1a-6b30-46fa-ac70-eb24755f61b1",
   "metadata": {},
   "source": [
    "#### New deck order\n",
    "Sort a given deck into 'new deck order', with suits separated, in the order Hearts, Clubs, Diamonds, Spades. Ace is low, king is high."
   ]
  },
  {
   "cell_type": "code",
   "execution_count": 28,
   "id": "bb2ce9a0-da8d-476a-a218-5f10435649d4",
   "metadata": {},
   "outputs": [],
   "source": [
    "def new_deck_order(hand):\n",
    "    suit_order = {'hearts':0, 'clubs':1, 'diamonds':2, 'spades':3}\n",
    "    hand.sort(key=lambda Card: (suit_order[Card.suit], Card.rank))\n",
    "    return hand"
   ]
  },
  {
   "cell_type": "code",
   "execution_count": 30,
   "id": "0593a449-2f7d-4145-8256-bd02bca44000",
   "metadata": {},
   "outputs": [
    {
     "name": "stdout",
     "output_type": "stream",
     "text": [
      "Verifying new deck order sort for randomly dealt selection of 12 cards...:\n",
      "Card 1: 7 of hearts\n",
      "Card 2: king of hearts\n",
      "Card 3: 4 of clubs\n",
      "Card 4: 6 of clubs\n",
      "Card 5: 7 of clubs\n",
      "Card 6: queen of clubs\n",
      "Card 7: 7 of diamonds\n",
      "Card 8: 3 of spades\n",
      "Card 9: 4 of spades\n",
      "Card 10: 5 of spades\n",
      "Card 11: 6 of spades\n",
      "Card 12: jack of spades\n"
     ]
    }
   ],
   "source": [
    "n = 12\n",
    "print(f\"Verifying new deck order sort for randomly dealt selection of {n} cards...:\")\n",
    "for count, card in enumerate(new_deck_order(deal(n))):\n",
    "        print(f\"Card {count+1}: {card.value} of {card.suit}\")"
   ]
  },
  {
   "cell_type": "markdown",
   "id": "f081a312-70fe-43a1-a988-4bcb886e8f6b",
   "metadata": {},
   "source": [
    "#### Stable sorting\n",
    "Now sort by value while preserving the given order of suits. <i>Stable</i> sorting algorithms break ties by using the input order."
   ]
  },
  {
   "cell_type": "code",
   "execution_count": 33,
   "id": "accf6a95-29b5-4637-aa72-887ecfbdaf83",
   "metadata": {},
   "outputs": [],
   "source": [
    "# Python's sort is stable by default, so we only need a single sort key.\n",
    "def stable_sort(hand):\n",
    "    hand.sort(key=lambda Card: Card.rank)\n",
    "    return hand"
   ]
  },
  {
   "cell_type": "markdown",
   "id": "cf91828a-3047-4c33-8d9f-9f8c68dbb0dc",
   "metadata": {},
   "source": [
    "#### Sorting by frequency\n",
    "Given a string of lowercase letters, sort it by the frequency of each letter, high to low, breaking ties by using allphabetical order."
   ]
  },
  {
   "cell_type": "code",
   "execution_count": 45,
   "id": "e898b917-a495-46ed-a608-896d4cf48ba4",
   "metadata": {},
   "outputs": [],
   "source": [
    "def freq_sort(word):\n",
    "    letter_freq = dict()\n",
    "    for l in word:\n",
    "        if l not in letter_freq:\n",
    "            letter_freq[l] = 0\n",
    "        letter_freq[l] += 1\n",
    "    res = ''.join(sorted(sorted(letter_freq), key=lambda l: letter_freq[l], reverse=True))\n",
    "    return res"
   ]
  },
  {
   "cell_type": "code",
   "execution_count": 49,
   "id": "c04c2a08-fbc9-492a-9d2f-b19a83a51057",
   "metadata": {},
   "outputs": [
    {
     "name": "stdout",
     "output_type": "stream",
     "text": [
      "Applying frequency sort to 'hello': leho\n",
      "Applying frequency sort to 'supercalifragilisticexpialidocious': iaclseoprudfgtx\n"
     ]
    }
   ],
   "source": [
    "word = 'hello'\n",
    "print(f\"Applying frequency sort to '{word}': {freq_sort(word)}\")\n",
    "word = 'supercalifragilisticexpialidocious'\n",
    "print(f\"Applying frequency sort to '{word}': {freq_sort(word)}\")"
   ]
  },
  {
   "cell_type": "code",
   "execution_count": null,
   "id": "31b2e515-afeb-4e0a-84e3-5df435519ba7",
   "metadata": {},
   "outputs": [],
   "source": []
  }
 ],
 "metadata": {
  "kernelspec": {
   "display_name": "Python 3 (ipykernel)",
   "language": "python",
   "name": "python3"
  },
  "language_info": {
   "codemirror_mode": {
    "name": "ipython",
    "version": 3
   },
   "file_extension": ".py",
   "mimetype": "text/x-python",
   "name": "python",
   "nbconvert_exporter": "python",
   "pygments_lexer": "ipython3",
   "version": "3.12.4"
  }
 },
 "nbformat": 4,
 "nbformat_minor": 5
}
