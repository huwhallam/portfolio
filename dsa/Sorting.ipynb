{
 "cells": [
  {
   "cell_type": "markdown",
   "id": "08d676e8-2152-4fcf-b2d2-4e05393df2a2",
   "metadata": {},
   "source": [
    "# Sorting\n",
    "There are two main approaches to sorting: comparison sorts and specialized sorts."
   ]
  },
  {
   "cell_type": "markdown",
   "id": "dc537fbb-5eef-4852-b63c-b196a47a7c91",
   "metadata": {},
   "source": [
    "### Comparison sorts\n",
    "Comparison sorts are one-size-fits-all approaches that can be applied to any data type. They abstract the logic of 'what goes before?' into a comparitor function."
   ]
  },
  {
   "cell_type": "markdown",
   "id": "00208ee9-3e98-4d13-899a-4842b3fb7ac3",
   "metadata": {},
   "source": [
    "#### Merge sort\n",
    "A recursize algorithm that splits the array in half, sorts each half recursively then merges them. Time complexity: $O(n*log(n))$"
   ]
  },
  {
   "cell_type": "code",
   "execution_count": 30,
   "id": "b9e77a0d-37f5-45f5-b69d-ac695206ee4c",
   "metadata": {},
   "outputs": [],
   "source": [
    "def cmp(x, y):\n",
    "    if x < y: return -1\n",
    "    elif x == y: return 0\n",
    "    else: return 1\n",
    "\n",
    "def merge(arr1, arr2):\n",
    "    i, j = 0, 0\n",
    "    merged_arr = []\n",
    "    while i < len(arr1) and j < len(arr2):\n",
    "        if cmp(arr1[i],arr2[j]) == 1:\n",
    "            merged_arr.append(arr2[j])\n",
    "            j += 1\n",
    "        else:\n",
    "            merged_arr.append(arr1[i])\n",
    "            i += 1\n",
    "    return merged_arr + arr1[i:] + arr2[j:]\n",
    "\n",
    "def merge_sort(arr):\n",
    "    n = len(arr)\n",
    "    if n <= 1:\n",
    "        return arr\n",
    "    left = merge_sort(arr[:n//2])\n",
    "    right = merge_sort(arr[n//2:])\n",
    "    return merge(left, right)"
   ]
  },
  {
   "cell_type": "code",
   "execution_count": 85,
   "id": "a0db85ff-3645-4d72-ac48-c38941513631",
   "metadata": {},
   "outputs": [
    {
     "name": "stdout",
     "output_type": "stream",
     "text": [
      "Initial array: [31, 18, 52, 19, 81, 53, 96, 11, 41, 14, 32, 94, 8, 69, 87, 90, 66, 40, 17, 10]\n",
      "Sorted array: [8, 10, 11, 14, 17, 18, 19, 31, 32, 40, 41, 52, 53, 66, 69, 81, 87, 90, 94, 96]\n"
     ]
    }
   ],
   "source": [
    "import random\n",
    "arr = random.sample(range(100),20)\n",
    "print(f\"Initial array: {arr}\")\n",
    "\n",
    "print(f\"Sorted array: {merge_sort(arr)}\")"
   ]
  },
  {
   "cell_type": "markdown",
   "id": "b6599a4b-8caa-49a0-9830-1b685fee45b4",
   "metadata": {},
   "source": [
    "#### Quicksort\n",
    "Quicksort recursively picks an element at random to use as a pivot then partitions the array into three parts: lower, equal to and higher than the pivot.\n",
    "Performance depends on the luck of the pivot drawn. In worst case scenarios, this can be close to $O(n^{2})$, though the probability of this is negligible with a large array. $O(n*log(n))$ is generally the worst performance, with high probability."
   ]
  },
  {
   "cell_type": "code",
   "execution_count": 63,
   "id": "19935bb2-bb1b-424e-979e-a0677e3fd70a",
   "metadata": {},
   "outputs": [],
   "source": [
    "def quicksort(arr):\n",
    "    n = len(arr)\n",
    "    if n <= 1: return arr\n",
    "    pivot = random.choice(arr)\n",
    "    lower, equal, higher = [], [], []\n",
    "    for x in arr:\n",
    "        if x < pivot:\n",
    "            lower.append(x)\n",
    "        elif x == pivot:\n",
    "            equal.append(x)\n",
    "        else:\n",
    "            higher.append(x)\n",
    "    return quicksort(lower) + equal + quicksort(higher)"
   ]
  },
  {
   "cell_type": "code",
   "execution_count": 65,
   "id": "4748ef91-ec9f-448f-9256-8bc0b3b714f9",
   "metadata": {},
   "outputs": [
    {
     "data": {
      "text/plain": [
       "[0, 8, 14, 23, 24, 25, 28, 30, 33, 42, 43, 49, 59, 65, 75, 84, 90, 95, 97, 98]"
      ]
     },
     "execution_count": 65,
     "metadata": {},
     "output_type": "execute_result"
    }
   ],
   "source": [
    "quicksort(arr)"
   ]
  },
  {
   "cell_type": "markdown",
   "id": "9aa77423-0e20-4a32-a2f8-363a32e5d97d",
   "metadata": {},
   "source": [
    "### Specialized sorts\n",
    "Some sorts will allow more efficient approaches, given particular parameters of the problem.\n",
    "\n",
    "#### Counting sort\n",
    "This approach is useful when there's a small range of different values. It involes a single iteration through the list to count repetitions of each value and then the construction of a new list from the counts. Time complexity is $O(n)$."
   ]
  },
  {
   "cell_type": "code",
   "execution_count": 115,
   "id": "081b0cb8-e3e0-4560-9a3b-a608b84a2623",
   "metadata": {},
   "outputs": [],
   "source": [
    "def counting_sort(arr, lower_bound, upper_bound):\n",
    "    counts = [0] * (upper_bound + 1 - lower_bound)\n",
    "    for entry in arr:\n",
    "        counts[entry - lower_bound] += 1\n",
    "    result = []\n",
    "    for entry, count in enumerate(counts):\n",
    "        result += [entry + lower_bound] * count\n",
    "    return result"
   ]
  },
  {
   "cell_type": "code",
   "execution_count": 117,
   "id": "49ea3e0c-1ea2-43e6-b3a8-b928b082fd50",
   "metadata": {},
   "outputs": [
    {
     "name": "stdout",
     "output_type": "stream",
     "text": [
      "Initial array: [50, 55, 53, 50, 50, 50, 52, 50, 54, 54, 51, 53, 51, 50, 53, 50, 51, 53, 52, 51]\n",
      "Count sorted: [50, 50, 50, 50, 50, 50, 50, 51, 51, 51, 51, 52, 52, 53, 53, 53, 53, 54, 54, 55]\n"
     ]
    }
   ],
   "source": [
    "arr = [random.randint(50,55) for i in range(20)]\n",
    "print(f\"Initial array: {arr}\")\n",
    "\n",
    "print(f\"Count sorted: {counting_sort(arr, 50, 55)}\")"
   ]
  },
  {
   "cell_type": "markdown",
   "id": "3beaa87b-83cb-4a8d-8e6d-aa23b66052cd",
   "metadata": {},
   "source": [
    "### Built-in sort\n",
    "Python has a `sorted()` function that takes a list and returns a new, sorted list. It also has a `sort()` function, that sorts a list in place. Both functions accept an optional `key()` function."
   ]
  },
  {
   "cell_type": "markdown",
   "id": "570b1dd1-d9c7-4362-aafb-cb056fc8ac9d",
   "metadata": {},
   "source": [
    "#### Case-insensitive sort\n",
    "Sort a given array lexicographically - ie ignoring case - and in descending order."
   ]
  },
  {
   "cell_type": "code",
   "execution_count": 132,
   "id": "ffdc21b9-cccb-463c-a43a-12d5afba527f",
   "metadata": {},
   "outputs": [],
   "source": [
    "def case_insensitive_sort(arr):\n",
    "    arr.sort(key=lambda s: s.lower(), reverse=True)\n",
    "    return arr"
   ]
  },
  {
   "cell_type": "code",
   "execution_count": 134,
   "id": "bb249af9-c312-492f-8455-adc65853794d",
   "metadata": {},
   "outputs": [
    {
     "name": "stdout",
     "output_type": "stream",
     "text": [
      "Initial array: ['apple', 'Banana', '3', 'Cherry', '24', 'GRAPE', '30']\n",
      "After case-insensitive sort: ['GRAPE', 'Cherry', 'Banana', 'apple', '30', '3', '24']\n"
     ]
    }
   ],
   "source": [
    "arr = ['apple', 'Banana', '3', 'Cherry', '24', 'GRAPE', '30']\n",
    "print(f\"Initial array: {arr}\")\n",
    "\n",
    "print(f\"After case-insensitive sort: {case_insensitive_sort(arr)}\")"
   ]
  },
  {
   "cell_type": "code",
   "execution_count": null,
   "id": "c772d811-18cb-4ef0-9b5a-c58be630eb94",
   "metadata": {},
   "outputs": [],
   "source": []
  }
 ],
 "metadata": {
  "kernelspec": {
   "display_name": "Python 3 (ipykernel)",
   "language": "python",
   "name": "python3"
  },
  "language_info": {
   "codemirror_mode": {
    "name": "ipython",
    "version": 3
   },
   "file_extension": ".py",
   "mimetype": "text/x-python",
   "name": "python",
   "nbconvert_exporter": "python",
   "pygments_lexer": "ipython3",
   "version": "3.12.4"
  }
 },
 "nbformat": 4,
 "nbformat_minor": 5
}
