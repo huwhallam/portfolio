{
 "cells": [
  {
   "cell_type": "markdown",
   "id": "71c110bd-5356-4409-abe5-550380e95547",
   "metadata": {},
   "source": [
    "# Linked lists\n",
    "A linked list is a data structure consisting of an ordered sequence of nodes. Singly linked lists point in only one way from node to node and can only be traversed in one direction. Doubly linked lists point in both directions.\n",
    "\n",
    "When using linked lists, we only have to keep track of the head node - the start of the sequence. We can then follow the nodes in sequence until we reach the tail node, for which `next` will return `None`.\n",
    "\n",
    "A benefit of using linked lists over dynamic arrays is that if we wish to insert an element, we only have to change the pointer of the previous node, compared with using time complexity `O(n)` when inserting into a dynamic array."
   ]
  },
  {
   "cell_type": "code",
   "execution_count": 2,
   "id": "5a401f5c-82e9-4761-8533-6e625e13dcc8",
   "metadata": {},
   "outputs": [],
   "source": [
    "# Singly linked list nodes\n",
    "class Node:\n",
    "    def __init__(self, val):\n",
    "        self.val = val\n",
    "        self.next = None\n",
    "\n",
    "# Doubly linked list node\n",
    "class Node:\n",
    "    def __init__(self, val):\n",
    "        self.val = val\n",
    "        self.next = None\n",
    "        self.prev = None"
   ]
  },
  {
   "cell_type": "code",
   "execution_count": 3,
   "id": "58a6a409-da41-44dc-8552-77ab717a4b7f",
   "metadata": {},
   "outputs": [],
   "source": [
    "head = Node(1)\n",
    "head.next = Node(2)\n",
    "new = Node(3)\n",
    "head.next.next = new"
   ]
  },
  {
   "cell_type": "code",
   "execution_count": 4,
   "id": "39218990-fcfc-4879-aa3d-cfb6f0f6bc67",
   "metadata": {},
   "outputs": [
    {
     "data": {
      "text/plain": [
       "3"
      ]
     },
     "execution_count": 4,
     "metadata": {},
     "output_type": "execute_result"
    }
   ],
   "source": [
    "head.next.next.val"
   ]
  },
  {
   "cell_type": "code",
   "execution_count": 5,
   "id": "b1854b9c-37e2-428c-8b18-71a10a742ff7",
   "metadata": {},
   "outputs": [],
   "source": [
    "def add_to_end(head, val):\n",
    "    cur = head\n",
    "    while cur.next:\n",
    "        cur = cur.next\n",
    "    cur.next = Node(val)"
   ]
  },
  {
   "cell_type": "code",
   "execution_count": 6,
   "id": "0634f577-eebd-4f55-8712-3b1902fb8b38",
   "metadata": {},
   "outputs": [],
   "source": [
    "add_to_end(head, 4)"
   ]
  },
  {
   "cell_type": "code",
   "execution_count": 7,
   "id": "15742dec-c9fa-4de4-9094-d105feead566",
   "metadata": {},
   "outputs": [],
   "source": [
    "# To add a new node, we need to update the pointer on the predecessor node\n",
    "new = Node(4)\n",
    "new.next = head.next\n",
    "head.next = new"
   ]
  },
  {
   "cell_type": "code",
   "execution_count": 8,
   "id": "848ce764-836d-4895-99e3-d3972abf1a3c",
   "metadata": {},
   "outputs": [
    {
     "data": {
      "text/plain": [
       "(4, 2)"
      ]
     },
     "execution_count": 8,
     "metadata": {},
     "output_type": "execute_result"
    }
   ],
   "source": [
    "head.next.val, head.next.next.val"
   ]
  },
  {
   "cell_type": "code",
   "execution_count": 9,
   "id": "11733937-9d02-4409-987e-74209b6262fa",
   "metadata": {},
   "outputs": [],
   "source": [
    "# To add a new node as the head:\n",
    "new = Node(5)\n",
    "new.next = head\n",
    "head = new"
   ]
  },
  {
   "cell_type": "code",
   "execution_count": 10,
   "id": "e5f436d5-1680-44aa-a53c-139ab9e5981a",
   "metadata": {},
   "outputs": [
    {
     "data": {
      "text/plain": [
       "(5, 1)"
      ]
     },
     "execution_count": 10,
     "metadata": {},
     "output_type": "execute_result"
    }
   ],
   "source": [
    "head.val, head.next.val"
   ]
  },
  {
   "cell_type": "markdown",
   "id": "a7996143-e873-46e6-a57e-174d33e35489",
   "metadata": {},
   "source": [
    "#### Singly linked list design\n",
    "Implement a SinglyLinkedList class with the following methods:\n",
    "\n",
    "- `init()`: initialises an empty list\n",
    "- `push_front(v)`: adds a node with value v to the front of the list\n",
    "- `pop_front()`: removes the node from the front of the list and returns its value. Returns None if list is empty\n",
    "- `push_back(v)`: adds a node with value v to the end of the list\n",
    "- `pop_back()`: removes the node from the endof the list and returns its value. Returns None if list is empty\n",
    "- `size()`: returns number of nodes in list\n",
    "- `contains(v)`: returns first node in the list with value v, or null if there's no such node."
   ]
  },
  {
   "cell_type": "code",
   "execution_count": 63,
   "id": "f8f52277-0f31-4916-a02c-7e539fe58f40",
   "metadata": {},
   "outputs": [],
   "source": [
    "class Node:\n",
    "    def __init__(self, val):\n",
    "        self.val = val\n",
    "        self.next = None\n",
    "\n",
    "class SinglyLinkedList:\n",
    "    def __init__(self):\n",
    "        self.head = None\n",
    "        self._size = 0\n",
    "    def size(self):\n",
    "        return self._size\n",
    "    def push_front(self, v):\n",
    "        new = Node(v)\n",
    "        new.next = self.head\n",
    "        self.head = new\n",
    "        self._size += 1\n",
    "    def pop_front(self):\n",
    "        if not self.head:\n",
    "            return None    \n",
    "        val = self.head.val\n",
    "        self.head = self.head.next\n",
    "        self._size -=1\n",
    "        return val\n",
    "    def push_back(self, v):\n",
    "        new = Node(v)\n",
    "        self._size += 1\n",
    "        if not self.head:\n",
    "            self.head = new\n",
    "            return\n",
    "        cur = self.head\n",
    "        while cur.next:\n",
    "            cur = cur.next\n",
    "        cur.next = new\n",
    "    def pop_back(self):\n",
    "        if not self.head:\n",
    "            return None\n",
    "        self._size -= 1\n",
    "        if not self.head.next:\n",
    "            val = self.head.val\n",
    "            self.head = None\n",
    "            return val\n",
    "        cur = self.head\n",
    "        while cur.next and cur.next.next:\n",
    "            cur = cur.next\n",
    "        val = cur.next.val\n",
    "        cur.next = None\n",
    "        return val\n",
    "    def contains(self, v):\n",
    "        cur = self.head\n",
    "        while cur:\n",
    "            if cur.val == v:\n",
    "                return cur\n",
    "            cur = cur.next\n",
    "        return None"
   ]
  },
  {
   "cell_type": "code",
   "execution_count": 71,
   "id": "1cb9c4b0-0141-4d35-9f69-9b3d36f35071",
   "metadata": {},
   "outputs": [
    {
     "name": "stdout",
     "output_type": "stream",
     "text": [
      "Newly compiled list has size: 4\n",
      "Now popping from front:  5\n",
      "Now popping from back:  8\n",
      "Does list contain each of [5, 6, 7, 8]?\n",
      "None\n",
      "<__main__.Node object at 0x13ebeda30>\n",
      "<__main__.Node object at 0x13ebef200>\n",
      "None\n"
     ]
    }
   ],
   "source": [
    "my_list = SinglyLinkedList()\n",
    "my_list.push_back(7)\n",
    "my_list.push_front(6)\n",
    "my_list.push_front(5)\n",
    "my_list.push_back(8)\n",
    "print(f\"Newly compiled list has size: {my_list.size()}\")\n",
    "print(\"Now popping from front: \", my_list.pop_front())\n",
    "print(\"Now popping from back: \", my_list.pop_back())\n",
    "print(\"Does list contain each of [5, 6, 7, 8]?\")\n",
    "for i in range(5, 9):\n",
    "    print(my_list.contains(i))"
   ]
  },
  {
   "cell_type": "markdown",
   "id": "3ab1e6c5-1a30-4d35-a30c-c623496d723b",
   "metadata": {},
   "source": [
    "#### Doubly linked list design\n",
    "Implement a doubly linked list with the same methods. Both push and pop methods should take $O(1)$ time."
   ]
  },
  {
   "cell_type": "code",
   "execution_count": 47,
   "id": "e33a9a6b-1989-4ebb-ba9a-253e8d5c177e",
   "metadata": {},
   "outputs": [],
   "source": [
    "class Node:\n",
    "    def __init__(self, val):\n",
    "        self.val = val\n",
    "        self.next = None\n",
    "        self.prev = None\n",
    "\n",
    "class DoublyLinkedList:\n",
    "    def __init__(self):\n",
    "        self._size = 0\n",
    "        self.head = None\n",
    "        self.tail = None\n",
    "    def size(self):\n",
    "        return self._size\n",
    "    def push_front(self, v):\n",
    "        new = Node(v)\n",
    "        new.next = self.head # will be assigned None if list is empty\n",
    "        if self.head:            \n",
    "            self.head.prev = new\n",
    "        else:\n",
    "            self.tail = new\n",
    "        self.head = new\n",
    "        self._size += 1\n",
    "    def pop_front(self):\n",
    "        v = self.head.val # will be assigned None if list is empty\n",
    "        if self.head:\n",
    "            self.head = self.head.next # will be assigned None if no other nodes in list\n",
    "            self._size -= 1\n",
    "            if self.head:\n",
    "                self.head.prev = None\n",
    "            else:\n",
    "                self.tail = None\n",
    "        return v\n",
    "    def push_back(self, v):\n",
    "        new = Node(v)\n",
    "        new.prev = self.tail # will be assigned None if list is empty\n",
    "        if self.tail:\n",
    "            self.tail.next = new\n",
    "        else:\n",
    "            self.head = new\n",
    "        self.tail = new\n",
    "        self._size += 1\n",
    "    def pop_back(self):\n",
    "        v = self.tail.val\n",
    "        if self.tail:\n",
    "            self.tail = self.tail.prev\n",
    "            self._size -= 1\n",
    "            if self.tail:\n",
    "                self.tail.next = None\n",
    "            else:\n",
    "                self.head = None\n",
    "        return v\n",
    "    def contains(self, v):\n",
    "        cur = self.head\n",
    "        while cur:\n",
    "            if cur.val == v:\n",
    "                return cur\n",
    "            cur = cur.next\n",
    "        return None\n",
    "            "
   ]
  },
  {
   "cell_type": "code",
   "execution_count": 73,
   "id": "8837adb8-ba15-4543-a44a-d5854a9659aa",
   "metadata": {},
   "outputs": [
    {
     "name": "stdout",
     "output_type": "stream",
     "text": [
      "Newly compiled list has size: 4\n",
      "Now popping from front:  5\n",
      "Now popping from back:  8\n",
      "Does list contain each of [5, 6, 7, 8]?\n",
      "None\n",
      "<__main__.Node object at 0x13ebef200>\n",
      "<__main__.Node object at 0x13ebeda30>\n",
      "None\n"
     ]
    }
   ],
   "source": [
    "my_list = DoublyLinkedList()\n",
    "my_list.push_back(7)\n",
    "my_list.push_front(6)\n",
    "my_list.push_front(5)\n",
    "my_list.push_back(8)\n",
    "print(f\"Newly compiled list has size: {my_list.size()}\")\n",
    "print(\"Now popping from front: \", my_list.pop_front())\n",
    "print(\"Now popping from back: \", my_list.pop_back())\n",
    "print(\"Does list contain each of [5, 6, 7, 8]?\")\n",
    "for i in range(5, 9):\n",
    "    print(my_list.contains(i))"
   ]
  },
  {
   "cell_type": "markdown",
   "id": "dba10ba5-f9bd-489c-b28a-e25c306d0a9f",
   "metadata": {},
   "source": [
    "#### Linked-list-based stack\n",
    "Implement a stack as a linked list. It should support `push()`, `pop()`, `peek()`, `size()`, and `empty()`, all in $O(1)$ time."
   ]
  },
  {
   "cell_type": "code",
   "execution_count": 11,
   "id": "951dab96-ed54-42c3-99b9-987643b74f98",
   "metadata": {},
   "outputs": [],
   "source": [
    "class Node:\n",
    "    def __init__(self, val):\n",
    "        self.val = val\n",
    "        self.next = None\n",
    "\n",
    "class Stack:\n",
    "    def __init__(self):\n",
    "        self.last_in = None\n",
    "        self._size = 0\n",
    "\n",
    "    def size(self):\n",
    "        return self._size\n",
    "\n",
    "    def empty(self):\n",
    "        return self._size == 0\n",
    "\n",
    "    def peek(self):\n",
    "        if self.last_in:\n",
    "            return self.last_in.val\n",
    "        return None\n",
    "\n",
    "    def push(self, v):\n",
    "        new = Node(v)\n",
    "        if self.last_in:\n",
    "            new.next = self.last_in\n",
    "        self.last_in = new\n",
    "        self._size += 1\n",
    "\n",
    "    def pop(self):\n",
    "        if self.last_in:\n",
    "            self._size -= 1\n",
    "            res = self.last_in.val\n",
    "            self.last_in = self.last_in.next\n",
    "            return res\n",
    "        return None"
   ]
  },
  {
   "cell_type": "code",
   "execution_count": 15,
   "id": "a3e600ce-c4d3-4624-b91b-931d3e1aec22",
   "metadata": {},
   "outputs": [
    {
     "name": "stdout",
     "output_type": "stream",
     "text": [
      "New stack created... Initial size is 0. Empty function returns True.\n",
      "Let's try peek and pop! Peek: None; pop: None.\n",
      "Now let's add some spice... and test the peek function as we do it!\n",
      "cinnamon  added!\n",
      "cardomom  added!\n",
      "cayenne  added!\n",
      "Now the size is 3. Empty function returns False. Let's pop out those spices out again!\n",
      "cayenne  removed!\n",
      "cardomom  removed!\n",
      "cinnamon  removed!\n"
     ]
    }
   ],
   "source": [
    "s = Stack()\n",
    "print(f\"New stack created... Initial size is {s.size()}. Empty function returns {s.empty()}.\")\n",
    "print(f\"Let's try peek and pop! Peek: {s.peek()}; pop: {s.pop()}.\")\n",
    "print(f\"Now let's add some spice... and test the peek function as we do it!\")\n",
    "spices = ['cinnamon', 'cardomom', 'cayenne']\n",
    "for spice in spices:\n",
    "    s.push(spice)\n",
    "    print(s.peek(), ' added!')\n",
    "print(f\"Now the size is {s.size()}. Empty function returns {s.empty()}. Let's pop out those spices out again!\")\n",
    "while not s.empty():\n",
    "    print(s.pop(), ' removed!')"
   ]
  },
  {
   "cell_type": "code",
   "execution_count": null,
   "id": "e8dde0b9-4e9d-4eb8-b7c5-b93aba12175d",
   "metadata": {},
   "outputs": [],
   "source": []
  }
 ],
 "metadata": {
  "kernelspec": {
   "display_name": "Python 3 (ipykernel)",
   "language": "python",
   "name": "python3"
  },
  "language_info": {
   "codemirror_mode": {
    "name": "ipython",
    "version": 3
   },
   "file_extension": ".py",
   "mimetype": "text/x-python",
   "name": "python",
   "nbconvert_exporter": "python",
   "pygments_lexer": "ipython3",
   "version": "3.12.4"
  }
 },
 "nbformat": 4,
 "nbformat_minor": 5
}
