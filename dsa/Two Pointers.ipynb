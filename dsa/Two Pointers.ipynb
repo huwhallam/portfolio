{
 "cells": [
  {
   "cell_type": "markdown",
   "id": "3d0a2f2b-022b-4b38-b7a4-d447ada13650",
   "metadata": {},
   "source": [
    "# Two Pointers\n",
    "## Movement Patterns\n",
    "- <b>Inward pointers</b>: two pointers move towards each other from both ends of an array.\n",
    "- <b>Slow and fast pointers</b>: both move in the same direction but with one ahead of the other.\n",
    "- <b>Parallel pointers</b>: move in parallel through different arrays."
   ]
  },
  {
   "cell_type": "markdown",
   "id": "695e1048-a0c1-41d5-b6c0-d36b218e20f2",
   "metadata": {},
   "source": [
    "#### Palindrome check - inward pointers\n",
    "Given a string s, return whether it is a palindrome."
   ]
  },
  {
   "cell_type": "code",
   "execution_count": 3,
   "id": "d5314a76-31ef-44cf-91b9-853f18d7baca",
   "metadata": {},
   "outputs": [],
   "source": [
    "# This simple algorithm uses inward pointers. \n",
    "# Time complexity is O(len(s)). \n",
    "# Space complexity is O(1), as no additional data structures are created.\n",
    "\n",
    "def palindrome_check(s):\n",
    "    i, j = 0, len(s)-1\n",
    "    while i < j:\n",
    "        if s[i] != s[j]:\n",
    "            return False\n",
    "        i+=1\n",
    "        j-=1\n",
    "    return True"
   ]
  },
  {
   "cell_type": "code",
   "execution_count": 4,
   "id": "0e2d02a9-90ef-4bff-aef3-9a25fc25b107",
   "metadata": {},
   "outputs": [
    {
     "name": "stdout",
     "output_type": "stream",
     "text": [
      "Is 'naan' a palindrome? True\n",
      "Is 'level' a palindrome? True\n",
      "Is 'hello' a palindrome? False\n"
     ]
    }
   ],
   "source": [
    "print(f\"Is 'naan' a palindrome? {palindrome_check(\"naan\")}\")\n",
    "print(f\"Is 'level' a palindrome? {palindrome_check(\"level\")}\")\n",
    "print(f\"Is 'hello' a palindrome? {palindrome_check(\"hello\")}\")"
   ]
  },
  {
   "cell_type": "markdown",
   "id": "35e58751-3f1c-446c-a432-c1802a6faa66",
   "metadata": {},
   "source": [
    "#### Smaller prefixes - slow and fast pointers\n",
    "Given an array of integers with even length (n), return True if for every element in the first half of the array, the sum of it and all proceeding elements is smaller than the inclusive sum for the element twice as far along the array.\n",
    "\n",
    "Eg.: arr = [1, 2, 2, -1] will return true as 1 < 2 and 1 + 2 (= 3) < 1 + 2 + 2 - 1 (= 4)"
   ]
  },
  {
   "cell_type": "code",
   "execution_count": 6,
   "id": "dadabb28-50f7-47f1-84e7-db47dcb6a140",
   "metadata": {},
   "outputs": [],
   "source": [
    "# This algorithm uses slow and fast pointers.\n",
    "# Time complexity is O(n), space complexity is O(1).\n",
    "\n",
    "def smaller_prefixes(arr):\n",
    "    n = len(arr)\n",
    "    if n%2 != 0:\n",
    "        raise IndexError('arr not of even length')\n",
    "    sp, fp = 0, 0\n",
    "    slow_sum, fast_sum = 0, 0\n",
    "    for sp in range(n//2): # floor division used as range must be specified by an int\n",
    "        slow_sum += arr[sp]\n",
    "        fast_sum += arr[fp] + arr[fp+1]\n",
    "        if slow_sum >= fast_sum:\n",
    "            return False\n",
    "        fp +=2\n",
    "    return True    "
   ]
  },
  {
   "cell_type": "code",
   "execution_count": 7,
   "id": "f642e10a-d4af-4bab-a226-3879f0e0fbe9",
   "metadata": {},
   "outputs": [
    {
     "name": "stdout",
     "output_type": "stream",
     "text": [
      "Check array [1, 2, 2, -1]: True\n",
      "Check array [1, 2, -2, 1, 3, 5]: False\n"
     ]
    }
   ],
   "source": [
    "print(f\"Check array [1, 2, 2, -1]: {smaller_prefixes([1,2,2,-1])}\")\n",
    "print(f\"Check array [1, 2, -2, 1, 3, 5]: {smaller_prefixes([1,2,-2,1,3,5])}\")"
   ]
  },
  {
   "cell_type": "markdown",
   "id": "56ca9f62-012b-4f93-9901-c0995790553d",
   "metadata": {},
   "source": [
    "#### Array intersection - parallel pointers\n",
    "Create a sorted array of integers that appear in both of two sorted arrays of integers, keeping any duplicates."
   ]
  },
  {
   "cell_type": "code",
   "execution_count": 9,
   "id": "74f1184f-97d6-425e-8a91-c580302fba18",
   "metadata": {},
   "outputs": [],
   "source": [
    "# This algorithm uses parallel pointers\n",
    "# We work out which pointer to advance by checking which array has the smallest current value. This works because the arrays are ordered.\n",
    "# Time complexity is O(len(arr1) + len(arr2)) = O(n). Space complexity is O(len(new))\n",
    "def array_intersection(arr1, arr2):\n",
    "    i, j = 0, 0\n",
    "    new = []\n",
    "    while i < len(arr1) and j < len(arr2):\n",
    "        if arr1[i] == arr2[j]:\n",
    "            new.append(arr1[i])\n",
    "            i += 1\n",
    "            j += 1\n",
    "        elif arr1[i] < arr2[j]: \n",
    "            i += 1\n",
    "        else:\n",
    "            j += 1\n",
    "    return new\n",
    "        "
   ]
  },
  {
   "cell_type": "code",
   "execution_count": 10,
   "id": "d947d972-7b1c-4c38-8bce-ec5d4646035a",
   "metadata": {},
   "outputs": [
    {
     "name": "stdout",
     "output_type": "stream",
     "text": [
      "create intersection for arr1 = [1, 2, 3], arr2 = [1, 3, 5]: [1, 3]\n",
      "create intersection for arr1 = [1, 1, 1], arr2 = [1, 1]: [1, 1]\n"
     ]
    }
   ],
   "source": [
    "print(f\"create intersection for arr1 = [1, 2, 3], arr2 = [1, 3, 5]: {array_intersection([1,2,3], [1, 3, 5])}\")\n",
    "print(f\"create intersection for arr1 = [1, 1, 1], arr2 = [1, 1]: {array_intersection([1,1,1], [1, 1])}\")"
   ]
  },
  {
   "cell_type": "markdown",
   "id": "6c521ed9-0102-4eda-aa96-4d8631e7b39a",
   "metadata": {},
   "source": [
    "#### Palindromic sentence\n",
    "Given a string, s, return whether it is palindromic, ignoring punctuation, spacing and casing."
   ]
  },
  {
   "cell_type": "code",
   "execution_count": 12,
   "id": "e3716043-d43f-4d34-a5ce-44072be9d510",
   "metadata": {},
   "outputs": [],
   "source": [
    "# Uses inward pointers\n",
    "def palindromic_sentence(s):\n",
    "    i, j = 0, len(s)-1\n",
    "    while i < j:\n",
    "        if ord(s[i]) < ord('A') or (ord(s[i]) > ord('Z') and ord(s[i]) < ord('a')) or ord(s[i]) > ord('z'): # more readable: s[i].isalpha()\n",
    "            i += 1\n",
    "        elif ord(s[j]) < ord('A') or (ord(s[j]) > ord('Z') and ord(s[j]) < ord('a')) or ord(s[j]) > ord('z'):\n",
    "            j -= 1\n",
    "        else:\n",
    "            if s[i].lower() != s[j].lower():\n",
    "                return False\n",
    "            i += 1\n",
    "            j -= 1\n",
    "    return True"
   ]
  },
  {
   "cell_type": "code",
   "execution_count": 13,
   "id": "24e5138d-4a91-4a90-bd9b-a4ed6f662525",
   "metadata": {},
   "outputs": [
    {
     "name": "stdout",
     "output_type": "stream",
     "text": [
      "Check for palindrome on \"Bob wondered, 'Now, Bob?'\": True\n",
      "Check for palindrome on \"Hello, World!\": False\n",
      "Check for palindrome on \"In girum imus nocte et consumimur igni.\": True\n"
     ]
    }
   ],
   "source": [
    "s = \"Bob wondered, 'Now, Bob?'\"\n",
    "print(f\"Check for palindrome on \\\"{s}\\\": {palindromic_sentence(s)}\")\n",
    "s = \"Hello, World!\"\n",
    "print(f\"Check for palindrome on \\\"{s}\\\": {palindromic_sentence(s)}\")\n",
    "s = \"In girum imus nocte et consumimur igni.\"\n",
    "print(f\"Check for palindrome on \\\"{s}\\\": {palindromic_sentence(s)}\")"
   ]
  },
  {
   "cell_type": "markdown",
   "id": "9d73023b-7a88-47ff-8478-ba4f4dea6cf6",
   "metadata": {},
   "source": [
    "### Invariants\n",
    "The point of a loop invariant is to ask, how should I code one iteration to maintain the invariant while making progress."
   ]
  },
  {
   "cell_type": "markdown",
   "id": "cb4e798d-997f-405c-b7c5-2e479236b70c",
   "metadata": {},
   "source": [
    "#### Reverse case match\n",
    "Given a string where half the letters are lowercase and half uppercase, return whether the substring formed by the lowercase letters is the same as the reverse of the uppercase substring."
   ]
  },
  {
   "cell_type": "code",
   "execution_count": 16,
   "id": "d095e6cd-20df-48bd-b74f-7cc3dabb96c5",
   "metadata": {},
   "outputs": [],
   "source": [
    "# This is a two pointer problem\n",
    "# Invariant: lowercase letters to the left of l and uppercase letters to the right of r have already been matched.\n",
    "# Each iteration must retain the loop invariant and progress toward the end of the loop.\n",
    "# Case analysis:\n",
    "# - if l points to an uppercase letter we can skip it\n",
    "# - if r points to a lowercase letter we can skip it\n",
    "# - if both l and r point to the correct cases, we check for a match\n",
    "\n",
    "def reverse_case_match(s):\n",
    "    l, r = 0, len(s) - 1\n",
    "    while l < len(s) and r >=0:\n",
    "        if s[l].isupper():\n",
    "            l += 1\n",
    "        elif s[r].islower():\n",
    "            r -= 1\n",
    "        else:\n",
    "            if s[l] != s[r].lower():\n",
    "                return False\n",
    "            l += 1\n",
    "            r -= 1\n",
    "    return True"
   ]
  },
  {
   "cell_type": "code",
   "execution_count": 17,
   "id": "bfa1c3f3-e8ff-4d34-ac97-8da89a5e0fae",
   "metadata": {},
   "outputs": [
    {
     "name": "stdout",
     "output_type": "stream",
     "text": [
      "Check for reverse case match on \"haDrRAHd\": True\n"
     ]
    }
   ],
   "source": [
    "s = \"haDrRAHd\"\n",
    "print(f\"Check for reverse case match on \\\"{s}\\\": {reverse_case_match(s)}\")"
   ]
  },
  {
   "cell_type": "markdown",
   "id": "d5cc028c-8e24-4547-ae98-8378d23c3353",
   "metadata": {},
   "source": [
    "#### Merge two sorted arrays\n",
    "Given two sorted arrays, merge them. The resulting array should be sorted and retain any duplicates."
   ]
  },
  {
   "cell_type": "code",
   "execution_count": 19,
   "id": "c41b55aa-b153-40b9-972f-529ef89fa967",
   "metadata": {},
   "outputs": [],
   "source": [
    "# This is a parallel pointer problem.\n",
    "# Invariant: the next integer in both arr1 and arr2 will always be >= the last integer appended to the new array.\n",
    "# Cases analysis:\n",
    "# - if the next integer in arr1 is <= the next in arr2, add it to the new array;\n",
    "# - if the next in arr2 is smaller, add it instead.\n",
    "# When one pointer reaches the end of its array, we can assume that one array will have been exhausted and the other not. \n",
    "# We can add the remainder of both arrays to the new array, knowing that one will be empty.\n",
    "\n",
    "# This function uses O(len(arr1) + len(arr2)) time complexity and the same space complexity. \n",
    "\n",
    "def merge_two_sorted_arrays(arr1, arr2):\n",
    "    i, j = 0, 0\n",
    "    res = []\n",
    "    while i < len(arr1) and j < len(arr2):\n",
    "        if arr1[i] <= arr2[j]:\n",
    "            res.append(arr1[i])\n",
    "            i += 1\n",
    "        else:\n",
    "            res.append(arr2[j])\n",
    "            j += 1\n",
    "    res += arr1[i:] + arr2[j:]\n",
    "    return res"
   ]
  },
  {
   "cell_type": "code",
   "execution_count": 20,
   "id": "343d5b71-8c94-4b23-9d05-ce4ef446a519",
   "metadata": {},
   "outputs": [
    {
     "name": "stdout",
     "output_type": "stream",
     "text": [
      "Merge performed on[1, 3, 4, 5] and [2, 4, 4]: [1, 2, 3, 4, 4, 4, 5]\n",
      "Merge performed on[-1] and []: [-1]\n"
     ]
    }
   ],
   "source": [
    "arr1, arr2 = [1, 3, 4, 5], [2, 4, 4]\n",
    "print(f\"Merge performed on{arr1} and {arr2}: {merge_two_sorted_arrays(arr1, arr2)}\")\n",
    "arr1, arr2 = [-1], []\n",
    "print(f\"Merge performed on{arr1} and {arr2}: {merge_two_sorted_arrays(arr1, arr2)}\")"
   ]
  },
  {
   "cell_type": "code",
   "execution_count": 46,
   "id": "cb3bf5ed-f404-4a89-aeb9-fb94484360a3",
   "metadata": {},
   "outputs": [],
   "source": [
    "# An alternate function that would insert integers from one array into the other would use less memory, \n",
    "# but may have greater time complexity, as insert has O(n) rather than O(1) time complexity.\n",
    "\n",
    "def alternate_sorted_merge(arr1, arr2):\n",
    "    i, j = 0, 0\n",
    "    while i < len(arr1) and j < len(arr2):\n",
    "        if arr2[j] < arr1[i]:\n",
    "            arr1.insert(i, arr2[j])\n",
    "            j += 1\n",
    "        i += 1\n",
    "    arr1 += arr2[j:]\n",
    "    return arr1     "
   ]
  },
  {
   "cell_type": "code",
   "execution_count": 48,
   "id": "8aa16e41-ccdd-4da8-bf10-e81883d65c02",
   "metadata": {},
   "outputs": [
    {
     "name": "stdout",
     "output_type": "stream",
     "text": [
      "Merge performed on[1, 3, 4, 5] and [2, 4, 4]: [1, 2, 3, 4, 4, 4, 5]\n",
      "Merge performed on[-1] and []: [-1]\n"
     ]
    }
   ],
   "source": [
    "arr1, arr2 = [1, 3, 4, 5], [2, 4, 4]\n",
    "print(f\"Merge performed on{arr1} and {arr2}: {alternate_sorted_merge(arr1, arr2)}\")\n",
    "arr1, arr2 = [-1], []\n",
    "print(f\"Merge performed on{arr1} and {arr2}: {alternate_sorted_merge(arr1, arr2)}\")"
   ]
  },
  {
   "cell_type": "markdown",
   "id": "826c86b4-290d-4c2a-a29b-1750e64a0eba",
   "metadata": {},
   "source": [
    "#### 2-sum\n",
    "Given a sorted array of ints, return whether there separate entries in the array sum to 0."
   ]
  },
  {
   "cell_type": "code",
   "execution_count": 63,
   "id": "705d5636-67cb-4e81-a88a-33b1af4c9ddc",
   "metadata": {},
   "outputs": [],
   "source": [
    "# This is an inward pointers problem.\n",
    "# Invariant: the smallest remaining number will always be at the left; the largest at the right.\n",
    "\n",
    "def two_sum(arr):\n",
    "    l, r = 0, len(arr)-1\n",
    "    while l < r:\n",
    "        current_sum = arr[l] + arr[r]\n",
    "        if current_sum == 0:\n",
    "            return True\n",
    "        elif current_sum > 0:\n",
    "            r -= 1\n",
    "        else:\n",
    "            l += 1\n",
    "    return False"
   ]
  },
  {
   "cell_type": "code",
   "execution_count": 65,
   "id": "e27db0ff-e76b-413f-b39e-9040989e159e",
   "metadata": {},
   "outputs": [
    {
     "name": "stdout",
     "output_type": "stream",
     "text": [
      "Check if two entries sum to 0 in [-5, -2, -1, 1, 1, 10]: True\n",
      "Check if two entries sum to 0 in [-3, 0, 0, 1, 2]: True\n",
      "Check if two entries sum to 0 in [-5, -3, -1, 0, 2, 4, 6]: False\n"
     ]
    }
   ],
   "source": [
    "arr = [-5,-2,-1,1,1,10]\n",
    "print(f\"Check if two entries sum to 0 in {arr}: {two_sum(arr)}\")\n",
    "arr = [-3,0,0,1,2]\n",
    "print(f\"Check if two entries sum to 0 in {arr}: {two_sum(arr)}\")\n",
    "arr = [-5,-3,-1,0,2,4,6]\n",
    "print(f\"Check if two entries sum to 0 in {arr}: {two_sum(arr)}\")"
   ]
  },
  {
   "cell_type": "markdown",
   "id": "f5de96c1-1cb4-45bb-a1c1-5d88b51e62d1",
   "metadata": {},
   "source": [
    "#### 3-way merge without duplicates\n",
    "Given two sorted arrays, merge them. The resulting array should be sorted and retain any duplicates."
   ]
  },
  {
   "cell_type": "code",
   "execution_count": 116,
   "id": "db337ac3-accf-4e1e-896b-f873ab7db695",
   "metadata": {},
   "outputs": [],
   "source": [
    "def append_check(res, arr, index):\n",
    "    if arr[index] > res[-1]:\n",
    "        res.append(arr[index])\n",
    "    index += 1\n",
    "    return res, index\n",
    "\n",
    "def three_way_merge(arr1, arr2, arr3):\n",
    "    i, j, k = 0, 0, 0\n",
    "    res = [min(arr1[0], arr2[0], arr3[0])]\n",
    "    while i < len(arr1) and j < len(arr2) and k < len(arr3):\n",
    "        if arr1[i] <= arr2[j] and arr1[i] <= arr3[k]:\n",
    "            res, i = append_check(res, arr1, i)\n",
    "        elif arr2[j] <= arr3[k]:\n",
    "            res, j = append_check(res, arr2, j)\n",
    "        else:\n",
    "            res, k = append_check(res, arr3, k)\n",
    "    if i < len(arr1): # if arr1 is exhausted assign variable to arr3 and counter. We can assume arr2 is still active.\n",
    "        rem1 = arr1\n",
    "    else:\n",
    "        i, rem1 = k, arr3\n",
    "    if j < len(arr2):\n",
    "        rem2 = arr2\n",
    "    else: \n",
    "        j, rem2 = k, arr3\n",
    "    while i < len(rem1) and j < len(rem2):\n",
    "        if rem1[i] <= rem2[j]:\n",
    "            rem1, i = append_check(res, rem1, i)\n",
    "        else:\n",
    "            rem2, j = append_check(res, rem2, j)\n",
    "    while i < len(rem1):\n",
    "        res, i = append_check(res, rem1, i)\n",
    "    while j < len(rem2):\n",
    "        res, j = append_check(res, rem2, j)\n",
    "    return res"
   ]
  },
  {
   "cell_type": "code",
   "execution_count": 118,
   "id": "a456aff9-4ca7-46fe-9944-66b9e22e2aea",
   "metadata": {},
   "outputs": [
    {
     "name": "stdout",
     "output_type": "stream",
     "text": [
      "Merge performed on[2, 3, 3, 4, 5, 7], [3, 3, 9] and [3, 3, 9]: [2, 3, 4, 5, 7, 9]\n"
     ]
    }
   ],
   "source": [
    "arr1, arr2, arr3 = [2,3,3,4,5,7], [3,3,9], [3,3,9]\n",
    "print(f\"Merge performed on{arr1}, {arr2} and {arr3}: {three_way_merge(arr1, arr2, arr3)}\")"
   ]
  },
  {
   "cell_type": "code",
   "execution_count": 131,
   "id": "c349f877-2163-41a7-816a-85efc6b3f28e",
   "metadata": {},
   "outputs": [],
   "source": [
    "# I'm not sure if res is being updated by the validation function or if a new array is being created using unnecessary resource. \n",
    "# I will time check to verify this. Below is a version of the function without validation factored out\n",
    "\n",
    "def three_way_merge2(arr1, arr2, arr3):\n",
    "    i, j, k = 0, 0, 0\n",
    "    res = [min(arr1[0], arr2[0], arr3[0])]\n",
    "    while i < len(arr1) and j < len(arr2) and k < len(arr3):\n",
    "        if arr1[i] <= arr2[j] and arr1[i] <= arr3[k]:\n",
    "            if arr1[i] > res[-1]:\n",
    "                res.append(arr1[i])\n",
    "            i += 1\n",
    "        elif arr2[j] <= arr3[k]:\n",
    "            if arr2[j] > res[-1]:\n",
    "                res.append(arr2[j])\n",
    "            j += 1\n",
    "        else:\n",
    "            if arr3[k] > res[-1]:\n",
    "                res.append(arr3[k])\n",
    "            k += 1\n",
    "    if i < len(arr1): # if arr1 is exhausted assign variable to arr3 and counter. We can assume arr2 is still active.\n",
    "        rem1 = arr1\n",
    "    else:\n",
    "        i, rem1 = k, arr3\n",
    "    if j < len(arr2):\n",
    "        rem2 = arr2\n",
    "    else: \n",
    "        j, rem2 = k, arr3\n",
    "    while i < len(rem1) and j < len(rem2):\n",
    "        if rem1[i] <= rem2[j]:\n",
    "            if rem1[i] > res[-1]:\n",
    "                res.append(rem1[i])\n",
    "            i += 1\n",
    "        else:\n",
    "            if rem2[j] > res[-1]:\n",
    "                res.append(rem2[j])\n",
    "            j += 1\n",
    "    while i < len(rem1):\n",
    "        if rem1[i] > res[-1]:\n",
    "            res.append(rem1[i])\n",
    "        i += 1\n",
    "    while j < len(rem2):\n",
    "        if rem2[j] > res[-1]:\n",
    "            res.append(rem2[j])\n",
    "        j += 1\n",
    "    return res"
   ]
  },
  {
   "cell_type": "code",
   "execution_count": 133,
   "id": "b97753ed-a268-4eb2-8215-286b904bf974",
   "metadata": {},
   "outputs": [
    {
     "name": "stdout",
     "output_type": "stream",
     "text": [
      "Merge performed on[2, 3, 3, 4, 5, 7], [3, 3, 9] and [3, 3, 9]: [2, 3, 4, 5, 7, 9]\n"
     ]
    }
   ],
   "source": [
    "arr1, arr2, arr3 = [2,3,3,4,5,7], [3,3,9], [3,3,9]\n",
    "print(f\"Merge performed on{arr1}, {arr2} and {arr3}: {three_way_merge2(arr1, arr2, arr3)}\")"
   ]
  },
  {
   "cell_type": "code",
   "execution_count": 137,
   "id": "01bc902b-5965-41b0-9230-19d7538a5095",
   "metadata": {},
   "outputs": [
    {
     "name": "stdout",
     "output_type": "stream",
     "text": [
      "On average it took the algorithm with a factored out validation function 0.4065803753968794 seconds.\n",
      "By contrast, it took the other algorithm 0.4046883266011719 seconds.\n"
     ]
    }
   ],
   "source": [
    "import timeit\n",
    "import random\n",
    "\n",
    "num_runs = 10\n",
    "arr1 = [random.randint(0,100) for _ in range(1000000)]\n",
    "arr2 = [random.randint(0,100) for _ in range(1000000)]\n",
    "arr3 = [random.randint(0,100) for _ in range(1000000)]\n",
    "duration = timeit.Timer(lambda: three_way_merge(arr1, arr2, arr3)).timeit(number = num_runs)\n",
    "avg_duration = duration/num_runs\n",
    "print(f\"On average it took the algorithm with a factored out validation function {avg_duration} seconds.\")\n",
    "\n",
    "duration = timeit.Timer(lambda: three_way_merge2(arr1, arr2, arr3)).timeit(number = num_runs)\n",
    "avg_duration = duration/num_runs      \n",
    "print(f\"By contrast, it took the other algorithm {avg_duration} seconds.\")"
   ]
  },
  {
   "cell_type": "markdown",
   "id": "f7844fef-51c2-408a-935d-69f4c8bc29b5",
   "metadata": {},
   "source": [
    "Both versions perform equivalently, so the factoring out of the res.append() operation does not lead to a new array being created."
   ]
  },
  {
   "cell_type": "markdown",
   "id": "3dd088c2-540e-4c8c-8e9c-839d966cabe3",
   "metadata": {},
   "source": [
    "#### Sort valley-shaped array\n",
    "A valley-shaped array descends and then ascends."
   ]
  },
  {
   "cell_type": "code",
   "execution_count": 10,
   "id": "9fb1b813-09f5-4f1d-9145-6226a5e3e47b",
   "metadata": {},
   "outputs": [],
   "source": [
    "# Use inward pointers. We will build the array backwards, from large to small, as we know the largest value will be at one end.\n",
    "# Time complexity: O(n), space complexity, O(n)\n",
    "def valley_sort(arr):\n",
    "    l, r = 0, len(arr)-1\n",
    "    sorted = [0] * len(arr)\n",
    "    i = len(arr) - 1\n",
    "    while l <= r:\n",
    "        if arr[l] > arr[r]:\n",
    "            sorted[i] = arr[l]\n",
    "            l += 1\n",
    "        else:\n",
    "            sorted[i] = arr[r]\n",
    "            r -= 1\n",
    "        i -= 1\n",
    "    return sorted"
   ]
  },
  {
   "cell_type": "code",
   "execution_count": 12,
   "id": "cf2ef748-ff9e-4eb4-a19e-87727b34adc4",
   "metadata": {},
   "outputs": [
    {
     "data": {
      "text/plain": [
       "[1, 2, 3, 3, 4, 5, 6, 7, 9, 10]"
      ]
     },
     "execution_count": 12,
     "metadata": {},
     "output_type": "execute_result"
    }
   ],
   "source": [
    "arr = [9, 5, 4, 2, 1, 3, 3, 6, 7, 10]\n",
    "valley_sort(arr)"
   ]
  },
  {
   "cell_type": "markdown",
   "id": "2f409a01-52b9-4b69-97b7-a95add815e82",
   "metadata": {},
   "source": [
    "#### Missing numbers in range\n",
    "Given a sorted array and two numbers indicating an upper and lower bound, return an array with all numbers between those bounds (inclusive) that do not include the numbers in the original array."
   ]
  },
  {
   "cell_type": "code",
   "execution_count": 19,
   "id": "15104139-1be8-4efe-a65e-41aba83c9b76",
   "metadata": {},
   "outputs": [],
   "source": [
    "# This is similar to a parallel pointer problem, though we don't actually need to create the second array.\n",
    "def missing_numbers(arr, lower, upper):\n",
    "    new = []\n",
    "    i = 0\n",
    "    while i < len(arr) and arr[i] <= upper and lower <= upper:\n",
    "            if arr[i] < lower:\n",
    "                i+=1\n",
    "            elif arr[i] == lower:\n",
    "                lower += 1\n",
    "            else:\n",
    "                new.append(lower)\n",
    "                lower += 1\n",
    "    new += [x for x in range(lower, upper+1)]\n",
    "    return new"
   ]
  },
  {
   "cell_type": "code",
   "execution_count": 25,
   "id": "38b651a7-52c4-4021-bb5b-6ad47441d9a3",
   "metadata": {},
   "outputs": [
    {
     "name": "stdout",
     "output_type": "stream",
     "text": [
      "Missing numbers performed on [6, 9, 12, 15, 18] with bounds 9 and 13: [10, 11, 13]\n",
      "Missing numbers performed on [6, 7, 8, 9] with bounds 7 and 8: []\n",
      "Missing numbers performed on [] with bounds 9 and 9: [9]\n"
     ]
    }
   ],
   "source": [
    "arr = [6,9,12,15,18]\n",
    "l,u = 9,13\n",
    "print(f\"Missing numbers performed on {arr} with bounds {l} and {u}: {missing_numbers(arr, l, u)}\")\n",
    "arr = [6,7,8,9]\n",
    "l,u = 7,8\n",
    "print(f\"Missing numbers performed on {arr} with bounds {l} and {u}: {missing_numbers(arr, l, u)}\")\n",
    "arr = []\n",
    "l,u = 9,9\n",
    "print(f\"Missing numbers performed on {arr} with bounds {l} and {u}: {missing_numbers(arr, l, u)}\")"
   ]
  },
  {
   "cell_type": "markdown",
   "id": "b285290f-ff36-43d7-a941-38ab24b133b0",
   "metadata": {},
   "source": [
    "#### Interval intersection\n",
    "Given two arrays, each containing discrete, ordered, inclusive intervals of integers. Create an array with the overlap/intersection. An interval may contain a single value."
   ]
  },
  {
   "cell_type": "code",
   "execution_count": 6,
   "id": "03f5baf1-2ced-4215-bf32-50afc4c5bc17",
   "metadata": {},
   "outputs": [],
   "source": [
    "def interval_intersection(arr1, arr2):\n",
    "    a1, a2 = 0, 0\n",
    "    res = []\n",
    "    while a1 < len(arr1) and a2 < len(arr2):\n",
    "        # Firstly, we advance the pointers in those cases where the current intervals don't overlap\n",
    "        if arr1[a1][1] < arr2[a2][0]:\n",
    "            a1 += 1\n",
    "        elif arr2[a2][1] < arr1[a1][0]:\n",
    "            a2 += 1  \n",
    "        # Now for the case where there is overlap, we take the intersection, then advance the pointer for the interval that had the lower end\n",
    "        else:\n",
    "            if arr1[a1][1] <= arr2[a2][1]:\n",
    "                res.append([max(arr1[a1][0], arr2[a2][0]), arr1[a1][1]])\n",
    "                a1 += 1\n",
    "            else: \n",
    "                res.append([max(arr1[a1][0], arr2[a2][0]), arr2[a2][1]])\n",
    "                a2 += 1\n",
    "    return res"
   ]
  },
  {
   "cell_type": "code",
   "execution_count": 10,
   "id": "128eb47f-b31b-4331-846c-d42ce7b89089",
   "metadata": {},
   "outputs": [
    {
     "name": "stdout",
     "output_type": "stream",
     "text": [
      "Intersection of [[0, 1], [4, 6], [7, 8]] and [[2, 3], [5, 9], [10, 11]]: [[5, 6], [7, 8]]\n",
      "Intersection of [[2, 4], [5, 8]] and [[3, 3], [4, 7]]: [[3, 3], [4, 4], [5, 7]]\n"
     ]
    }
   ],
   "source": [
    "arr1 = [[0,1],[4,6],[7,8]]\n",
    "arr2 = [[2,3],[5,9],[10,11]]\n",
    "print(f\"Intersection of {arr1} and {arr2}: {interval_intersection(arr1, arr2)}\")\n",
    "\n",
    "arr1 = [[2,4],[5,8]]\n",
    "arr2 = [[3,3],[4,7]]\n",
    "print(f\"Intersection of {arr1} and {arr2}: {interval_intersection(arr1, arr2)}\")"
   ]
  },
  {
   "cell_type": "code",
   "execution_count": null,
   "id": "bf641c42-b51c-4793-b1d0-9a315cb64c28",
   "metadata": {},
   "outputs": [],
   "source": []
  }
 ],
 "metadata": {
  "kernelspec": {
   "display_name": "Python 3 (ipykernel)",
   "language": "python",
   "name": "python3"
  },
  "language_info": {
   "codemirror_mode": {
    "name": "ipython",
    "version": 3
   },
   "file_extension": ".py",
   "mimetype": "text/x-python",
   "name": "python",
   "nbconvert_exporter": "python",
   "pygments_lexer": "ipython3",
   "version": "3.12.4"
  }
 },
 "nbformat": 4,
 "nbformat_minor": 5
}
