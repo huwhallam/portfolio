{
 "cells": [
  {
   "cell_type": "markdown",
   "id": "23e9ca18-c7b3-4083-8b9f-e78711cb5009",
   "metadata": {},
   "source": [
    "# Sets and Maps\n",
    "### Linear scan tradeoff\n",
    "Sets and maps allow constant time lookups and so can be used to avoid repeated linear scans over an array. There is an upfront cost of $O(n)$ time and space to build a map, but this unlocks $O(1)$ lookups. There is often a tradeoff between time and space."
   ]
  },
  {
   "cell_type": "markdown",
   "id": "33887bfa-37a7-4170-95c8-6359e21a1308",
   "metadata": {},
   "source": [
    "#### Account sharing detection\n",
    "You have a list of IP addresses and usernames. All IP addresses are unique, but some usernames may be shared. \n",
    "Create a function that returns an IP associated with any of the shared usernames or returns an empty string if no usernames are shared."
   ]
  },
  {
   "cell_type": "code",
   "execution_count": 8,
   "id": "b7b72181-2fa8-4ebb-9be2-b628a3b3abf7",
   "metadata": {},
   "outputs": [],
   "source": [
    "def account_sharing_detection(arr):\n",
    "    seen = set()\n",
    "    for ip, user in arr:\n",
    "        if user in seen:\n",
    "            return ip\n",
    "        else:\n",
    "            seen.add(user)\n",
    "    return \"\""
   ]
  },
  {
   "cell_type": "code",
   "execution_count": 10,
   "id": "57160895-408d-424f-a387-b39b9d8b47d7",
   "metadata": {},
   "outputs": [
    {
     "data": {
      "text/plain": [
       "'292.0.2.5'"
      ]
     },
     "execution_count": 10,
     "metadata": {},
     "output_type": "execute_result"
    }
   ],
   "source": [
    "connections = [(\"203.0.113.10\", \"mike\"), (\"298.51.100.25\", \"bob\"), (\"292.0.2.5\", \"mike\"), (\"203.0.113.15\", \"bob\")]\n",
    "account_sharing_detection(connections)"
   ]
  },
  {
   "cell_type": "markdown",
   "id": "a3e99190-8007-4223-88fb-a27d7e34b21d",
   "metadata": {},
   "source": [
    "### Frequency maps\n",
    "A frequency map associates a count with each element, to record how many times the element occurs."
   ]
  },
  {
   "cell_type": "code",
   "execution_count": null,
   "id": "91b01e61-4363-4d76-b519-86a6bd23512a",
   "metadata": {},
   "outputs": [],
   "source": []
  }
 ],
 "metadata": {
  "kernelspec": {
   "display_name": "Python 3 (ipykernel)",
   "language": "python",
   "name": "python3"
  },
  "language_info": {
   "codemirror_mode": {
    "name": "ipython",
    "version": 3
   },
   "file_extension": ".py",
   "mimetype": "text/x-python",
   "name": "python",
   "nbconvert_exporter": "python",
   "pygments_lexer": "ipython3",
   "version": "3.12.4"
  }
 },
 "nbformat": 4,
 "nbformat_minor": 5
}
