{
 "cells": [
  {
   "cell_type": "markdown",
   "id": "23e9ca18-c7b3-4083-8b9f-e78711cb5009",
   "metadata": {},
   "source": [
    "# Sets and Maps\n",
    "### Linear scan tradeoff\n",
    "Sets and maps allow constant time lookups and so can be used to avoid repeated linear scans over an array. There is an upfront cost of $O(n)$ time and space to build a map, but this unlocks $O(1)$ lookups. There is often a tradeoff between time and space."
   ]
  },
  {
   "cell_type": "markdown",
   "id": "33887bfa-37a7-4170-95c8-6359e21a1308",
   "metadata": {},
   "source": [
    "#### Account sharing detection\n",
    "You have a list of IP addresses and usernames. All IP addresses are unique, but some usernames may be shared. \n",
    "Create a function that returns an IP associated with any of the shared usernames or returns an empty string if no usernames are shared."
   ]
  },
  {
   "cell_type": "code",
   "execution_count": 8,
   "id": "b7b72181-2fa8-4ebb-9be2-b628a3b3abf7",
   "metadata": {},
   "outputs": [],
   "source": [
    "def account_sharing_detection(arr):\n",
    "    seen = set()\n",
    "    for ip, user in arr:\n",
    "        if user in seen:\n",
    "            return ip\n",
    "        else:\n",
    "            seen.add(user)\n",
    "    return \"\""
   ]
  },
  {
   "cell_type": "code",
   "execution_count": 10,
   "id": "57160895-408d-424f-a387-b39b9d8b47d7",
   "metadata": {},
   "outputs": [
    {
     "data": {
      "text/plain": [
       "'292.0.2.5'"
      ]
     },
     "execution_count": 10,
     "metadata": {},
     "output_type": "execute_result"
    }
   ],
   "source": [
    "connections = [(\"203.0.113.10\", \"mike\"), (\"298.51.100.25\", \"bob\"), (\"292.0.2.5\", \"mike\"), (\"203.0.113.15\", \"bob\")]\n",
    "account_sharing_detection(connections)"
   ]
  },
  {
   "cell_type": "markdown",
   "id": "a3e99190-8007-4223-88fb-a27d7e34b21d",
   "metadata": {},
   "source": [
    "### Frequency maps\n",
    "A frequency map associates a count with each element, to record how many times the element occurs.\n",
    "\n",
    "##### Some important notes\n",
    "For many languages, the order of iteration through a set or dictionary is not deterministic. From Python 3.7, Python guarantees that set/map iteration order will match insertion order.\n",
    "There can be errors or unexpected behaviour if you modify or delete a dictionary/set entry while iterating through it. Instead, save the keys to delete or alter afterwards.\n",
    "You shouldn't change set or map keys and in python, they can't be mutable (eg an array). If these are changed it affects their hash, but the element doesn't automatically shift to the new location. If you need a list-type key, use a tuple."
   ]
  },
  {
   "cell_type": "markdown",
   "id": "1c7ea320-f45d-4fef-8fd9-ed3c64fe795d",
   "metadata": {},
   "source": [
    "#### Most shared account\n",
    "You have a list of IP addresses and usernames, where all IP addresses are unique but some usernames may be shared. Return the most shared username. If there's a tie, return either."
   ]
  },
  {
   "cell_type": "code",
   "execution_count": 20,
   "id": "4f98c8c1-f43a-4417-87ed-36ff341a11db",
   "metadata": {},
   "outputs": [],
   "source": [
    "def most_shared_account(arr):\n",
    "    username_freq = {}\n",
    "    highest_count = 0\n",
    "    most_common_username = arr[0][1]\n",
    "    for _, user in arr:\n",
    "        if not user in username_freq:\n",
    "            username_freq[user] = 0\n",
    "        username_freq[user] += 1\n",
    "        if username_freq[user] > highest_count:\n",
    "            highest_count += 1\n",
    "            most_common_username = user\n",
    "    return most_common_username"
   ]
  },
  {
   "cell_type": "code",
   "execution_count": 36,
   "id": "aa6c65f0-aff3-4374-a4ae-087ce3f403e6",
   "metadata": {},
   "outputs": [
    {
     "data": {
      "text/plain": [
       "'bob'"
      ]
     },
     "execution_count": 36,
     "metadata": {},
     "output_type": "execute_result"
    }
   ],
   "source": [
    "connections = [(\"203.0.113.10\", \"mike\"), (\"298.51.100.25\", \"bob\"), (\"292.0.2.5\", \"mike2\"), (\"203.0.113.15\", \"bob\")]\n",
    "most_shared_account(connections)"
   ]
  },
  {
   "cell_type": "code",
   "execution_count": 34,
   "id": "c440e944-249f-46bd-a105-6b1aad3bc8c9",
   "metadata": {},
   "outputs": [],
   "source": [
    "# The above approach kept track of the most common username during the inital sequence through the account list.\n",
    "# An alternate strategy is to compile the frequency dictionary and then iterate through it to find the most common. \n",
    "# This may be a more efficient strategy for lists featuring a high volume of sharing.\n",
    "\n",
    "def most_shared_account(arr):\n",
    "    username_freq = {}\n",
    "    for _, user in arr:\n",
    "        if not user in username_freq:\n",
    "            username_freq[user] = 0\n",
    "        username_freq[user] += 1\n",
    "\n",
    "    most_common_username = None\n",
    "    for user, count in username_freq.items():\n",
    "        if not most_common_username or count > username_freq[most_common_username]:\n",
    "            most_common_username = user\n",
    "    return most_common_username"
   ]
  },
  {
   "cell_type": "markdown",
   "id": "2fef533e-1ff0-4c43-970d-2fdf27c788c1",
   "metadata": {},
   "source": [
    "#### Most frequent octet\n",
    "Given a list of unique IP addresses in IPv4 format, return the most common first octet (the first 8-bit number before the dot)."
   ]
  },
  {
   "cell_type": "code",
   "execution_count": 47,
   "id": "6ff9e6c9-67d1-4ca6-9b2a-53e9a8233997",
   "metadata": {},
   "outputs": [],
   "source": [
    "def most_frequent_octet(arr):\n",
    "    octet_freq = {}\n",
    "    for ip in arr:\n",
    "        oct = ip.split('.')[0]\n",
    "        if oct not in octet_freq:\n",
    "            octet_freq[oct] = 0\n",
    "        octet_freq[oct] += 1\n",
    "    most_common_octet = ''\n",
    "    highest_count = 0\n",
    "    for oct, count in octet_freq.items():\n",
    "        if count > highest_count:\n",
    "            most_common_octet = oct\n",
    "            highest_count = count\n",
    "    return most_common_octet"
   ]
  },
  {
   "cell_type": "code",
   "execution_count": 49,
   "id": "d0eeb155-7a3b-49e7-b0da-086de18af03f",
   "metadata": {},
   "outputs": [
    {
     "data": {
      "text/plain": [
       "'203'"
      ]
     },
     "execution_count": 49,
     "metadata": {},
     "output_type": "execute_result"
    }
   ],
   "source": [
    "ips = ['203.455.124.67', '208.51.100.5', '202.0.2.5', '203.0.113.5']\n",
    "most_frequent_octet(ips)"
   ]
  },
  {
   "cell_type": "markdown",
   "id": "8b17bfdb-1b72-49a9-930a-c46c790710a3",
   "metadata": {},
   "source": [
    "##### Analysis\n",
    "Most frequent octet requires $O(n)$ time complexity to set up the dictionary. \n",
    "It then requires $O(m)$ time to cycle through the dictionary, where m is the number of distinct entries and a maximum of 256. The size complexity is also $O(m)$ = $O(1)$."
   ]
  },
  {
   "cell_type": "markdown",
   "id": "c01f6859-4adf-4469-b779-af8d6ea3b7c5",
   "metadata": {},
   "source": [
    "#### Multi-account cheating\n",
    "A service requires that users have only a single account. Create a function that checks if any service users have the same set of IP addresses attributed to them."
   ]
  },
  {
   "cell_type": "code",
   "execution_count": 83,
   "id": "0eaf27bd-6898-4bbd-b64e-f25b91b79e28",
   "metadata": {},
   "outputs": [],
   "source": [
    "# This problem requires creating a map with list-like keys. The challenge in doing this is that python requires keys to be immutable,\n",
    "# which means using tuples or strings.\n",
    "# A secondary challenge is that the lists of IP addresses given are not ordered. They will need to be given a canonical order to ensure \n",
    "# identity between matching collections.\n",
    "\n",
    "def multi_account_cheating(users):\n",
    "    ip_collections = set()\n",
    "    for _, ips in users:\n",
    "        ip_tup = tuple(sorted(ips))\n",
    "        if ip_tup in ip_collections:\n",
    "            return True\n",
    "        else:\n",
    "            ip_collections.add(ip_tup)\n",
    "    return False"
   ]
  },
  {
   "cell_type": "code",
   "execution_count": 85,
   "id": "80734d6e-fd76-4ced-9f27-ac28d09dec90",
   "metadata": {},
   "outputs": [
    {
     "data": {
      "text/plain": [
       "True"
      ]
     },
     "execution_count": 85,
     "metadata": {},
     "output_type": "execute_result"
    }
   ],
   "source": [
    "users = [('mike', [\"203.0.3.10\", \"208.51.0.5\", \"52.0.2.5\"]), \n",
    "         ('bob', ['111.0.0.10', '222.0.0.5', '222.0.0.8']), \n",
    "         ('bob2', ['222.0.0.5', '222.0.0.8', '111.0.0.10'])]\n",
    "multi_account_cheating(users)"
   ]
  },
  {
   "cell_type": "code",
   "execution_count": null,
   "id": "e11321b7-c036-4810-983c-523468e95245",
   "metadata": {},
   "outputs": [],
   "source": []
  }
 ],
 "metadata": {
  "kernelspec": {
   "display_name": "Python 3 (ipykernel)",
   "language": "python",
   "name": "python3"
  },
  "language_info": {
   "codemirror_mode": {
    "name": "ipython",
    "version": 3
   },
   "file_extension": ".py",
   "mimetype": "text/x-python",
   "name": "python",
   "nbconvert_exporter": "python",
   "pygments_lexer": "ipython3",
   "version": "3.12.4"
  }
 },
 "nbformat": 4,
 "nbformat_minor": 5
}
