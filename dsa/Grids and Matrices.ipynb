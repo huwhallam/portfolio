{
 "cells": [
  {
   "cell_type": "markdown",
   "id": "f1cfcb95-144a-4a69-836a-e9f143c58359",
   "metadata": {},
   "source": [
    "# Grids and Matrices"
   ]
  },
  {
   "cell_type": "markdown",
   "id": "208ddd0a-ce0d-4927-b666-fcc2c5c8c004",
   "metadata": {},
   "source": [
    "## Moving in a grid\n",
    "Key approaches are: \n",
    "- factor out validation as a helper function, to avoid cluttering the main algorithm with checks.\n",
    "- create a directions array that includes all possible changes to the current position to reach neighbouring cells."
   ]
  },
  {
   "cell_type": "markdown",
   "id": "03fa660f-9d45-4ec2-b534-bdd430ae5690",
   "metadata": {},
   "source": [
    "#### Chess Moves\n",
    "Create a function that returns possible moves for a king, queen or knight chess piece, given a board of size n x n, where 0 denotes an empty cell and 1 denotes an occupied one, and given starting coordinates."
   ]
  },
  {
   "cell_type": "code",
   "execution_count": 77,
   "id": "21ecf69c-d1f0-44f3-87ab-093f4156c2f9",
   "metadata": {},
   "outputs": [],
   "source": [
    "# I factor out a validation factor, which checks if a given move would be within the confines of the board and to an unoccupied cell.\n",
    "# This means I don't have to keep checking within the main algorithm.\n",
    "def is_valid(board, r, c):\n",
    "    n = len(board)\n",
    "    if 0 <= r < n and 0 <= c < n:\n",
    "        if board[r][c] == 0:\n",
    "            return True\n",
    "    return False\n",
    "\n",
    "\n",
    "def chess_moves(board, piece, r, c):\n",
    "    moves = []\n",
    "    potential_moves = []\n",
    "\n",
    "    if piece.lower() == \"knight\":\n",
    "        # list comprehensions used to create directions arrays\n",
    "        directions = [(rd, cd) for rd in [-2, 2] for cd in [-1, 1]] + [(rd, cd) for rd in [-1, 1] for cd in [-2, 2]]\n",
    "    else: # king and queen both move in the same directions\n",
    "        directions = [(rd, cd) for rd in [-1, 0, 1] for cd in [-1, 0, 1] if (rd != 0 or cd != 0)]  \n",
    "\n",
    "    for rd, cd in directions:\n",
    "        if piece.lower() == \"queen\": # As queen can travel across multiple spaces we need a loop to take her as far as \n",
    "            rm, cm = r+rd, c+cd      # she can go in each direction before hitting another piece or the end of the board.\n",
    "            while is_valid(board, rm, cm):\n",
    "                moves.append([rm, cm])\n",
    "                rm+=rd\n",
    "                cm+=cd\n",
    "        else:\n",
    "            if is_valid(board, r+rd, c+cd):\n",
    "                moves.append([r+rd, c+cd])\n",
    "\n",
    "    return moves"
   ]
  },
  {
   "cell_type": "code",
   "execution_count": 79,
   "id": "d2c44ddb-ad48-48f7-b2b3-9e8fb05c0c01",
   "metadata": {},
   "outputs": [
    {
     "data": {
      "text/plain": [
       "[[2, 5], [3, 4], [4, 4], [4, 5]]"
      ]
     },
     "execution_count": 79,
     "metadata": {},
     "output_type": "execute_result"
    }
   ],
   "source": [
    "board = [[0, 0, 0, 1, 0, 0],\n",
    "         [0, 1, 1, 1, 0, 0],\n",
    "         [0, 1, 0, 1, 1, 0],\n",
    "         [1, 1, 1, 1, 0, 0],\n",
    "         [0, 0, 0, 0, 0, 0],\n",
    "         [0, 1, 0, 0, 0, 0]]\n",
    "\n",
    "chess_moves(board, \"king\", 3, 5)"
   ]
  },
  {
   "cell_type": "markdown",
   "id": "135d3849-5b91-4ff5-b1a0-2fa8d30e1a93",
   "metadata": {},
   "source": [
    "#### Queen's reach\n",
    "A board has a number of queens on it, indicated by ones. Return a board that uses zeros to denote spaces that are safe from the queens."
   ]
  },
  {
   "cell_type": "code",
   "execution_count": 162,
   "id": "f75ef316-dfae-47d3-95f2-78433bdcefcb",
   "metadata": {},
   "outputs": [],
   "source": [
    "# One approach is to use the chess_moves algorithm to determine all of the potential moves for each queen. \n",
    "# This may be inefficient if there's a high concentration of queens. It may be better to go through each cell and check for threats.\n",
    "\n",
    "def queens_reach(board):\n",
    "    n = len(board)\n",
    "    updated_board = [row.copy for row in board] # NB if you copy the grid, updating one will update the other. To create a new grid: [[0]*n for _ in range(n)]\n",
    "    for r in range(n):\n",
    "        for c in range(n):\n",
    "            if board[r][c] == 1:\n",
    "                updated_board[r][c] = 1\n",
    "                moves = chess_moves(board, \"queen\", r, c)\n",
    "                for rm, cm in moves:\n",
    "                    updated_board[rm][cm] = 1\n",
    "    return updated_board"
   ]
  },
  {
   "cell_type": "code",
   "execution_count": 164,
   "id": "eadc5708-dc56-447c-83eb-5fc1a6679e01",
   "metadata": {},
   "outputs": [
    {
     "data": {
      "text/plain": [
       "[[0, 0, 0, 0, 0, 0],\n",
       " [0, 1, 0, 0, 0, 0],\n",
       " [0, 0, 0, 0, 0, 0],\n",
       " [0, 0, 0, 0, 1, 0],\n",
       " [0, 0, 0, 0, 1, 0],\n",
       " [0, 0, 0, 0, 0, 0]]"
      ]
     },
     "execution_count": 164,
     "metadata": {},
     "output_type": "execute_result"
    }
   ],
   "source": [
    "board = [[0]*6 for _ in range(6)]\n",
    "board[1][1] = 1\n",
    "board[3][4] = 1\n",
    "board[4][4] = 1\n",
    "board"
   ]
  },
  {
   "cell_type": "code",
   "execution_count": 166,
   "id": "4b650059-62f5-44d8-b838-c8b8c3326881",
   "metadata": {},
   "outputs": [
    {
     "data": {
      "text/plain": [
       "[[1, 1, 1, 0, 1, 0],\n",
       " [1, 1, 1, 1, 1, 1],\n",
       " [1, 1, 1, 1, 1, 1],\n",
       " [1, 1, 1, 1, 1, 1],\n",
       " [1, 1, 1, 1, 1, 1],\n",
       " [0, 1, 1, 1, 1, 1]]"
      ]
     },
     "execution_count": 166,
     "metadata": {},
     "output_type": "execute_result"
    }
   ],
   "source": [
    "queens_reach(board)"
   ]
  },
  {
   "cell_type": "markdown",
   "id": "2c6d01c5-6e40-4a51-bd9a-15ceb54dcedc",
   "metadata": {},
   "source": [
    "##### Considerations\n",
    "Each queen takes O(4n) so we get 4n x num_queens. The number of queens ranges from 0 to nxn; however, in the worst case, the queen will meet obstacles (other queens) on every side, so each queen would check only 8 cells. That makes the worst case O(8n^2) or O(n^2)\n",
    "\n",
    "If we go cell by cell, each cell requires 4n checks, so the total is 4n x nxn = 4n^3. This approach would certainly be worse \n",
    "unless there are more queens than empty cells.\n",
    "\n",
    "There may be another approach that would check for queens row by row, then column by column, then along the diagonals. Each dimension would be nxn so the total would be 4nxn. This would take half the time complexity of the worst case of the option coded, but more than the best case."
   ]
  },
  {
   "cell_type": "markdown",
   "id": "6314ac91-e14d-42b2-81da-1943b1c49406",
   "metadata": {},
   "source": [
    "#### Spiral order\n",
    "Given a +ve, odd integer, n, return an nxn grid, filled with every number from $0$ to $n^{2}-1$, spiralling clockwise down from the center."
   ]
  },
  {
   "cell_type": "code",
   "execution_count": 284,
   "id": "ae806ece-4372-4318-bd47-8415633c9d16",
   "metadata": {},
   "outputs": [],
   "source": [
    "# Validation function to check if coordinates are empty, should a turn be made\n",
    "def turn(grid, r, c):\n",
    "    return grid[r][c] == None\n",
    "\n",
    "def spiral_order(n):\n",
    "    grid = [[None]*n for _ in range(n)]\n",
    "    dir = [[1,0], [0,-1], [-1,0], [0,1]] # Directions array. The function will need to cycle through these in order.\n",
    "    d = -1 # d is a counter that determines which direction will be used.\n",
    "    r, c = n//2, n//2\n",
    "    for i in range(n**2):       \n",
    "        grid[r][c] = i\n",
    "        if turn(grid, r+dir[(d+1)%4][0], c+dir[(d+1)%4][1]): # Checks if making a turn is a valid move\n",
    "            d = (d+1)%4 # Changes direction\n",
    "        r += dir[d][0]\n",
    "        c += dir[d][1]                   \n",
    "    return grid    \n"
   ]
  },
  {
   "cell_type": "code",
   "execution_count": 286,
   "id": "9881a65d-a203-4af6-a860-325f6a777826",
   "metadata": {},
   "outputs": [
    {
     "data": {
      "text/plain": [
       "[[16, 17, 18, 19, 20],\n",
       " [15, 4, 5, 6, 21],\n",
       " [14, 3, 0, 7, 22],\n",
       " [13, 2, 1, 8, 23],\n",
       " [12, 11, 10, 9, 24]]"
      ]
     },
     "execution_count": 286,
     "metadata": {},
     "output_type": "execute_result"
    }
   ],
   "source": [
    "spiral_order(5)"
   ]
  },
  {
   "cell_type": "code",
   "execution_count": 288,
   "id": "024e2071-c31d-4b4c-b2ab-c79ad2eeedf6",
   "metadata": {},
   "outputs": [],
   "source": [
    "# The spiral always ends in the bottom right corner `grid[n][n]`.\n",
    "# A conceptually easier approach is to start there and work backwards, using the edges of the grid to guide the movement.\n",
    "def valid_move(grid, r, c):\n",
    "    n = len(grid)\n",
    "    if 0 <= r < n and 0 <= c < n:\n",
    "        if grid[r][c] == 0:\n",
    "            return True\n",
    "    return False\n",
    "\n",
    "def spiral_order_reverse(n):\n",
    "    grid = [[0]*n for _ in range(n)]\n",
    "    directions = [[-1,0],[0,-1],[1,0],[0,1]]\n",
    "    d = 0\n",
    "    r, c = n-1, n-1\n",
    "    for i in range(n**2-1, 0, -1):\n",
    "        grid[r][c] = i\n",
    "        if not valid_move(grid, r+directions[d][0], c+directions[d][1]):\n",
    "            d = (d + 1) % 4 # Changes direction\n",
    "        r += directions[d][0]\n",
    "        c += directions[d][1]\n",
    "    return grid"
   ]
  },
  {
   "cell_type": "code",
   "execution_count": 290,
   "id": "ea2997f0-dbd5-41c4-b5b4-8d5129d92ac4",
   "metadata": {},
   "outputs": [
    {
     "data": {
      "text/plain": [
       "[[16, 17, 18, 19, 20],\n",
       " [15, 4, 5, 6, 21],\n",
       " [14, 3, 0, 7, 22],\n",
       " [13, 2, 1, 8, 23],\n",
       " [12, 11, 10, 9, 24]]"
      ]
     },
     "execution_count": 290,
     "metadata": {},
     "output_type": "execute_result"
    }
   ],
   "source": [
    "spiral_order_reverse(5)"
   ]
  },
  {
   "cell_type": "markdown",
   "id": "4fbe27e4-0357-47ee-90d9-ce4a257ffeaa",
   "metadata": {},
   "source": [
    "##### Analysis\n",
    "Time complexity is $O(n^{2})$ for both models: the validation function takes constant time and is applied to each cell in the grid once. \n",
    "Spatial complexity is also $O(n^{2})$."
   ]
  },
  {
   "cell_type": "markdown",
   "id": "7b6483e4-d2e6-4fb3-9c8b-27cf43ab7070",
   "metadata": {},
   "source": [
    "#### Snowprints\n",
    "We are tracking a snow leopard crossing a rectangular binary grid where 1 denotes a snowprint. Movement is from left to right; each column must contain exactly one 1. Movement may shift up or down one row, or stay the same. What is the smallest number of rows between the path and top of the grid, where there's an icy river?"
   ]
  },
  {
   "cell_type": "code",
   "execution_count": 19,
   "id": "c5207764-bdfa-478e-8221-68cfdde15d9a",
   "metadata": {},
   "outputs": [],
   "source": [
    "def is_occupied(grid, r, c):\n",
    "    return grid[r][c] == 1\n",
    "\n",
    "def snowprints(grid):\n",
    "    proximity = 0\n",
    "    # Find the footprint in the first row\n",
    "    for r in range(len(grid)):\n",
    "        if is_occupied(grid, r, 0):\n",
    "            proximity = r\n",
    "            break\n",
    "    # We could follow the path, though it's only relevant if the leopard moves closer to the top. So we don't. We only move across or up.\n",
    "    for c in range(1,len(grid[0])):\n",
    "        if is_occupied(grid, proximity-1, c):\n",
    "            proximity -= 1\n",
    "            if proximity == 0: # We want to break if proximity shrinks to 0\n",
    "                break\n",
    "    return proximity"
   ]
  },
  {
   "cell_type": "code",
   "execution_count": 9,
   "id": "11ec5926-84ec-4641-8d9f-5dd7d6b37d3a",
   "metadata": {},
   "outputs": [
    {
     "data": {
      "text/plain": [
       "[[0, 0, 0, 0, 0, 0],\n",
       " [0, 0, 1, 0, 0, 0],\n",
       " [1, 1, 0, 1, 0, 0],\n",
       " [0, 0, 0, 0, 1, 1]]"
      ]
     },
     "execution_count": 9,
     "metadata": {},
     "output_type": "execute_result"
    }
   ],
   "source": [
    "grid = [[0]*6 for _ in range(4)]\n",
    "prints = [[2,0], [2,1], [1,2], [2,3], [3,4], [3,5]]\n",
    "for r,c in prints:\n",
    "    grid[r][c] = 1\n",
    "grid"
   ]
  },
  {
   "cell_type": "code",
   "execution_count": 24,
   "id": "bb9385fe-6dd1-4fe5-8603-6dc7f8827fe1",
   "metadata": {},
   "outputs": [
    {
     "name": "stdout",
     "output_type": "stream",
     "text": [
      "The snow leopard got as close as 1 row(s) from the river.\n"
     ]
    }
   ],
   "source": [
    "print(f\"The snow leopard got as close as {snowprints(grid)} row(s) from the river.\")"
   ]
  },
  {
   "cell_type": "markdown",
   "id": "4547bbea-bf89-4e84-86c0-9f988890241c",
   "metadata": {},
   "source": [
    "##### Analysis\n",
    "While it may be possible that scanning the first few rows of the grid quickly turn up a result and that this is more efficient than the approach taken, I assume that the grid has more rows than columns and that the trade-off between knowing that the first column will contain a snowprint, and the risk that many rows may not, will work in favour of my approach. The worst possible time complexity is $O(n + m)$ where nxm are the dimensions of the grid. However, the break clauses will break the vertical and horizontal scans if, respectively, the first print is found early and the leopard reaches proximity 0. Compare this to a worst case of $O((n-1)*m)$. Space complexity is constant $O(1)$."
   ]
  },
  {
   "cell_type": "markdown",
   "id": "ae84a734-39fd-4808-9cdb-48087891ca52",
   "metadata": {},
   "source": [
    "#### Valid sudoku\n",
    "Given a 9x9 sudoku grid, return true if there are no conflicts. 0's denote empty cells."
   ]
  },
  {
   "cell_type": "code",
   "execution_count": 63,
   "id": "0d268834-30e8-42b1-a771-b0c05a50d9f2",
   "metadata": {},
   "outputs": [],
   "source": [
    "def valid_subsection(arr):\n",
    "    seen = set()\n",
    "    for a in arr:\n",
    "        if a in counts:\n",
    "            return False\n",
    "        if a != 0:\n",
    "            seen.add(a)\n",
    "    return True\n",
    "\n",
    "def valid_sudoku(grid):\n",
    "    # check the rows are valid\n",
    "    for row in grid:\n",
    "        if not valid_subsection(row):\n",
    "            return False\n",
    "    # now check the columns are valid\n",
    "    for col in range(9):\n",
    "        if not valid_subsection([grid[r][col] for r in range(9)]):\n",
    "            return False\n",
    "    # and finally, check the 3x3 subgrids are valid\n",
    "    for i in range(3):\n",
    "        for j in range(3):\n",
    "            arr = [grid[i*3 + r][j*3 + c] for r in range(3) for c in range(3)]\n",
    "            if not valid_subsection(arr):\n",
    "                return False\n",
    "    return True"
   ]
  },
  {
   "cell_type": "code",
   "execution_count": 41,
   "id": "bfbfcae7-1b3b-4ccd-8ae3-84d74390f4ce",
   "metadata": {},
   "outputs": [],
   "source": [
    "#This will be used to create a populate a sudoku grid for testing purposes\n",
    "def construct_grid(items):\n",
    "    grid = [[0]* 9 for _ in range(9)]\n",
    "    for r, c, i in items:\n",
    "        grid[r][c] = i\n",
    "    return grid"
   ]
  },
  {
   "cell_type": "code",
   "execution_count": 67,
   "id": "3dcfd113-79cf-4a5a-b6ea-36343bfff88e",
   "metadata": {},
   "outputs": [
    {
     "data": {
      "text/plain": [
       "True"
      ]
     },
     "execution_count": 67,
     "metadata": {},
     "output_type": "execute_result"
    }
   ],
   "source": [
    "# Test on a valid example\n",
    "items = [[0,0,5], [0,8,6], \n",
    "[1,2,9], [1,4,5], [1,6,3], \n",
    "[2,1,3],[2,5,2], \n",
    "[3,0,8],[3,3,7],[3,8,9],\n",
    "[4,2,2],[4,6,8], \n",
    "[5,0,4],[5,5,6],[5,8,3], \n",
    "[6,3,3],[6,7,4],\n",
    "[7,2,3],[7,4,8],[7,6,2],\n",
    "[8,0,9],[8,8,7]]\n",
    "grid = construct_grid(items)\n",
    "valid_sudoku(grid)"
   ]
  },
  {
   "cell_type": "code",
   "execution_count": 71,
   "id": "1ae5162b-3f55-4da1-9c71-925f20e10f7a",
   "metadata": {},
   "outputs": [
    {
     "data": {
      "text/plain": [
       "False"
      ]
     },
     "execution_count": 71,
     "metadata": {},
     "output_type": "execute_result"
    }
   ],
   "source": [
    "# Now change one number to make the example invalid\n",
    "grid[7][6] = 7\n",
    "valid_sudoku(grid)"
   ]
  },
  {
   "cell_type": "markdown",
   "id": "a7f4373a-e722-4cb7-9848-f378feab9050",
   "metadata": {},
   "source": [
    "#### Subgrid maximums\n",
    "Given an RxC grid of integers, return a new RxC grid where each cell gives the maximum of the subgrid formed spanning that cell and the bottom right corner."
   ]
  },
  {
   "cell_type": "code",
   "execution_count": 55,
   "id": "f3396b6d-924a-4f0b-adcb-028bc7389711",
   "metadata": {},
   "outputs": [],
   "source": [
    "def subgrid_maximums(grid):\n",
    "    R = len(grid)\n",
    "    C = len(grid[0])\n",
    "    res = []\n",
    "    \n",
    "    def max_check(r, c):\n",
    "        max = grid[r][c]\n",
    "        for row in range(r,R):\n",
    "            for col in range(c, C):\n",
    "                if grid[row][col] > max:\n",
    "                    max = grid[row][col]\n",
    "        return max\n",
    "    \n",
    "    for r in range(R):\n",
    "        res.append([])\n",
    "        for c in range(C):\n",
    "            res[r].append(max_check(r, c))\n",
    "    return res "
   ]
  },
  {
   "cell_type": "code",
   "execution_count": 65,
   "id": "d50aaa75-353b-4578-a7eb-3faa5a92f151",
   "metadata": {},
   "outputs": [],
   "source": [
    "grid = [[1, 5, 3],\n",
    "        [4, -1, 0],\n",
    "        [2, 0, 2]]"
   ]
  },
  {
   "cell_type": "code",
   "execution_count": 125,
   "id": "54494ff1-a899-48e6-a15b-7b5797e664f1",
   "metadata": {},
   "outputs": [
    {
     "data": {
      "text/plain": [
       "[[5, 5, 3], [4, 2, 2], [2, 2, 2]]"
      ]
     },
     "execution_count": 125,
     "metadata": {},
     "output_type": "execute_result"
    }
   ],
   "source": [
    "subgrid_maximums(grid)"
   ]
  },
  {
   "cell_type": "markdown",
   "id": "56881f12-cb22-48cb-a3cb-303b5b20b46c",
   "metadata": {},
   "source": [
    "The above approach inefficiently recalculates the maximum for every possible subgrid.  This takes time complexity $O((R*C)^2)$. A more efficent approach builds on existing maxima calculations."
   ]
  },
  {
   "cell_type": "code",
   "execution_count": 123,
   "id": "649de5a6-2dcf-4a2d-987f-00cf5f1a1a97",
   "metadata": {},
   "outputs": [],
   "source": [
    "def subgrid_maximums(grid):\n",
    "    R = len(grid)\n",
    "    C = len(grid[0])\n",
    "    res = [[0] * C for _ in range(R)]\n",
    "\n",
    "    for r in range(R-1, -1, -1):\n",
    "        for c in range(C-1, -1, -1):\n",
    "            current = grid[r][c]\n",
    "            lower = res[r+1][c] if r < R-1 else current\n",
    "            right = res[r][c+1] if c < C-1 else current\n",
    "            res[r][c] = max(current, lower, right)\n",
    "    return res    "
   ]
  },
  {
   "cell_type": "markdown",
   "id": "6be318ee-e3e7-450e-9f41-3d150cff166e",
   "metadata": {},
   "source": [
    "#### Subgrid sums\n",
    "Given an RxC grid of integers, return a new RxC grid where each cell gives the sum of the subgrid formed spanning that cell and the bottom right corner."
   ]
  },
  {
   "cell_type": "code",
   "execution_count": 11,
   "id": "7825dc96-b0d0-48bd-96ea-9cb203ea2efe",
   "metadata": {},
   "outputs": [],
   "source": [
    "def subgrid_sums(grid):\n",
    "    R, C = len(grid), len(grid[0])\n",
    "    res = grid.copy()\n",
    "\n",
    "    for r in range(R-1, -1, -1):\n",
    "        for c in range(C-1, -1, -1):\n",
    "            # curr += lower + right - lower-right\n",
    "            res[r][c] += res[r+1][c] if r < R-1 else 0\n",
    "            res[r][c] += res[r][c+1] if c < C-1 else 0\n",
    "            res[r][c] -= res[r+1][c+1] if c< C-1 and r< R-1 else 0\n",
    "    return res"
   ]
  },
  {
   "cell_type": "code",
   "execution_count": 15,
   "id": "3f20b2e2-ea99-4fbb-b21b-41b91c219872",
   "metadata": {},
   "outputs": [
    {
     "data": {
      "text/plain": [
       "[[15, 14, 12], [11, 9, 9], [7, 9, 9]]"
      ]
     },
     "execution_count": 15,
     "metadata": {},
     "output_type": "execute_result"
    }
   ],
   "source": [
    "grid = [[-1, 2, 3],\n",
    "        [4, 0, 0],\n",
    "        [-2, 0, 9]]\n",
    "subgrid_sums(grid)"
   ]
  },
  {
   "cell_type": "code",
   "execution_count": null,
   "id": "6dcd3694-03c1-45fe-987d-0abd7b0e315e",
   "metadata": {},
   "outputs": [],
   "source": []
  }
 ],
 "metadata": {
  "kernelspec": {
   "display_name": "Python 3 (ipykernel)",
   "language": "python",
   "name": "python3"
  },
  "language_info": {
   "codemirror_mode": {
    "name": "ipython",
    "version": 3
   },
   "file_extension": ".py",
   "mimetype": "text/x-python",
   "name": "python",
   "nbconvert_exporter": "python",
   "pygments_lexer": "ipython3",
   "version": "3.12.4"
  }
 },
 "nbformat": 4,
 "nbformat_minor": 5
}
