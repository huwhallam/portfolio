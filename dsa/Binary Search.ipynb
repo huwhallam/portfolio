{
 "cells": [
  {
   "cell_type": "markdown",
   "id": "e951b2c4-6d24-4c35-8a38-8a193c6da8ea",
   "metadata": {},
   "source": [
    "# Binary Search"
   ]
  },
  {
   "cell_type": "markdown",
   "id": "e16eb1de-fb91-4a74-8cd1-886d46c86c71",
   "metadata": {},
   "source": [
    "#### Search in sorted array\n",
    "Given a sorted array of distinct integers and a target value, return the target's index, if it's in the array, or -1."
   ]
  },
  {
   "cell_type": "code",
   "execution_count": 34,
   "id": "b39e5a9f-d41f-4ec3-83d8-4e3f9461aba5",
   "metadata": {},
   "outputs": [],
   "source": [
    "# The approach is to continuously halve the array, checking whether the target value is above or below the value at the midpoint \n",
    "# so as to determine which half to keep. This uses a variant of the inward pointer method.\n",
    "# Invariant: t is always between arr[l] and arr[r], inclusive.\n",
    "def binary_search(arr, t):\n",
    "    n = len(arr)\n",
    "    if n > 0:\n",
    "        l, r = 0, n - 1\n",
    "        while arr[l] <= t <= arr[r]:\n",
    "            m = (l + r) // 2 # NB if l = r then m = l = r\n",
    "            if arr[m] == t:\n",
    "                return m\n",
    "            elif arr[m] > t:\n",
    "                r = m-1\n",
    "            else:\n",
    "                l = m+1\n",
    "    return -1"
   ]
  },
  {
   "cell_type": "code",
   "execution_count": 32,
   "id": "dcdbc44e-3896-422e-9aaa-058f1a36912a",
   "metadata": {},
   "outputs": [
    {
     "name": "stdout",
     "output_type": "stream",
     "text": [
      "Searching for 3 in [-2, 0, 3, 4, 7, 9, 11]: 2\n",
      "Searching for 2 in [-2, 0, 3, 4, 7, 9, 11]: -1\n",
      "Searching for -3 in [-2, 0, 3, 4, 7, 9, 11]: -1\n",
      "Searching for 12 in [-2, 0, 3, 4, 7, 9, 11]: -1\n",
      "Searching for 11 in [-2, 0, 3, 4, 7, 9, 11]: 6\n",
      "Searching for 3 in []: -1\n"
     ]
    }
   ],
   "source": [
    "arr = [-2,0,3,4,7,9,11]\n",
    "t = 3\n",
    "print(f\"Searching for {t} in {arr}: {binary_search(arr, t)}\")\n",
    "t = 2\n",
    "print(f\"Searching for {t} in {arr}: {binary_search(arr, t)}\")\n",
    "t = -3\n",
    "print(f\"Searching for {t} in {arr}: {binary_search(arr, t)}\")\n",
    "t = 12\n",
    "print(f\"Searching for {t} in {arr}: {binary_search(arr, t)}\")\n",
    "t = 11\n",
    "print(f\"Searching for {t} in {arr}: {binary_search(arr, t)}\")\n",
    "arr = []\n",
    "t = 3\n",
    "print(f\"Searching for {t} in {arr}: {binary_search(arr, t)}\")"
   ]
  },
  {
   "cell_type": "markdown",
   "id": "67b5af4c-ac0f-4f20-ad73-6652ccf339e2",
   "metadata": {},
   "source": [
    "#### CCTV footage\n",
    "Your bike has been stolen. There's CCTV footage and you need to find the time when it's taken. You have two timestamps, t1 and t2, which record when you parked the bike and when you discovered it had been stolen. You have an api to work with, `is_stolen(t)`, which takes a timestamp as an input and returns True if the bike is missing."
   ]
  },
  {
   "cell_type": "code",
   "execution_count": 37,
   "id": "470d30ed-5dae-458f-979c-b23b79d4683f",
   "metadata": {},
   "outputs": [],
   "source": [
    "def is_before(val):\n",
    "    return not is_stolen(val)\n",
    "\n",
    "def cctv_footage(t1, t2):\n",
    "    l, r = t1, t2\n",
    "    while l - r > 1:\n",
    "        mid = (l + r) // 2\n",
    "        if is_before(mid):\n",
    "            l = mid\n",
    "        else:\n",
    "            r = mid\n",
    "    return r"
   ]
  },
  {
   "cell_type": "markdown",
   "id": "2bad04fc-4eee-4603-aadc-27a06ded97a8",
   "metadata": {},
   "source": [
    "### Recipe: Transition-point\n",
    "The edge cases ensure that l is in the before range and r is in the after range, which can then be taken as invariant. Also invariant: l and r are never equal and never cross over. The midpoint is always strictly between l and r. And when we exit the loop, l and r are always next to each other."
   ]
  },
  {
   "cell_type": "code",
   "execution_count": 42,
   "id": "e51c550a-aacc-4df7-b250-d8897192c066",
   "metadata": {},
   "outputs": [],
   "source": [
    "def is_before(val):\n",
    "    # returns whether val is 'before' transition point\n",
    "\n",
    "def transition_point_recipe():\n",
    "    # initialise l and r to the first and last values in the range\n",
    "    # handle edge cases:\n",
    "    # - the range is empty\n",
    "    # - l is 'after' (the whole range is 'after')\n",
    "    # - r is 'before' (the whole range is 'before')\n",
    "    while r - l > 1: # while l and ra are not next to each other\n",
    "        mid = (l + r)/2 # May need to be floor division\n",
    "        if is_before(mid):\n",
    "            l = mid\n",
    "        else:\n",
    "            r = mid\n",
    "    return l # (the last 'before'), r (the first 'after'), or something else depending on the problem."
   ]
  },
  {
   "cell_type": "markdown",
   "id": "d0fb4ede-6e64-403a-9def-4d1cab575662",
   "metadata": {},
   "source": [
    "#### Analysis\n",
    "binary search takes $O(log n)$ time complexity, compared to $O(n)$ for a linear search."
   ]
  },
  {
   "cell_type": "markdown",
   "id": "763078ac-07e1-4edd-924f-856a40b8bd36",
   "metadata": {},
   "source": [
    "#### GIT commits\n",
    "Find the first commit that fails in a sequence of Git commits.\n",
    "\n",
    "Approach: \n",
    " - initialise l and r pointers to first and last entries in sequence;\n",
    " - check edge cases: that the entry at l passed and the entry at r failed;\n",
    " - create a loop that calculates the mid-point between l and r and checks the commit at that point then updates either l or r to that trasition point depending on whether the commit passed or failed. This loop should continue until l and r are consecutive.\n",
    " - once the loop has finished, r will be the index of the first commit fail."
   ]
  },
  {
   "cell_type": "markdown",
   "id": "6d3622b2-f55b-48c8-81e7-574eadccddb9",
   "metadata": {},
   "source": [
    "#### Squared target\n",
    "Find the highest number in a sorted array of positive integers whose square is less than a given target.\n",
    "\n",
    "Approach:\n",
    "- initialise l and r pointers to first and last indices of array;\n",
    "- edge cases: ensure entries at $l^{2} < target$ and $r^{2} >= target$;\n",
    "- create `is_before()` function that establishes whether the square of a given entry is less than the target;\n",
    "- run a while-loop that calculates the midpoint between l and r, runs the validation function using the midpoint entry, and then shifts l or r to the midpoint depending on whether the validation function returns true. This loop should continue until r is no longer > l.\n",
    "- At this point the l index will indicate the highest entry that can be squared without exceeding the target. The function should return the array entry at index l."
   ]
  },
  {
   "cell_type": "code",
   "execution_count": null,
   "id": "53a57504-83b2-452b-a4d8-d3cadd094a71",
   "metadata": {},
   "outputs": [],
   "source": []
  }
 ],
 "metadata": {
  "kernelspec": {
   "display_name": "Python 3 (ipykernel)",
   "language": "python",
   "name": "python3"
  },
  "language_info": {
   "codemirror_mode": {
    "name": "ipython",
    "version": 3
   },
   "file_extension": ".py",
   "mimetype": "text/x-python",
   "name": "python",
   "nbconvert_exporter": "python",
   "pygments_lexer": "ipython3",
   "version": "3.12.4"
  }
 },
 "nbformat": 4,
 "nbformat_minor": 5
}
