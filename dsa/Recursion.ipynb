{
 "cells": [
  {
   "cell_type": "markdown",
   "id": "2c819c05-7ce7-436f-bc79-faf056dc68d4",
   "metadata": {},
   "source": [
    "# Recursion\n",
    "Recursive functions call themselves repeatedly until a base case is reached."
   ]
  },
  {
   "cell_type": "code",
   "execution_count": null,
   "id": "b020a665-68e7-4235-af45-7ccf735cb5b3",
   "metadata": {},
   "outputs": [],
   "source": [
    "# A recursive function could be represented abstractly as:\n",
    "'''\n",
    "function foo(input):\n",
    "    if input == BASE_CASE:\n",
    "        return DIRECT_ANSWER\n",
    "    else:\n",
    "        return foo(input.part1) + foo(input.part2)\n",
    "'''"
   ]
  },
  {
   "cell_type": "markdown",
   "id": "1289531e-3ce7-41ec-b490-5af08d0a7172",
   "metadata": {},
   "source": [
    "To deal with recursion, the computer uses instruction pointers to keep track of where it is in the code. It stores return addresses as new stack frames in the call stack memory. The call stack the 'pops' the frame from the top of the stack when it is returned to. <b>Stack overflow</b> occurs when the call stack gets too large. Stack memory is reserved in advance as a fixed amount and programs may crash if they can no longer handle function calls properly.\n",
    "\n",
    "Python has a default limit of 1000 stack frames, which can easily be exhausted when using recursive functions."
   ]
  },
  {
   "cell_type": "markdown",
   "id": "a04e3b52-eec8-4c10-b6d8-31f403f0b648",
   "metadata": {},
   "source": [
    "#### Robot instructions\n",
    "A robot is given a sequence of instructions, consisting of the characters 'L' (left), 'R'(right) and '2', which means <i>perform all subsequent instructions twice, but skipping the instruction that immediately follows the second time round</i> ('2' never occurs at the end of the sequence). Output a string of the 'L' and 'R' moves the robot should perform."
   ]
  },
  {
   "cell_type": "code",
   "execution_count": 99,
   "id": "471050cc-4927-494e-a8cc-dcb094a94d08",
   "metadata": {},
   "outputs": [],
   "source": [
    "def robot_moves(seq):\n",
    "    if len(seq) == 0:\n",
    "        return ''\n",
    "    if seq[0] == '2':\n",
    "        return robot_moves(seq[1:]) + robot_moves(seq[2:])\n",
    "    else:\n",
    "        return seq[0] + robot_moves(seq[1:])"
   ]
  },
  {
   "cell_type": "code",
   "execution_count": 121,
   "id": "1dd3087e-e510-4eb6-8420-635f1534dc6a",
   "metadata": {},
   "outputs": [
    {
     "name": "stdout",
     "output_type": "stream",
     "text": [
      "Given input sequence LL, robot will move: LL.\n",
      "Given input sequence 2LR, robot will move: LRR.\n",
      "Given input sequence 2L, robot will move: L.\n",
      "Given input sequence 22LR, robot will move: LRRLR.\n",
      "Given input sequence LL2R2L, robot will move: LLRLL.\n"
     ]
    }
   ],
   "source": [
    "seq = 'LL'\n",
    "print(f\"Given input sequence {seq}, robot will move: {robot_moves(seq)}.\")\n",
    "seq = '2LR'\n",
    "print(f\"Given input sequence {seq}, robot will move: {robot_moves(seq)}.\")\n",
    "seq = '2L'\n",
    "print(f\"Given input sequence {seq}, robot will move: {robot_moves(seq)}.\")\n",
    "seq = '22LR'\n",
    "print(f\"Given input sequence {seq}, robot will move: {robot_moves(seq)}.\")\n",
    "seq = 'LL2R2L'\n",
    "print(f\"Given input sequence {seq}, robot will move: {robot_moves(seq)}.\")"
   ]
  },
  {
   "cell_type": "code",
   "execution_count": 115,
   "id": "a82bb957-5e11-4892-a81f-a4d2bd8d18c3",
   "metadata": {},
   "outputs": [],
   "source": [
    "# The above solution contains inefficiency insofar as it creates copies of seq at with every recursion. \n",
    "# It also produces multiple strings which are then concatenated to make new strings.\n",
    "# The following implementation solves these two issues.\n",
    "\n",
    "def robot_moves(seq):\n",
    "    res = []\n",
    "    move(seq, 0, res)\n",
    "    return ''.join(res)\n",
    "\n",
    "def move(seq, idx, res):\n",
    "    if idx == len(seq):\n",
    "        return\n",
    "    if seq[idx] == '2':\n",
    "        move(seq, idx+1, res)\n",
    "        move(seq, idx+2, res)\n",
    "    else:\n",
    "        res.append(seq[idx])\n",
    "        move(seq, idx+1, res)"
   ]
  },
  {
   "cell_type": "code",
   "execution_count": 119,
   "id": "33534d73-1448-4713-aae4-9eea402fdf5c",
   "metadata": {},
   "outputs": [],
   "source": [
    "# This could also be written with the helper function embedded within the main function. This makes it clearer that\n",
    "# seq and res are being shared and not constantly copied.\n",
    "\n",
    "def robot_moves(seq):\n",
    "    res = []\n",
    "    # helper function\n",
    "    def move(idx):\n",
    "        if idx == len(seq):\n",
    "            return\n",
    "        if seq[idx] =='2':\n",
    "            move(idx+1)\n",
    "            move(idx+2)\n",
    "        else:\n",
    "            res.append(seq[idx])\n",
    "            move(idx+1)\n",
    "    # end of helper function\n",
    "    move(0)\n",
    "    return ''.join(res)"
   ]
  },
  {
   "cell_type": "code",
   "execution_count": null,
   "id": "49c4c18b-e047-4451-8700-dafa19effdb6",
   "metadata": {},
   "outputs": [],
   "source": []
  }
 ],
 "metadata": {
  "kernelspec": {
   "display_name": "Python 3 (ipykernel)",
   "language": "python",
   "name": "python3"
  },
  "language_info": {
   "codemirror_mode": {
    "name": "ipython",
    "version": 3
   },
   "file_extension": ".py",
   "mimetype": "text/x-python",
   "name": "python",
   "nbconvert_exporter": "python",
   "pygments_lexer": "ipython3",
   "version": "3.12.4"
  }
 },
 "nbformat": 4,
 "nbformat_minor": 5
}
