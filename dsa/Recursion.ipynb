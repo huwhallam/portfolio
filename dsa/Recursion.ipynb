{
 "cells": [
  {
   "cell_type": "markdown",
   "id": "2c819c05-7ce7-436f-bc79-faf056dc68d4",
   "metadata": {},
   "source": [
    "# Recursion\n",
    "Recursive functions call themselves repeatedly until a base case is reached."
   ]
  },
  {
   "cell_type": "code",
   "execution_count": 2,
   "id": "b020a665-68e7-4235-af45-7ccf735cb5b3",
   "metadata": {},
   "outputs": [
    {
     "data": {
      "text/plain": [
       "'\\nfunction foo(input):\\n    if input == BASE_CASE:\\n        return DIRECT_ANSWER\\n    else:\\n        return foo(input.part1) + foo(input.part2)\\n'"
      ]
     },
     "execution_count": 2,
     "metadata": {},
     "output_type": "execute_result"
    }
   ],
   "source": [
    "# A recursive function could be represented abstractly as:\n",
    "'''\n",
    "function foo(input):\n",
    "    if input == BASE_CASE:\n",
    "        return DIRECT_ANSWER\n",
    "    else:\n",
    "        return foo(input.part1) + foo(input.part2)\n",
    "'''"
   ]
  },
  {
   "cell_type": "markdown",
   "id": "1289531e-3ce7-41ec-b490-5af08d0a7172",
   "metadata": {},
   "source": [
    "To deal with recursion, the computer uses instruction pointers to keep track of where it is in the code. It stores return addresses as new stack frames in the call stack memory. The call stack the 'pops' the frame from the top of the stack when it is returned to. <b>Stack overflow</b> occurs when the call stack gets too large. Stack memory is reserved in advance as a fixed amount and programs may crash if they can no longer handle function calls properly.\n",
    "\n",
    "Python has a default limit of 1000 stack frames, which can easily be exhausted when using recursive functions."
   ]
  },
  {
   "cell_type": "markdown",
   "id": "a04e3b52-eec8-4c10-b6d8-31f403f0b648",
   "metadata": {},
   "source": [
    "#### Robot instructions\n",
    "A robot is given a sequence of instructions, consisting of the characters 'L' (left), 'R'(right) and '2', which means <i>perform all subsequent instructions twice, but skipping the instruction that immediately follows the second time round</i> ('2' never occurs at the end of the sequence). Output a string of the 'L' and 'R' moves the robot should perform."
   ]
  },
  {
   "cell_type": "code",
   "execution_count": 5,
   "id": "471050cc-4927-494e-a8cc-dcb094a94d08",
   "metadata": {},
   "outputs": [],
   "source": [
    "def robot_moves(seq):\n",
    "    if len(seq) == 0:\n",
    "        return ''\n",
    "    if seq[0] == '2':\n",
    "        return robot_moves(seq[1:]) + robot_moves(seq[2:])\n",
    "    else:\n",
    "        return seq[0] + robot_moves(seq[1:])"
   ]
  },
  {
   "cell_type": "code",
   "execution_count": 6,
   "id": "1dd3087e-e510-4eb6-8420-635f1534dc6a",
   "metadata": {},
   "outputs": [
    {
     "name": "stdout",
     "output_type": "stream",
     "text": [
      "Given input sequence LL, robot will move: LL.\n",
      "Given input sequence 2LR, robot will move: LRR.\n",
      "Given input sequence 2L, robot will move: L.\n",
      "Given input sequence 22LR, robot will move: LRRLR.\n",
      "Given input sequence LL2R2L, robot will move: LLRLL.\n"
     ]
    }
   ],
   "source": [
    "seq = 'LL'\n",
    "print(f\"Given input sequence {seq}, robot will move: {robot_moves(seq)}.\")\n",
    "seq = '2LR'\n",
    "print(f\"Given input sequence {seq}, robot will move: {robot_moves(seq)}.\")\n",
    "seq = '2L'\n",
    "print(f\"Given input sequence {seq}, robot will move: {robot_moves(seq)}.\")\n",
    "seq = '22LR'\n",
    "print(f\"Given input sequence {seq}, robot will move: {robot_moves(seq)}.\")\n",
    "seq = 'LL2R2L'\n",
    "print(f\"Given input sequence {seq}, robot will move: {robot_moves(seq)}.\")"
   ]
  },
  {
   "cell_type": "code",
   "execution_count": 7,
   "id": "a82bb957-5e11-4892-a81f-a4d2bd8d18c3",
   "metadata": {},
   "outputs": [],
   "source": [
    "# The above solution contains inefficiency insofar as it creates copies of seq at with every recursion. \n",
    "# It also produces multiple strings which are then concatenated to make new strings.\n",
    "# The following implementation solves these two issues.\n",
    "\n",
    "def robot_moves(seq):\n",
    "    res = []\n",
    "    move(seq, 0, res)\n",
    "    return ''.join(res)\n",
    "\n",
    "def move(seq, idx, res):\n",
    "    if idx == len(seq):\n",
    "        return\n",
    "    if seq[idx] == '2':\n",
    "        move(seq, idx+1, res)\n",
    "        move(seq, idx+2, res)\n",
    "    else:\n",
    "        res.append(seq[idx])\n",
    "        move(seq, idx+1, res)"
   ]
  },
  {
   "cell_type": "code",
   "execution_count": 8,
   "id": "33534d73-1448-4713-aae4-9eea402fdf5c",
   "metadata": {},
   "outputs": [],
   "source": [
    "# This could also be written with the helper function embedded within the main function. This makes it clearer that\n",
    "# seq and res are being shared and not constantly copied.\n",
    "\n",
    "def robot_moves(seq):\n",
    "    res = []\n",
    "    # helper function\n",
    "    def move(idx):\n",
    "        if idx == len(seq):\n",
    "            return\n",
    "        if seq[idx] =='2':\n",
    "            move(idx+1)\n",
    "            move(idx+2)\n",
    "        else:\n",
    "            res.append(seq[idx])\n",
    "            move(idx+1)\n",
    "    # end of helper function\n",
    "    move(0)\n",
    "    return ''.join(res)"
   ]
  },
  {
   "cell_type": "markdown",
   "id": "1a5c9b70-973d-474b-847e-3c4813b9855d",
   "metadata": {},
   "source": [
    "#### Nested array sum\n",
    "A nested array is an array whose elements are either integers or nested arrays. Given a nested array, return the sum of all of its elements."
   ]
  },
  {
   "cell_type": "code",
   "execution_count": 10,
   "id": "3eaa9675-0724-4910-be6e-1200ec655a7e",
   "metadata": {},
   "outputs": [],
   "source": [
    "# This implementation involves eager checking: we check if each instance in the array is an interval before passing the recursive function\n",
    "def nested_array_sum(arr):\n",
    "    agg = 0\n",
    "    for item in arr:\n",
    "        if isinstance(item, int):\n",
    "            agg += item\n",
    "        else:\n",
    "            agg += nested_array_sum(item)\n",
    "    return agg"
   ]
  },
  {
   "cell_type": "code",
   "execution_count": 11,
   "id": "639ddf2d-b7c4-4145-9620-60f03fa4338b",
   "metadata": {},
   "outputs": [
    {
     "name": "stdout",
     "output_type": "stream",
     "text": [
      "Given input array [1, [2, 3], [4, [5]], 6], sum of elements returned is 21\n",
      "Given input array [[[[1]], 2]], sum of elements returned is 3\n",
      "Given input array [], sum of elements returned is 0\n"
     ]
    }
   ],
   "source": [
    "arr = [1, [2, 3], [4, [5]], 6]\n",
    "print(f\"Given input array {arr}, sum of elements returned is {nested_array_sum(arr)}\")\n",
    "arr = [[[[1]],2]]\n",
    "print(f\"Given input array {arr}, sum of elements returned is {nested_array_sum(arr)}\")\n",
    "arr = []\n",
    "print(f\"Given input array {arr}, sum of elements returned is {nested_array_sum(arr)}\")"
   ]
  },
  {
   "cell_type": "code",
   "execution_count": 12,
   "id": "dd06a272-add5-40e4-9f8c-0fae88445ddf",
   "metadata": {},
   "outputs": [],
   "source": [
    "# This is the lazy counterpart: it runs the recursive function on all elements, whether they are integers or arrays.\n",
    "# Both eager and lazy versions have the same runtime.\n",
    "def nested_array_sum(arr):\n",
    "    if isinstance(arr, int):\n",
    "        return arr\n",
    "    agg = 0\n",
    "    for item in arr:\n",
    "        agg += nested_array_sum(item)\n",
    "    return agg"
   ]
  },
  {
   "cell_type": "markdown",
   "id": "ff4d57c7-0695-474e-954e-30b0e73d0bc4",
   "metadata": {},
   "source": [
    "### Big O analysis\n",
    "To understand efficiency we need to look at the sum of work done at each node. That means estimating the number of nodes. To do this we look at the maximum depth of the recursive tree (d = n+1, where n is the length of the sequence) and the number of branches. The maximum number of nodes is $O(b^{d})$. If the branching factor is 2, as in the robot instructions implementation, the maximum possible number of nodes is approximately $O(2^n)$. Often the true value will be much lower as not all leaves will be used.\n",
    "\n",
    "Efficiency can then be calculated using the BAD method as $O(b^d * A)$ where $O(A)$ is the upper bound of time used at each recursion. This may not be tight for multiple reasons:\n",
    "- not all leaves are at maximum depth\n",
    "- the maximum branching factor isn't always employed\n",
    "- not all nodes do the same amount of additional work."
   ]
  },
  {
   "cell_type": "markdown",
   "id": "6a7f9c75-ef2e-4821-876f-a56fc13502d8",
   "metadata": {},
   "source": [
    "#### Bounded twos\n",
    "With respect to the robot instructions implementation, if the input sequence has at most 5 instances of '2', how does that affect the runtime?\n",
    "\n",
    "This means nodes can split into children at 5 levels of the tree, so the number of leaves is $2^5 = 32$ and the number of nodes is $32*n$. Additional work per node is $O(1)$, thus the runtime complexity is $O(n)$. "
   ]
  },
  {
   "cell_type": "markdown",
   "id": "1312ddb0-f310-4b5b-93c2-646897bee713",
   "metadata": {},
   "source": [
    "#### Triple repeat\n",
    "Consider a version of robot instructions that also contains a '3' instruction, which means, repeat all the instructions after this 3 times.\n",
    "\n",
    "In the implementation below, I copy a slice from the results array rather than creating additional branching. This means the complexity is still $O(2^n)$. If I had instead recalled the function recursively three times, time complexity would be $O(3^n)$."
   ]
  },
  {
   "cell_type": "code",
   "execution_count": 16,
   "id": "7467662e-cab1-42de-b390-ec40fec7637a",
   "metadata": {},
   "outputs": [],
   "source": [
    "def robot_moves(seq):\n",
    "    res = []\n",
    "    move(seq, 0, res)\n",
    "    return ''.join(res)\n",
    "\n",
    "def move(seq, idx, res):\n",
    "    if idx == len(seq):\n",
    "        return\n",
    "    if seq[idx] == '2':\n",
    "        move(seq, idx+1, res)\n",
    "        move(seq, idx+2, res)\n",
    "    elif seq[idx] == '3':\n",
    "        initial_res_length = len(res)\n",
    "        move(seq, idx+1, res)\n",
    "        res += res[initial_res_length:] * 2\n",
    "    else:\n",
    "        res.append(seq[idx])\n",
    "        move(seq, idx+1, res)"
   ]
  },
  {
   "cell_type": "code",
   "execution_count": 17,
   "id": "6a01c4c0-df44-430d-a14a-e51a72828bb9",
   "metadata": {},
   "outputs": [
    {
     "name": "stdout",
     "output_type": "stream",
     "text": [
      "Given input sequence L3L, robot will move: LLLL.\n",
      "Given input sequence 2L3R, robot will move: LRRRRRR.\n",
      "Given input sequence 32L, robot will move: LLL.\n",
      "Given input sequence 232LR, robot will move: LRRLRRLRRLRR.\n",
      "Given input sequence LL2R2L3, robot will move: LLRLL.\n"
     ]
    }
   ],
   "source": [
    "seq = 'L3L'\n",
    "print(f\"Given input sequence {seq}, robot will move: {robot_moves(seq)}.\")\n",
    "seq = '2L3R'\n",
    "print(f\"Given input sequence {seq}, robot will move: {robot_moves(seq)}.\")\n",
    "seq = '32L'\n",
    "print(f\"Given input sequence {seq}, robot will move: {robot_moves(seq)}.\")\n",
    "seq = '232LR'\n",
    "print(f\"Given input sequence {seq}, robot will move: {robot_moves(seq)}.\")\n",
    "seq = 'LL2R2L3'\n",
    "print(f\"Given input sequence {seq}, robot will move: {robot_moves(seq)}.\")"
   ]
  },
  {
   "cell_type": "markdown",
   "id": "73002693-9831-4c92-aed8-b1e930ff69af",
   "metadata": {},
   "source": [
    "#### Star multiplier\n",
    "Now add the instruction '*', which means do 'R' n times, where n is the length of the input sequence. This new instruction requires $O(n)$ time complexity, so we update the overall time complexity to $O(2^n*n)$"
   ]
  },
  {
   "cell_type": "code",
   "execution_count": 19,
   "id": "d8b25d8f-6cbf-4a27-9114-011ff3cbcaa1",
   "metadata": {},
   "outputs": [],
   "source": [
    "# I wouldn't add further recursion to solve this. There will be no affect on time complexity.\n",
    "def robot_moves(seq):\n",
    "    n = len(seq)\n",
    "    res = []\n",
    "    move(seq, 0, res, n)\n",
    "    return ''.join(res)\n",
    "\n",
    "def move(seq, idx, res, n):\n",
    "    if idx == len(seq):\n",
    "        return\n",
    "    if seq[idx] == '2':\n",
    "        move(seq, idx+1, res, n)\n",
    "        move(seq, idx+2, res, n)\n",
    "    elif seq[idx] == '3':\n",
    "        initial_res_length = len(res)\n",
    "        move(seq, idx+1, res, n)\n",
    "        res += res[initial_res_length:] * 2\n",
    "    elif seq[idx] == '*':\n",
    "        res += 'R' * n\n",
    "        move(seq, idx+1, res, n)\n",
    "    else:\n",
    "        res.append(seq[idx])\n",
    "        move(seq, idx+1, res, n)\n"
   ]
  },
  {
   "cell_type": "code",
   "execution_count": 20,
   "id": "c5137f5e-77dc-4c18-9957-59e4d850d3b9",
   "metadata": {},
   "outputs": [
    {
     "name": "stdout",
     "output_type": "stream",
     "text": [
      "Given input sequence L*3L, robot will move: LRRRRLLL.\n",
      "Given input sequence 2*L3R*, robot will move: RRRRRRLRRRRRRRRRRRRRRRRRRRRRLRRRRRRRRRRRRRRRRRRRRR.\n",
      "Given input sequence *32L, robot will move: RRRRLLL.\n",
      "Given input sequence 23*2LR, robot will move: RRRRRRLRRRRRRRRLRRRRRRRRLRRRRRRRRLRR.\n",
      "Given input sequence L*L2R2L3, robot will move: LRRRRRRRRLRLL.\n"
     ]
    }
   ],
   "source": [
    "seq = 'L*3L'\n",
    "print(f\"Given input sequence {seq}, robot will move: {robot_moves(seq)}.\")\n",
    "seq = '2*L3R*'\n",
    "print(f\"Given input sequence {seq}, robot will move: {robot_moves(seq)}.\")\n",
    "seq = '*32L'\n",
    "print(f\"Given input sequence {seq}, robot will move: {robot_moves(seq)}.\")\n",
    "seq = '23*2LR'\n",
    "print(f\"Given input sequence {seq}, robot will move: {robot_moves(seq)}.\")\n",
    "seq = 'L*L2R2L3'\n",
    "print(f\"Given input sequence {seq}, robot will move: {robot_moves(seq)}.\")"
   ]
  },
  {
   "cell_type": "markdown",
   "id": "968430a2-29ea-4170-b486-3d60b58e3eda",
   "metadata": {},
   "source": [
    "#### Powers mod m\n",
    "Given $a > 1$, $p \\ge 0$ and $m > 1$, calculate $a^p \\ \\% m$, without storing intermediate values much larger than $m$.\n",
    "\n",
    "Note: If an operation involves addition, subtraction and multiplication, <i>but not division</i>, you can use modulo at each step without it affecting the result. This can help avoid overflow when working with large numbers."
   ]
  },
  {
   "cell_type": "code",
   "execution_count": 22,
   "id": "a3a74db6-50c6-4a8b-9b4a-070403baf806",
   "metadata": {},
   "outputs": [],
   "source": [
    "# Rather than applying recursion to each increment of p, p-1, p-2... (O(p) complexity), we can halve p, if it's even, and square a^p.\n",
    "# This gets us to the base case much more rapidly (O(log p) time).\n",
    "\n",
    "def powers_mod_m(a, p, m):\n",
    "    if p==0:\n",
    "        return 1\n",
    "    if p%2 == 0:\n",
    "        return (powers_mod_m(a, p/2, m)**2) % m\n",
    "    else:\n",
    "        return (a * powers_mod_m(a, p-1, m)) % m"
   ]
  },
  {
   "cell_type": "code",
   "execution_count": 23,
   "id": "7a0aa1f0-0bab-4692-b39e-aa1ced749336",
   "metadata": {},
   "outputs": [
    {
     "name": "stdout",
     "output_type": "stream",
     "text": [
      "If a = 2, p = 5 and m = 100, a^p %m = 32\n",
      "If a = 2, p = 5 and m = 30, a^p %m = 2\n"
     ]
    }
   ],
   "source": [
    "a, p, m = 2, 5, 100\n",
    "print(f\"If a = {a}, p = {p} and m = {m}, a^p %m = {powers_mod_m(a, p, m)}\")\n",
    "a, p, m = 2, 5, 30\n",
    "print(f\"If a = {a}, p = {p} and m = {m}, a^p %m = {powers_mod_m(a, p, m)}\")"
   ]
  },
  {
   "cell_type": "markdown",
   "id": "26f67397-9a51-4b30-b7ec-adfc46009322",
   "metadata": {},
   "source": [
    "#### Tiling a 1xN floor\n",
    "Find the different ways to cover a $1*n$ floor with $1*1$ and $1*2$ tiles (n > 1)."
   ]
  },
  {
   "cell_type": "markdown",
   "id": "f69e1d51-7845-4e57-ae45-dd9d11cb6ba4",
   "metadata": {},
   "source": [
    "We create a recursive function, `possibilities(n)`, which returns $1$, if $n == 1$; $2$, if $n==2$; otherwise it returns $possibililties(n-2) + possibilities(n-1)$ (the Fibonacci series). The function should maintain a dictionary of return values for n, so that it doesn't have to repeat calculate them. As the function then only has to calculate two nodes per recursive level, its runtime is $O(2n) = O(n)."
   ]
  },
  {
   "cell_type": "code",
   "execution_count": 26,
   "id": "de24d615-eda3-4086-8032-00f632a05936",
   "metadata": {},
   "outputs": [],
   "source": [
    "def fibonacci(n):\n",
    "    memos = {1:1, 2:2}\n",
    "    def possibilities(m):\n",
    "        #print(f\"Checking for {m} in memos...\")\n",
    "        if m not in memos:\n",
    "            #print(f\"Not found so adding to memos via new recursive call...\")\n",
    "            memos[m] = possibilities(m-1) + possibilities(m-2)\n",
    "        #print(f\"Returning possibility count {memos[m]} for n = {m}\")\n",
    "        return memos[m]\n",
    "    res = possibilities(n)\n",
    "    '''\n",
    "    print(\"recursion finished. Now returning items stored in memos\")\n",
    "    for k,v in memos.items():\n",
    "        print(k, v)\n",
    "    '''\n",
    "    return res"
   ]
  },
  {
   "cell_type": "code",
   "execution_count": 27,
   "id": "1f33121b-74b8-45da-b274-dc5134ecc314",
   "metadata": {},
   "outputs": [
    {
     "data": {
      "text/plain": [
       "233"
      ]
     },
     "execution_count": 27,
     "metadata": {},
     "output_type": "execute_result"
    }
   ],
   "source": [
    "fibonacci(12)"
   ]
  },
  {
   "cell_type": "markdown",
   "id": "62ac3e22-59f0-42d2-aaa4-5e22e087c234",
   "metadata": {},
   "source": [
    "#### Tiling a 3xN floor\n",
    "Now find the different ways to cover a $3*n$ floor using (rotatable) $3*1$ tiles. $n \\ge 3$"
   ]
  },
  {
   "cell_type": "code",
   "execution_count": 29,
   "id": "14b31bef-606d-42b7-8bae-0ced6c4b398b",
   "metadata": {},
   "outputs": [],
   "source": [
    "def tiling_by_3(n):\n",
    "    memos = {1:1, 2:1, 3:2}\n",
    "    def possibilities(m):\n",
    "        if m not in memos:\n",
    "            memos[m] = possibilities(m-1)+possibilities(m-3)\n",
    "        return memos[m]\n",
    "    res = possibilities(n)\n",
    "    return res    "
   ]
  },
  {
   "cell_type": "code",
   "execution_count": 30,
   "id": "eb35e3ed-4412-4273-858f-57f80b125031",
   "metadata": {},
   "outputs": [
    {
     "data": {
      "text/plain": [
       "13"
      ]
     },
     "execution_count": 30,
     "metadata": {},
     "output_type": "execute_result"
    }
   ],
   "source": [
    "tiling_by_3(8)"
   ]
  },
  {
   "cell_type": "markdown",
   "id": "1e88dda5-71f5-4b6e-823c-03001be9d911",
   "metadata": {},
   "source": [
    "#### Lego castle\n",
    "You're building a 2D lego castle. A one story castle consists of a 1x1 block. Each additional story is made with two previous story castles, separated by a unit space and a full row of blocks above that connects them. How many 1x1 blocks are needed to create a castle with $n$ stories?"
   ]
  },
  {
   "cell_type": "code",
   "execution_count": 32,
   "id": "64007a17-9f8f-46c6-814f-f6891a7b72c9",
   "metadata": {},
   "outputs": [],
   "source": [
    "def lego_castle(n):\n",
    "    memos = {0:0, 1:1}\n",
    "    def brick_count(n):\n",
    "        if n not in memos:\n",
    "            memos[n] = 4 * (brick_count(n-1) - brick_count(n-2)) + 1\n",
    "        return memos[n]\n",
    "    return brick_count(n)"
   ]
  },
  {
   "cell_type": "code",
   "execution_count": 33,
   "id": "7ff780a0-a5c6-402f-a778-98d121664855",
   "metadata": {},
   "outputs": [
    {
     "name": "stdout",
     "output_type": "stream",
     "text": [
      "Bricks needed for 0-story castle: 0\n",
      "Bricks needed for 1-story castle: 1\n",
      "Bricks needed for 2-story castle: 5\n",
      "Bricks needed for 3-story castle: 17\n",
      "Bricks needed for 4-story castle: 49\n",
      "Bricks needed for 5-story castle: 129\n"
     ]
    }
   ],
   "source": [
    "for n in range(6):\n",
    "    print(f\"Bricks needed for {n}-story castle: {lego_castle(n)}\")"
   ]
  },
  {
   "cell_type": "markdown",
   "id": "a7bb5c86-541d-4dca-a996-2256c724d393",
   "metadata": {},
   "source": [
    "#### Laminal arrays\n",
    "Given an array whose length is a power of 2, return the maximum sum of either that array, any of its items, either half of it or of any of its further subdivisions by half"
   ]
  },
  {
   "cell_type": "code",
   "execution_count": 35,
   "id": "4bb276a5-3888-4d9f-a531-146b30c83174",
   "metadata": {},
   "outputs": [],
   "source": [
    "def laminal(arr):\n",
    "\n",
    "    l,r = 0,len(arr)\n",
    "    res = arr[0]\n",
    "    #print('res initialised as ', res)\n",
    "\n",
    "    def divider(l,r,res):\n",
    "        #print(f'now running divider with params l={l}, r={r}, res={res}')\n",
    "        res = max(res, sum(arr[l:r]))\n",
    "        #print(f'res is now {res}')\n",
    "        if r-l > 1:\n",
    "            #print('r-l > 1, so will run divider on two halves of array')\n",
    "            res = max(divider(l, (l+r)//2, res), divider((l+r)//2, r, res))\n",
    "            #print(f\"After running divider on two halves of array with params l={l} and r={r}, res is now {res}\")\n",
    "        return res\n",
    "        \n",
    "    #print(f'will run divider with params l={l}, r={r}, res={res}')\n",
    "    res = divider(l,r, res)\n",
    "    return res      "
   ]
  },
  {
   "cell_type": "code",
   "execution_count": 36,
   "id": "1075f488-b939-4d2e-a5a2-edf48a090476",
   "metadata": {},
   "outputs": [
    {
     "name": "stdout",
     "output_type": "stream",
     "text": [
      "Func result for arr=[3, -9, 2, 4, -1, 5, 5, -4]: 6\n",
      "Func result for arr=[1]: 1\n",
      "Func result for arr=[-1, -2]: -1\n"
     ]
    }
   ],
   "source": [
    "arr = [3, -9, 2, 4, -1, 5, 5, -4]\n",
    "print(f\"Func result for arr={arr}: {laminal(arr)}\")\n",
    "arr = [1]\n",
    "print(f\"Func result for arr={arr}: {laminal(arr)}\")\n",
    "arr = [-1,-2]\n",
    "print(f\"Func result for arr={arr}: {laminal(arr)}\")"
   ]
  },
  {
   "cell_type": "code",
   "execution_count": 37,
   "id": "a799e39e-f875-41e2-a330-6aff8cb8da71",
   "metadata": {},
   "outputs": [],
   "source": [
    "# The following optimisation avoids calling sum(arr) by instead adding together the max values returned for the two halves\n",
    "\n",
    "def laminal(arr):\n",
    "    def sublaminal(l,r):\n",
    "        if r-l == 1:\n",
    "            return arr[l], arr[l] # We create two outputs so that when applied recursively, subroutine will track both max and sum\n",
    "        m = (l+r)//2\n",
    "        l_max, l_sum = sublaminal(l,m)\n",
    "        r_max, r_sum = sublaminal(m,r)\n",
    "        tot_sum = l_sum+r_sum\n",
    "        return max(l_max, r_max, tot_sum), tot_sum\n",
    "\n",
    "    return sublaminal(0,len(arr))[0]\n",
    "    "
   ]
  },
  {
   "cell_type": "markdown",
   "id": "a1ca1475-f9c3-474a-824b-30b83e059cf1",
   "metadata": {},
   "source": [
    "##### Analysis\n",
    "The depth is $d$ where $2^d = n = len(arr)$. Branching factor $b$ is $2$, which means $b^d = n$, and the amount of work done at each node is constant, $A=1$ (in the optimised version; otherwise, it would have been $log(len(arr))$). Overall time complexity is thus $O(n)$.\n",
    "\n",
    "Spatial complexity requires taking into account the call stack. The maximum recursion depth $d = log_2 n$, hence: $O(log_2 n)$."
   ]
  },
  {
   "cell_type": "code",
   "execution_count": null,
   "id": "ca76c0d4-977f-4c95-af17-ed263ad1787f",
   "metadata": {},
   "outputs": [],
   "source": []
  }
 ],
 "metadata": {
  "kernelspec": {
   "display_name": "Python 3 (ipykernel)",
   "language": "python",
   "name": "python3"
  },
  "language_info": {
   "codemirror_mode": {
    "name": "ipython",
    "version": 3
   },
   "file_extension": ".py",
   "mimetype": "text/x-python",
   "name": "python",
   "nbconvert_exporter": "python",
   "pygments_lexer": "ipython3",
   "version": "3.12.4"
  }
 },
 "nbformat": 4,
 "nbformat_minor": 5
}
