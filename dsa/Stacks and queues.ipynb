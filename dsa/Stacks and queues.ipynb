{
 "cells": [
  {
   "cell_type": "markdown",
   "id": "26d60fe4-628d-4f98-bafb-e3447d95d161",
   "metadata": {},
   "source": [
    "# Stacks and queues\n",
    "A stack has a last in first out structure (LIFO), like a can of pringles. A queue has a first in first out (FIFO) structure. Appending to and popping from are standard with dynamic arrays in python and use $O(1)$ amortized time. A queue struction may require use of the deque collection, as inserting at the start of a dynamic array requires $O(n)$ time."
   ]
  },
  {
   "cell_type": "markdown",
   "id": "78f1fb87-d811-46a7-81e5-8459de2b91bd",
   "metadata": {},
   "source": [
    "#### Compress array\n",
    "Given an array of integers, perform (repeatedly) a compress operation that finds the first consecutive equal numbers and combines them as their sum."
   ]
  },
  {
   "cell_type": "code",
   "execution_count": 3,
   "id": "fb953892-4806-406e-8590-4eabf993962d",
   "metadata": {},
   "outputs": [],
   "source": [
    "# Rather than constantly recomposing the array (with each alteration taking O(n) time), we create a stack. \n",
    "# This allows us to add to or remove from the end with O(n) time. Space complexity is O(n).\n",
    "\n",
    "def compress_array(arr):\n",
    "    n = len(arr)\n",
    "    if n < 2:\n",
    "        return arr\n",
    "    stack = []\n",
    "    i = 0\n",
    "    while i < len(arr):\n",
    "        if stack == []:\n",
    "            stack.append(arr[i])\n",
    "            i += 1\n",
    "        elif stack[-1] == arr[i]:\n",
    "            stack.pop()\n",
    "            arr[i] += arr[i]\n",
    "        else:\n",
    "            stack.append(arr[i])\n",
    "            i += 1\n",
    "    return stack\n",
    "            "
   ]
  },
  {
   "cell_type": "code",
   "execution_count": 11,
   "id": "b0ec1838-eed9-4811-9525-3464665db2f3",
   "metadata": {},
   "outputs": [
    {
     "name": "stdout",
     "output_type": "stream",
     "text": [
      "Compress [8, 4, 2, 2, 2, 4]: [16, 2, 4]\n",
      "Compress [4, 4, 4, 4]: [16]\n",
      "Compress [1, 2, 3, 4]: [1, 2, 3, 4]\n"
     ]
    }
   ],
   "source": [
    "arr = [8,4,2,2,2,4]\n",
    "print(f\"Compress {arr}: {compress_array(arr)}\")\n",
    "arr = [4,4,4,4]\n",
    "print(f\"Compress {arr}: {compress_array(arr)}\")\n",
    "arr = [1,2,3,4]\n",
    "print(f\"Compress {arr}: {compress_array(arr)}\")"
   ]
  },
  {
   "cell_type": "code",
   "execution_count": 9,
   "id": "dc42b15a-4a84-4aaf-8616-b707237a6268",
   "metadata": {},
   "outputs": [],
   "source": [
    "# A more elegant solution...\n",
    "def compress_array(arr):\n",
    "    stack = []\n",
    "    for num in arr:\n",
    "        while stack and stack[-1] == num:\n",
    "            num += stack.pop()\n",
    "        stack.append(num)\n",
    "    return stack"
   ]
  },
  {
   "cell_type": "code",
   "execution_count": null,
   "id": "d2587e2b-9df7-47bd-a570-d5597d712db2",
   "metadata": {},
   "outputs": [],
   "source": []
  }
 ],
 "metadata": {
  "kernelspec": {
   "display_name": "Python 3 (ipykernel)",
   "language": "python",
   "name": "python3"
  },
  "language_info": {
   "codemirror_mode": {
    "name": "ipython",
    "version": 3
   },
   "file_extension": ".py",
   "mimetype": "text/x-python",
   "name": "python",
   "nbconvert_exporter": "python",
   "pygments_lexer": "ipython3",
   "version": "3.12.4"
  }
 },
 "nbformat": 4,
 "nbformat_minor": 5
}
