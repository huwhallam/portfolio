{
 "cells": [
  {
   "cell_type": "markdown",
   "id": "26d60fe4-628d-4f98-bafb-e3447d95d161",
   "metadata": {},
   "source": [
    "# Stacks and queues\n",
    "A stack has a last in first out structure (LIFO), like a can of pringles. A queue has a first in first out (FIFO) structure. Appending to and popping from are standard with dynamic arrays in python and use $O(1)$ amortized time. A queue struction may require use of the deque collection, as inserting at the start of a dynamic array requires $O(n)$ time."
   ]
  },
  {
   "cell_type": "markdown",
   "id": "78f1fb87-d811-46a7-81e5-8459de2b91bd",
   "metadata": {},
   "source": [
    "#### Compress array\n",
    "Given an array of integers, perform (repeatedly) a compress operation that finds the first consecutive equal numbers and combines them as their sum."
   ]
  },
  {
   "cell_type": "code",
   "execution_count": 3,
   "id": "fb953892-4806-406e-8590-4eabf993962d",
   "metadata": {},
   "outputs": [],
   "source": [
    "# Rather than constantly recomposing the array (with each alteration taking O(n) time), we create a stack. \n",
    "# This allows us to add to or remove from the end with O(n) time. Space complexity is O(n).\n",
    "\n",
    "def compress_array(arr):\n",
    "    n = len(arr)\n",
    "    if n < 2:\n",
    "        return arr\n",
    "    stack = []\n",
    "    i = 0\n",
    "    while i < len(arr):\n",
    "        if stack == []:\n",
    "            stack.append(arr[i])\n",
    "            i += 1\n",
    "        elif stack[-1] == arr[i]:\n",
    "            stack.pop()\n",
    "            arr[i] += arr[i]\n",
    "        else:\n",
    "            stack.append(arr[i])\n",
    "            i += 1\n",
    "    return stack\n",
    "            "
   ]
  },
  {
   "cell_type": "code",
   "execution_count": 11,
   "id": "b0ec1838-eed9-4811-9525-3464665db2f3",
   "metadata": {},
   "outputs": [
    {
     "name": "stdout",
     "output_type": "stream",
     "text": [
      "Compress [8, 4, 2, 2, 2, 4]: [16, 2, 4]\n",
      "Compress [4, 4, 4, 4]: [16]\n",
      "Compress [1, 2, 3, 4]: [1, 2, 3, 4]\n"
     ]
    }
   ],
   "source": [
    "arr = [8,4,2,2,2,4]\n",
    "print(f\"Compress {arr}: {compress_array(arr)}\")\n",
    "arr = [4,4,4,4]\n",
    "print(f\"Compress {arr}: {compress_array(arr)}\")\n",
    "arr = [1,2,3,4]\n",
    "print(f\"Compress {arr}: {compress_array(arr)}\")"
   ]
  },
  {
   "cell_type": "code",
   "execution_count": 9,
   "id": "dc42b15a-4a84-4aaf-8616-b707237a6268",
   "metadata": {},
   "outputs": [],
   "source": [
    "# A more elegant solution...\n",
    "def compress_array(arr):\n",
    "    stack = []\n",
    "    for num in arr:\n",
    "        while stack and stack[-1] == num:\n",
    "            num += stack.pop()\n",
    "        stack.append(num)\n",
    "    return stack"
   ]
  },
  {
   "cell_type": "markdown",
   "id": "a474e4b2-047d-4b5f-ae42-e0ababe3942e",
   "metadata": {},
   "source": [
    "#### Compress array by k\n",
    "Given an array of integers and k >= 2, run compress operations repeatedly on the first block of k-repeated entries, each time replacing them with their sum."
   ]
  },
  {
   "cell_type": "code",
   "execution_count": 14,
   "id": "5e00719a-bdff-4dd2-8320-d602f8e6531e",
   "metadata": {},
   "outputs": [],
   "source": [
    "def compress_by_k(arr, k):\n",
    "    if k < 2:\n",
    "        raise ValueError(\"k must be >= 2\")\n",
    "    if len(arr) < k:\n",
    "        return arr\n",
    "    stack = []\n",
    "    for num in arr:\n",
    "        while len(stack) >= k-1 and stack[-k+1:] == [num]*(k-1):\n",
    "            for i in range(k-1):\n",
    "                num += stack.pop()\n",
    "        stack.append(num)\n",
    "    return stack"
   ]
  },
  {
   "cell_type": "code",
   "execution_count": 24,
   "id": "f391620e-5292-4f14-a801-bbb0f5f3be94",
   "metadata": {},
   "outputs": [
    {
     "name": "stdout",
     "output_type": "stream",
     "text": [
      "Compress [1, 9, 9, 3, 3, 3, 4] by 3: [1, 27, 4]\n",
      "Compress [8, 4, 2, 2] by 2: [16]\n",
      "Compress [4, 4, 4, 4] by 5: [4, 4, 4, 4]\n"
     ]
    }
   ],
   "source": [
    "arr = [1,9,9,3,3,3,4]\n",
    "k = 3\n",
    "print(f\"Compress {arr} by {k}: {compress_by_k(arr, k)}\")\n",
    "arr = [8,4,2,2]\n",
    "k = 2\n",
    "print(f\"Compress {arr} by {k}: {compress_by_k(arr, k)}\")\n",
    "arr = [4,4,4,4]\n",
    "k = 5\n",
    "print(f\"Compress {arr} by {k}: {compress_by_k(arr, k)}\")"
   ]
  },
  {
   "cell_type": "code",
   "execution_count": 26,
   "id": "7d17780e-48dd-4bde-a7a9-200b8826b894",
   "metadata": {},
   "outputs": [],
   "source": [
    "# An alternative approach involves using an array within stack to record how many times a number has occurred. \n",
    "# However, this solution is more cumbersome and requires additional and space complexity as an additional array is created.\n",
    "def compress_by_k(arr, k):\n",
    "    stack = []\n",
    "    def merge(num):\n",
    "        if not stack or stack[-1][0] != num:\n",
    "            stack.append([num, 1])\n",
    "        elif stack[-1][1] < k-1:\n",
    "            stack[-1][1] += 1\n",
    "        else:\n",
    "            stack.pop()\n",
    "            merge(num * k)\n",
    "    for num in arr:\n",
    "        merge(num)\n",
    "    result = []\n",
    "    for num, count in stack:\n",
    "        result += [num] * count\n",
    "    return result"
   ]
  },
  {
   "cell_type": "code",
   "execution_count": null,
   "id": "d4f6c5fd-3cf0-4e89-9e25-5dac41cc9327",
   "metadata": {},
   "outputs": [],
   "source": []
  }
 ],
 "metadata": {
  "kernelspec": {
   "display_name": "Python 3 (ipykernel)",
   "language": "python",
   "name": "python3"
  },
  "language_info": {
   "codemirror_mode": {
    "name": "ipython",
    "version": 3
   },
   "file_extension": ".py",
   "mimetype": "text/x-python",
   "name": "python",
   "nbconvert_exporter": "python",
   "pygments_lexer": "ipython3",
   "version": "3.12.4"
  }
 },
 "nbformat": 4,
 "nbformat_minor": 5
}
