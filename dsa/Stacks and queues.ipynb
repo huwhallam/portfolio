{
 "cells": [
  {
   "cell_type": "markdown",
   "id": "26d60fe4-628d-4f98-bafb-e3447d95d161",
   "metadata": {},
   "source": [
    "# Stacks and queues\n",
    "A stack has a last in first out structure (LIFO), like a can of pringles. A queue has a first in first out (FIFO) structure. Appending to and popping from are standard with dynamic arrays in python and use $O(1)$ amortized time. A queue struction may require use of the deque collection, as inserting at the start of a dynamic array requires $O(n)$ time."
   ]
  },
  {
   "cell_type": "markdown",
   "id": "78f1fb87-d811-46a7-81e5-8459de2b91bd",
   "metadata": {},
   "source": [
    "#### Compress array\n",
    "Given an array of integers, perform (repeatedly) a compress operation that finds the first consecutive equal numbers and combines them as their sum."
   ]
  },
  {
   "cell_type": "code",
   "execution_count": 3,
   "id": "fb953892-4806-406e-8590-4eabf993962d",
   "metadata": {},
   "outputs": [],
   "source": [
    "# Rather than constantly recomposing the array (with each alteration taking O(n) time), we create a stack. \n",
    "# This allows us to add to or remove from the end with O(n) time. Space complexity is O(n).\n",
    "\n",
    "def compress_array(arr):\n",
    "    n = len(arr)\n",
    "    if n < 2:\n",
    "        return arr\n",
    "    stack = []\n",
    "    i = 0\n",
    "    while i < len(arr):\n",
    "        if stack == []:\n",
    "            stack.append(arr[i])\n",
    "            i += 1\n",
    "        elif stack[-1] == arr[i]:\n",
    "            stack.pop()\n",
    "            arr[i] += arr[i]\n",
    "        else:\n",
    "            stack.append(arr[i])\n",
    "            i += 1\n",
    "    return stack\n",
    "            "
   ]
  },
  {
   "cell_type": "code",
   "execution_count": 4,
   "id": "b0ec1838-eed9-4811-9525-3464665db2f3",
   "metadata": {},
   "outputs": [
    {
     "name": "stdout",
     "output_type": "stream",
     "text": [
      "Compress [8, 4, 2, 2, 2, 4]: [16, 2, 4]\n",
      "Compress [4, 4, 4, 4]: [16]\n",
      "Compress [1, 2, 3, 4]: [1, 2, 3, 4]\n"
     ]
    }
   ],
   "source": [
    "arr = [8,4,2,2,2,4]\n",
    "print(f\"Compress {arr}: {compress_array(arr)}\")\n",
    "arr = [4,4,4,4]\n",
    "print(f\"Compress {arr}: {compress_array(arr)}\")\n",
    "arr = [1,2,3,4]\n",
    "print(f\"Compress {arr}: {compress_array(arr)}\")"
   ]
  },
  {
   "cell_type": "code",
   "execution_count": 5,
   "id": "dc42b15a-4a84-4aaf-8616-b707237a6268",
   "metadata": {},
   "outputs": [],
   "source": [
    "# A more elegant solution...\n",
    "def compress_array(arr):\n",
    "    stack = []\n",
    "    for num in arr:\n",
    "        while stack and stack[-1] == num:\n",
    "            num += stack.pop()\n",
    "        stack.append(num)\n",
    "    return stack"
   ]
  },
  {
   "cell_type": "markdown",
   "id": "a474e4b2-047d-4b5f-ae42-e0ababe3942e",
   "metadata": {},
   "source": [
    "#### Compress array by k\n",
    "Given an array of integers and k >= 2, run compress operations repeatedly on the first block of k-repeated entries, each time replacing them with their sum."
   ]
  },
  {
   "cell_type": "code",
   "execution_count": 7,
   "id": "5e00719a-bdff-4dd2-8320-d602f8e6531e",
   "metadata": {},
   "outputs": [],
   "source": [
    "def compress_by_k(arr, k):\n",
    "    if k < 2:\n",
    "        raise ValueError(\"k must be >= 2\")\n",
    "    if len(arr) < k:\n",
    "        return arr\n",
    "    stack = []\n",
    "    for num in arr:\n",
    "        while len(stack) >= k-1 and stack[-k+1:] == [num]*(k-1):\n",
    "            for i in range(k-1):\n",
    "                num += stack.pop()\n",
    "        stack.append(num)\n",
    "    return stack"
   ]
  },
  {
   "cell_type": "code",
   "execution_count": 8,
   "id": "f391620e-5292-4f14-a801-bbb0f5f3be94",
   "metadata": {},
   "outputs": [
    {
     "name": "stdout",
     "output_type": "stream",
     "text": [
      "Compress [1, 9, 9, 3, 3, 3, 4] by 3: [1, 27, 4]\n",
      "Compress [8, 4, 2, 2] by 2: [16]\n",
      "Compress [4, 4, 4, 4] by 5: [4, 4, 4, 4]\n"
     ]
    }
   ],
   "source": [
    "arr = [1,9,9,3,3,3,4]\n",
    "k = 3\n",
    "print(f\"Compress {arr} by {k}: {compress_by_k(arr, k)}\")\n",
    "arr = [8,4,2,2]\n",
    "k = 2\n",
    "print(f\"Compress {arr} by {k}: {compress_by_k(arr, k)}\")\n",
    "arr = [4,4,4,4]\n",
    "k = 5\n",
    "print(f\"Compress {arr} by {k}: {compress_by_k(arr, k)}\")"
   ]
  },
  {
   "cell_type": "code",
   "execution_count": 9,
   "id": "7d17780e-48dd-4bde-a7a9-200b8826b894",
   "metadata": {},
   "outputs": [],
   "source": [
    "# An alternative approach involves using an array within stack to record how many times a number has occurred. \n",
    "# However, this solution is more cumbersome and requires additional and space complexity as an additional array is created.\n",
    "def compress_by_k(arr, k):\n",
    "    stack = []\n",
    "    def merge(num):\n",
    "        if not stack or stack[-1][0] != num:\n",
    "            stack.append([num, 1])\n",
    "        elif stack[-1][1] < k-1:\n",
    "            stack[-1][1] += 1\n",
    "        else:\n",
    "            stack.pop()\n",
    "            merge(num * k)\n",
    "    for num in arr:\n",
    "        merge(num)\n",
    "    result = []\n",
    "    for num, count in stack:\n",
    "        result += [num] * count\n",
    "    return result"
   ]
  },
  {
   "cell_type": "markdown",
   "id": "36c7c379-5be1-4960-b42e-4d3dab99425d",
   "metadata": {},
   "source": [
    "#### Viewer counter class\n",
    "Implement a `ViewerCounter` class that tracks viewer counts within a configurable time window for a live-stream event. Viewer types may be 'guest', 'follower' and 'subscriber'."
   ]
  },
  {
   "cell_type": "code",
   "execution_count": 11,
   "id": "d7ca1b44-e570-441f-9696-47bdb8fb10c6",
   "metadata": {},
   "outputs": [],
   "source": [
    "# Dynamic arrays in python cannot be used efficiently to implement queue structures, as you can't pop efficiently from the front of them.\n",
    "# As such, this code uses a generic Queue() api.\n",
    "\n",
    "class ViewerCounter:\n",
    "    def __init__(self, window):\n",
    "        self.queues = {'guest': Queue(), 'follower': Queue(), 'subscriber': Queue()}\n",
    "        self.window = window\n",
    "        if window < 1:\n",
    "            raise IndexError('Window size must be >= 1')\n",
    "    def join(self, t, v):\n",
    "        self.queues[v].push(t)\n",
    "    def get_viewers(self, t, v):\n",
    "        queue = self.queues[v]\n",
    "        while not queue.empty() and queue.peek() < t - self.window:\n",
    "            queue.pop() # this removes all viewers from before the time window starts\n",
    "        return queue.size()"
   ]
  },
  {
   "cell_type": "markdown",
   "id": "e8203005-0e78-4e9c-8d47-26b1d380dd5f",
   "metadata": {},
   "source": [
    "#### Current URL\n",
    "Implement back arrow browser functionality using an array of actions undertaken by a user. Each element in actions has two elements: go or back, and a URL string (if go) or a number $\\ge 1$ denoting the number of times the user goes back. The first action is always go; the URL stays the same if there are no previous ones. Return the URL after all actions have been performed."
   ]
  },
  {
   "cell_type": "code",
   "execution_count": 13,
   "id": "238902cf-1bf3-44bc-8764-1011cf95057f",
   "metadata": {},
   "outputs": [],
   "source": [
    "def current_url(actions):\n",
    "    stack = []\n",
    "    for action, value in actions:\n",
    "        if action == 'go':\n",
    "            stack.append(value)\n",
    "        else:\n",
    "            for v in range(value):\n",
    "                if len(stack) ==1:\n",
    "                    break\n",
    "                else:\n",
    "                    stack.pop()\n",
    "    return stack.pop()\n",
    "                "
   ]
  },
  {
   "cell_type": "code",
   "execution_count": 14,
   "id": "b58559f6-059a-4c6e-a21a-592408dd648d",
   "metadata": {},
   "outputs": [
    {
     "data": {
      "text/plain": [
       "'wikipedia.com'"
      ]
     },
     "execution_count": 14,
     "metadata": {},
     "output_type": "execute_result"
    }
   ],
   "source": [
    "actions = [['go', 'google.com'], ['go', 'wikipedia.com'], ['go', 'amazon.com'], ['back', 1], \n",
    "           ['go', 'youtube.com'], ['go', 'netflix.com'], ['back', 2]]\n",
    "\n",
    "current_url(actions)"
   ]
  },
  {
   "cell_type": "markdown",
   "id": "be3eab28-83af-47cb-a913-75db8cf05d48",
   "metadata": {},
   "source": [
    "#### Current URL with forward\n",
    "Now add 'forward' functionality, which reverses the back functionality. Note that a 'go' instruction clears the option to go forward and going forward past the most recent page does nothing."
   ]
  },
  {
   "cell_type": "code",
   "execution_count": 16,
   "id": "3e151de6-4944-458a-b5e5-cf21feb89226",
   "metadata": {},
   "outputs": [],
   "source": [
    "def current_url_forward(actions):\n",
    "    stack = []\n",
    "    back_stack = []\n",
    "    for action, value in actions:\n",
    "        if action == 'go':\n",
    "            stack.append(value)\n",
    "            back_stack = []\n",
    "        elif action == 'back':\n",
    "            while value > 0 and len(stack) > 1:\n",
    "                back_stack.append(stack.pop())\n",
    "                value -= 1    \n",
    "        else:\n",
    "            while value > 0 and len(back_stack) > 0:\n",
    "                stack.append(back_stack.pop())\n",
    "                value -= 1\n",
    "    return stack.pop()"
   ]
  },
  {
   "cell_type": "code",
   "execution_count": 17,
   "id": "0a21abd8-0115-4e97-8c3d-863f4862b858",
   "metadata": {},
   "outputs": [
    {
     "data": {
      "text/plain": [
       "'netflix.com'"
      ]
     },
     "execution_count": 17,
     "metadata": {},
     "output_type": "execute_result"
    }
   ],
   "source": [
    "actions = [['go', 'google.com'], ['go', 'wikipedia.com'], ['back', 1], ['forward', 1], \n",
    "           ['back', 3], ['go', 'netflix.com'], ['forward', 3]]\n",
    "\n",
    "current_url_forward(actions)"
   ]
  },
  {
   "cell_type": "markdown",
   "id": "51337fa6-4e39-4d09-886b-a15b502a2ed3",
   "metadata": {},
   "source": [
    "#### Balanced partition\n",
    "Given a balanced string of parentheses, return the number of balanced substrings it contains."
   ]
  },
  {
   "cell_type": "code",
   "execution_count": 19,
   "id": "41db8e35-0dbf-4646-89c8-60f6258d1269",
   "metadata": {},
   "outputs": [],
   "source": [
    "def balanced_partition(s):\n",
    "    depth = 0\n",
    "    res = 0\n",
    "    for c in s:\n",
    "        if c == '(':\n",
    "            depth += 1\n",
    "        else:\n",
    "            depth -= 1\n",
    "            if depth == 0:\n",
    "                res += 1\n",
    "    return res"
   ]
  },
  {
   "cell_type": "code",
   "execution_count": 20,
   "id": "b62dfab2-2ed6-43fb-bb75-472ce0ebb625",
   "metadata": {},
   "outputs": [
    {
     "data": {
      "text/plain": [
       "4"
      ]
     },
     "execution_count": 20,
     "metadata": {},
     "output_type": "execute_result"
    }
   ],
   "source": [
    "s = \"((()))(()())()(()(())))\"\n",
    "balanced_partition(s)"
   ]
  },
  {
   "cell_type": "markdown",
   "id": "39fe9f78-6a56-4a78-9b0a-6e9f78ddbc17",
   "metadata": {},
   "source": [
    "#### Custom brackets\n",
    "You are given a string and an array of bracket pairs. Return whether the string is balanced in terms of the bracket pairs."
   ]
  },
  {
   "cell_type": "code",
   "execution_count": 22,
   "id": "2fef121b-e973-41fd-9fea-d47ce0c748b2",
   "metadata": {},
   "outputs": [],
   "source": [
    "def custom_brackets(s, arr):\n",
    "    brack_stack = []\n",
    "    for c in s:\n",
    "        for bracket in arr:\n",
    "            if c == bracket[0]:\n",
    "                brack_stack.append(c)\n",
    "            elif c == bracket[1]:\n",
    "                if not brack_stack or brack_stack.pop() != bracket[0]:\n",
    "                    return False\n",
    "    return not brack_stack\n",
    "# Note this solution has time complexity O(s*n). A slightly more efficient result could be achieved \n",
    "# by creating a a dictionary of opening brackets and set of closed brackets. There is a trade-off here with space complexity. \n",
    "# In any case, n is unlikely to be large."
   ]
  },
  {
   "cell_type": "code",
   "execution_count": 23,
   "id": "d04dc571-8ab7-44d2-9d46-a0df87c65147",
   "metadata": {},
   "outputs": [
    {
     "name": "stdout",
     "output_type": "stream",
     "text": [
      "Checking for these balanced bracket pairs - ['()', '[]', '{}'] - in '((a+b)*[c-d]-{e/f})': True\n",
      "Checking for these balanced bracket pairs - ['()', '[]', '{}'] - in '()[}': False\n",
      "Checking for these balanced bracket pairs - ['()', '[]', '{}'] - in '([)]': False\n",
      "Checking for these balanced bracket pairs - ['<>', '()'] - in ',div. hello :) </div>': False\n"
     ]
    }
   ],
   "source": [
    "s = \"((a+b)*[c-d]-{e/f})\"\n",
    "brackets = [\"()\", \"[]\", \"{}\"]\n",
    "print(f\"Checking for these balanced bracket pairs - {brackets} - in '{s}': {custom_brackets(s, brackets)}\")\n",
    "\n",
    "s = \"()[}\"\n",
    "brackets = [\"()\", \"[]\", \"{}\"]\n",
    "print(f\"Checking for these balanced bracket pairs - {brackets} - in '{s}': {custom_brackets(s, brackets)}\")\n",
    "\n",
    "s = \"([)]\"\n",
    "brackets = [\"()\", \"[]\", \"{}\"]\n",
    "print(f\"Checking for these balanced bracket pairs - {brackets} - in '{s}': {custom_brackets(s, brackets)}\")\n",
    "\n",
    "s = \",div. hello :) </div>\"\n",
    "brackets = [\"<>\", \"()\"]\n",
    "print(f\"Checking for these balanced bracket pairs - {brackets} - in '{s}': {custom_brackets(s, brackets)}\")"
   ]
  },
  {
   "cell_type": "markdown",
   "id": "0ee23c18-e03a-4ef1-8d82-f1fffda0829c",
   "metadata": {},
   "source": [
    "#### Longest balanced subsequence\n",
    "Given a string of parentheses, return the longest balanced substring."
   ]
  },
  {
   "cell_type": "code",
   "execution_count": 45,
   "id": "f6a59852-4c20-4b76-8914-9d96c8ebd6e3",
   "metadata": {},
   "outputs": [],
   "source": [
    "def longest_balanced_substring(s):\n",
    "    stack = []\n",
    "    removals = set()\n",
    "    for i, c in enumerate(s):\n",
    "        if c == \"(\":\n",
    "            stack.append(i)\n",
    "        elif not stack: \n",
    "            removals.add(i) # This will remove any unbalaced closing parentheses\n",
    "        else:\n",
    "            stack.pop()\n",
    "    # The stack now contains the indices of any unbalanced opening parentheses - the following will remove them from the string\n",
    "    for i in stack:\n",
    "        removals.add(i)\n",
    "    substring = ''.join([s[i] for i in range(len(s)) if i not in removals])\n",
    "    return substring\n",
    "        "
   ]
  },
  {
   "cell_type": "code",
   "execution_count": 47,
   "id": "065fbd5b-0f6f-42ed-ab48-d5d9953d68dd",
   "metadata": {},
   "outputs": [
    {
     "name": "stdout",
     "output_type": "stream",
     "text": [
      "Retrieving longest balanced subsequence from '))(())(()': (())()\n",
      "Retrieving longest balanced subsequence from '(()(()(': ()()\n",
      "Retrieving longest balanced subsequence from '())(()': ()()\n",
      "Retrieving longest balanced subsequence from '(': \n"
     ]
    }
   ],
   "source": [
    "s = \"))(())(()\"\n",
    "print(f\"Retrieving longest balanced subsequence from '{s}': {longest_balanced_substring(s)}\")\n",
    "s = \"(()(()(\"\n",
    "print(f\"Retrieving longest balanced subsequence from '{s}': {longest_balanced_substring(s)}\")\n",
    "s = \"())(()\"\n",
    "print(f\"Retrieving longest balanced subsequence from '{s}': {longest_balanced_substring(s)}\")\n",
    "s = \"(\"\n",
    "print(f\"Retrieving longest balanced subsequence from '{s}': {longest_balanced_substring(s)}\")"
   ]
  },
  {
   "cell_type": "code",
   "execution_count": null,
   "id": "3793c657-77fd-44cc-9c93-672e51d9290b",
   "metadata": {},
   "outputs": [],
   "source": []
  }
 ],
 "metadata": {
  "kernelspec": {
   "display_name": "Python 3 (ipykernel)",
   "language": "python",
   "name": "python3"
  },
  "language_info": {
   "codemirror_mode": {
    "name": "ipython",
    "version": 3
   },
   "file_extension": ".py",
   "mimetype": "text/x-python",
   "name": "python",
   "nbconvert_exporter": "python",
   "pygments_lexer": "ipython3",
   "version": "3.12.4"
  }
 },
 "nbformat": 4,
 "nbformat_minor": 5
}
